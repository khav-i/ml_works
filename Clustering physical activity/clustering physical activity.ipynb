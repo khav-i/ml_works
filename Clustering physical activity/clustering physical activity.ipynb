{
 "cells": [
  {
   "cell_type": "markdown",
   "metadata": {},
   "source": [
    "# <center> Исследование данных Samsung. Кластеризация физической активности пользователей\n",
    "\n",
    "<center> <img src=https://lms-cdn.skillfactory.ru/assets/courseware/v1/e331f114a292789870501bc8cecd1399/asset-v1:SkillFactory+DSPR-2.0+14JULY2021+type@asset+block/MATHML_md11_4_1.jpg align=\"right\" width=\"300\"/> </center>\n",
    "\n",
    "В этой работе мы попрактикуемся в решении задач кластеризации и используем полученные знания, чтобы оценить результаты.\n",
    "\n",
    "Мы будем использовать данные, взятые с датчиков акселерометров и гироскопов смартфонов Samsung Galaxy S3. Телефоны носили в кармане добровольцы в возрасте от 19 до 49 лет. Смартфоны постоянно фиксировали значения ускорения и скорости по трём измерениям, а поведение людей записывали на видео, чтобы вручную отметить, какую физическую активность осуществлял человек в тот или иной момент.\n",
    "\n",
    "Данные содержат следующие признаки:\n",
    "* различные показатели с акселерометра и гироскопа;\n",
    "* метка активности (физическая активность человека в конкретный момент).\n",
    "\n",
    "Попробуем на основе данных с гироскопа и акселерометра разделить активности людей на некоторые схожие по своим характеристикам группы. В идеале наблюдения во время ходьбы должны попасть в один кластер, наблюдения во время подъёма по лестнице — в другой и т. д."
   ]
  },
  {
   "cell_type": "code",
   "execution_count": 23,
   "metadata": {},
   "outputs": [],
   "source": [
    "# Импорт библиотек\n",
    "import pandas as pd # для работы с таблицами\n",
    "import numpy as np # для работы с числами\n",
    "from sklearn.preprocessing import StandardScaler # стандартизация данных\n",
    "from sklearn.decomposition import PCA # для понижения размерности\n",
    "from sklearn.cluster import KMeans # кластеризация по к-средних\n",
    "from sklearn.cluster import AgglomerativeClustering # аггломеративная кластеризация\n",
    "from scipy.cluster.hierarchy import dendrogram, linkage # для отрисовки дерева\n",
    "from sklearn.cluster import DBSCAN # пространственная кластеризация \n",
    "from sklearn.mixture import GaussianMixture # гауссова смесь\n",
    "# Метрики\n",
    "from sklearn.metrics import silhouette_score, davies_bouldin_score, calinski_harabasz_score\n",
    "from sklearn.metrics import homogeneity_score, completeness_score, adjusted_rand_score\n",
    "# Для графики и отображения\n",
    "import matplotlib.pyplot as plt\n",
    "import seaborn as sns\n",
    "%matplotlib inline\n",
    "plt.style.use('seaborn-v0_8')\n",
    "# Подавление варнов\n",
    "import warnings\n",
    "warnings.filterwarnings('ignore')"
   ]
  },
  {
   "cell_type": "markdown",
   "metadata": {},
   "source": [
    "## Загрузка и обработка данных\n",
    "\n",
    "Так как изначально данные были представлены для решения задачи классификации, то они находятся в разных файлах (обучающая и тестовая выборки в соотношении 70/30). Соединим признаки так, чтобы сначала шла обучающая выборка, а затем — тестовая, и отдельно соединим значения целевых переменных."
   ]
  },
  {
   "cell_type": "code",
   "execution_count": 2,
   "metadata": {},
   "outputs": [
    {
     "name": "stdout",
     "output_type": "stream",
     "text": [
      "Число наблюдений: 10299\n",
      "Число фич: 561\n"
     ]
    }
   ],
   "source": [
    "X_train = np.loadtxt(\"data/train.txt\")\n",
    "y_train = np.loadtxt(\"data/train_labels.txt\")\n",
    " \n",
    "X_test = np.loadtxt(\"data/test.txt\")\n",
    "y_test = np.loadtxt(\"data/test_labels.txt\")\n",
    "\n",
    "X = np.concatenate((X_train, X_test))\n",
    "y = np.concatenate((y_train, y_test))\n",
    "\n",
    "print(f'Число наблюдений: {X.shape[0]}\\n', f'Число фич: {X.shape[1]}', sep='')"
   ]
  },
  {
   "cell_type": "markdown",
   "metadata": {},
   "source": [
    "Найдем также число различных активностей — на сколько кластеров в идеале должны разделиться наблюдения."
   ]
  },
  {
   "cell_type": "code",
   "execution_count": 3,
   "metadata": {},
   "outputs": [
    {
     "name": "stdout",
     "output_type": "stream",
     "text": [
      "Список лейблов целевой переменной:  [1, 2, 3, 4, 5, 6]\n",
      "Список размеров истинных кластеров: [1722, 1544, 1406, 1777, 1906, 1944]\n"
     ]
    }
   ],
   "source": [
    "print(\n",
    "    'Список лейблов целевой переменной: ',\n",
    "    list(map(int, list(np.unique(y, return_counts=True)[0])))\n",
    ")\n",
    "print(\n",
    "    'Список размеров истинных кластеров:',\n",
    "    list(np.unique(y, return_counts=True)[1])\n",
    ")"
   ]
  },
  {
   "cell_type": "markdown",
   "metadata": {},
   "source": [
    "Как видим, есть ряд активностей, обозначенных цифрами. Эти метки означают следующее:\n",
    "\n",
    "- 1 — ходьба;\n",
    "- 2 — подъём;\n",
    "- 3 — спуск;\n",
    "- 4 — сидение;\n",
    "- 5 — стояние;\n",
    "- 6 — лежание."
   ]
  },
  {
   "cell_type": "markdown",
   "metadata": {},
   "source": [
    "Далее необходимо отмасштабировать признаки. Будем использовать для этого алгоритм StandardScaler."
   ]
  },
  {
   "cell_type": "code",
   "execution_count": 4,
   "metadata": {},
   "outputs": [],
   "source": [
    "scaler = StandardScaler()\n",
    "X_norm = scaler.fit_transform(X)"
   ]
  },
  {
   "cell_type": "markdown",
   "metadata": {},
   "source": [
    "Исследуем корреляцию, рассчитаем ранг и определитель матрицы. "
   ]
  },
  {
   "cell_type": "code",
   "execution_count": 5,
   "metadata": {},
   "outputs": [
    {
     "name": "stdout",
     "output_type": "stream",
     "text": [
      "Число столбцов: 561\n",
      "Ранг матрицы:   470\n",
      "Определитель:   0.0\n"
     ]
    }
   ],
   "source": [
    "# Матрица корреляций\n",
    "X_corr = np.corrcoef(X_norm.T)\n",
    "# Параметры матрицы\n",
    "print('Число столбцов:', X_corr.shape[1])\n",
    "print('Ранг матрицы:  ', np.linalg.matrix_rank(X_corr))\n",
    "print('Определитель:  ', np.linalg.det(X_corr))"
   ]
  },
  {
   "cell_type": "markdown",
   "metadata": {},
   "source": [
    "Понизим размерность данных с помощью метода главных компонент."
   ]
  },
  {
   "cell_type": "code",
   "execution_count": 6,
   "metadata": {},
   "outputs": [
    {
     "name": "stdout",
     "output_type": "stream",
     "text": [
      "Число компонент: 157\n",
      "Число столбцов: 157\n",
      "Ранг матрицы:   157\n",
      "Определитель:   0.999999999999993\n"
     ]
    }
   ],
   "source": [
    "# Определяем метод таким образом, чтобы отобранные им\n",
    "# компоненты объясняли не менее 99 % разброса данных\n",
    "pca = PCA(n_components=0.99)\n",
    "# Обучаем алгоритм на наших данных\n",
    "X_pca = pca.fit_transform(X)\n",
    "print(f'Число компонент: {len(X_pca[0])}')\n",
    "# Матрица корреляций\n",
    "corr_X_pca = np.corrcoef(X_pca.T)\n",
    "# Параметры матрицы\n",
    "print('Число столбцов:', corr_X_pca.shape[1])\n",
    "print('Ранг матрицы:  ', np.linalg.matrix_rank(corr_X_pca))\n",
    "print('Определитель:  ', np.linalg.det(corr_X_pca))"
   ]
  },
  {
   "cell_type": "markdown",
   "metadata": {},
   "source": [
    "## Кластеризация\n",
    "\n",
    "### KMeans\n",
    "\n",
    "Для начала определим оптимальное количество кластеров, используя внутренние меры кластеризации. Воспользуемся для этого расчетом коэффициента силуэта, индекса Калински — Харабаса и индекса Дэвиса — Болдина.\n",
    "\n",
    "Выведем оптимальное количество кластеров для каждой метрики, перебирая значения от 2 до 9 включительно.\n",
    "\n",
    "#### Расчет внутренних мер"
   ]
  },
  {
   "cell_type": "code",
   "execution_count": 7,
   "metadata": {},
   "outputs": [
    {
     "name": "stdout",
     "output_type": "stream",
     "text": [
      "Число кластеров с оптимальным коэффициентом силуэта: 2, 0.49\n",
      "Число кластеров с оптимальным индексом Калински-Харабаса: 2, 13909.17\n",
      "Число кластеров с оптимальным индексом Дэвиса-Болдина: 2, 0.83\n"
     ]
    }
   ],
   "source": [
    "silhouette, calinski_harabasz, davies_bouldin = dict(), dict(), dict()\n",
    "# проходимся циклом по всем нужным нам значениям количества кластеров\n",
    "for i in range(2,10):\n",
    "\t# обучаем модель k-means с текущим количеством кластеров\n",
    "    km = KMeans(n_clusters=i, n_init=10, random_state=42).fit(X_pca)\n",
    "\t#п редсказываем метки\n",
    "    y_pred = km.labels_\n",
    "\t# выводим результат для коэффициента силуэта\n",
    "    silhouette[i] = silhouette_score(X_pca, y_pred)\n",
    "    calinski_harabasz[i] = calinski_harabasz_score(X_pca, y_pred)\n",
    "    davies_bouldin[i] = davies_bouldin_score(X_pca, y_pred)\n",
    "\n",
    "n_kl_silh = sorted(silhouette, key=lambda x: silhouette[x], reverse=True)[0]\n",
    "print(f'Число кластеров с оптимальным коэффициентом силуэта: {n_kl_silh}, {round(silhouette[n_kl_silh], 2)}')\n",
    "n_kl_ch = sorted(calinski_harabasz, key=lambda x: calinski_harabasz[x], reverse=True)[0]\n",
    "print(f'Число кластеров с оптимальным индексом Калински-Харабаса: {n_kl_ch}, {round(calinski_harabasz[n_kl_ch], 2)}')\n",
    "n_kl_db = sorted(davies_bouldin, key=lambda x: davies_bouldin[x])[0]\n",
    "print(f'Число кластеров с оптимальным индексом Дэвиса-Болдина: {n_kl_db}, {round(davies_bouldin[n_kl_db], 2)}')"
   ]
  },
  {
   "cell_type": "markdown",
   "metadata": {},
   "source": [
    "Может показаться удивительным, что все три меры единодушно выдали такое расхождение с реальным разделением на кластеры. Однако это совершенно не значит, что они сошлись на неверном значении или что алгоритмы кластеризации работают некорректно. Возможно, такое разделение на другое количество кластеров можно объяснить — позднее мы еще к этому вернемся."
   ]
  },
  {
   "cell_type": "markdown",
   "metadata": {},
   "source": [
    "#### Расчет внешних мер\n",
    "\n",
    "Теперь оценим качество кластеризации с точки зрения внешних мер. Реализуем кластеризацию с помощью классической версии алгоритма k-means. Пусть количество кластеров будет соответствовать реальному числу детектируемых типов активности."
   ]
  },
  {
   "cell_type": "code",
   "execution_count": 8,
   "metadata": {},
   "outputs": [
    {
     "name": "stdout",
     "output_type": "stream",
     "text": [
      "Значение однородности: 0.58\n",
      "Значение полноты: 0.6\n",
      "Значение скорректированного индекса Рэнда: 0.46\n"
     ]
    }
   ],
   "source": [
    "# Определяем модель k-means\n",
    "model= KMeans(\n",
    "    n_clusters=6,\n",
    "    init='random',\n",
    "    n_init=10,\n",
    "    random_state=42\n",
    ")\n",
    "# Обучаем модель\n",
    "model.fit(X_pca)\n",
    "# Выводим метрики\n",
    "print(f'Значение однородности: {round(homogeneity_score(y, model.labels_), 2)}')\n",
    "print(f'Значение полноты: {round(completeness_score(y, model.labels_), 2)}')\n",
    "print(f'Значение скорректированного индекса Рэнда: {round(adjusted_rand_score(y, model.labels_), 2)}')"
   ]
  },
  {
   "cell_type": "markdown",
   "metadata": {},
   "source": [
    "#### Классификация активности\n",
    "\n",
    "Выясним, к каким кластерам были преимущественно отнесены различные активности (т. е. в какой кластер попало большинство наблюдений с этой активностью)."
   ]
  },
  {
   "cell_type": "code",
   "execution_count": 9,
   "metadata": {},
   "outputs": [
    {
     "data": {
      "text/html": [
       "<div>\n",
       "<style scoped>\n",
       "    .dataframe tbody tr th:only-of-type {\n",
       "        vertical-align: middle;\n",
       "    }\n",
       "\n",
       "    .dataframe tbody tr th {\n",
       "        vertical-align: top;\n",
       "    }\n",
       "\n",
       "    .dataframe thead th {\n",
       "        text-align: right;\n",
       "    }\n",
       "</style>\n",
       "<table border=\"1\" class=\"dataframe\">\n",
       "  <thead>\n",
       "    <tr style=\"text-align: right;\">\n",
       "      <th></th>\n",
       "      <th>1</th>\n",
       "      <th>2</th>\n",
       "      <th>3</th>\n",
       "      <th>4</th>\n",
       "      <th>5</th>\n",
       "      <th>6</th>\n",
       "    </tr>\n",
       "  </thead>\n",
       "  <tbody>\n",
       "    <tr>\n",
       "      <th>ходьба</th>\n",
       "      <td>872</td>\n",
       "      <td>694</td>\n",
       "      <td>0</td>\n",
       "      <td>0</td>\n",
       "      <td>156</td>\n",
       "      <td>0</td>\n",
       "    </tr>\n",
       "    <tr>\n",
       "      <th>подъём</th>\n",
       "      <td>299</td>\n",
       "      <td>1163</td>\n",
       "      <td>0</td>\n",
       "      <td>0</td>\n",
       "      <td>82</td>\n",
       "      <td>0</td>\n",
       "    </tr>\n",
       "    <tr>\n",
       "      <th>спуск</th>\n",
       "      <td>757</td>\n",
       "      <td>186</td>\n",
       "      <td>0</td>\n",
       "      <td>0</td>\n",
       "      <td>463</td>\n",
       "      <td>0</td>\n",
       "    </tr>\n",
       "    <tr>\n",
       "      <th>сидение</th>\n",
       "      <td>0</td>\n",
       "      <td>3</td>\n",
       "      <td>467</td>\n",
       "      <td>49</td>\n",
       "      <td>0</td>\n",
       "      <td>1258</td>\n",
       "    </tr>\n",
       "    <tr>\n",
       "      <th>стояние</th>\n",
       "      <td>0</td>\n",
       "      <td>0</td>\n",
       "      <td>666</td>\n",
       "      <td>0</td>\n",
       "      <td>0</td>\n",
       "      <td>1240</td>\n",
       "    </tr>\n",
       "    <tr>\n",
       "      <th>лежание</th>\n",
       "      <td>0</td>\n",
       "      <td>12</td>\n",
       "      <td>171</td>\n",
       "      <td>1761</td>\n",
       "      <td>0</td>\n",
       "      <td>0</td>\n",
       "    </tr>\n",
       "  </tbody>\n",
       "</table>\n",
       "</div>"
      ],
      "text/plain": [
       "           1     2    3     4    5     6\n",
       "ходьба   872   694    0     0  156     0\n",
       "подъём   299  1163    0     0   82     0\n",
       "спуск    757   186    0     0  463     0\n",
       "сидение    0     3  467    49    0  1258\n",
       "стояние    0     0  666     0    0  1240\n",
       "лежание    0    12  171  1761    0     0"
      ]
     },
     "execution_count": 9,
     "metadata": {},
     "output_type": "execute_result"
    }
   ],
   "source": [
    "# создаём таблицу сопряжённости\n",
    "ct = pd.crosstab(y, model.labels_)\n",
    "# определяем название активностей\n",
    "ct.index = ['ходьба', 'подъём', \n",
    "            'спуск', 'сидение',\n",
    "            'стояние', 'лежание'\n",
    "]\n",
    "ct.columns = list(range(1,7))\n",
    "ct"
   ]
  },
  {
   "cell_type": "markdown",
   "metadata": {},
   "source": [
    "Теперь попробуем реализовать алгоритм k-means для двух кластеров (для того числа активностей, которое является оптимальным с точки зрения внутренних мер) и снова посмотрим, как алгоритм разобьёт активности по кластерам."
   ]
  },
  {
   "cell_type": "code",
   "execution_count": 10,
   "metadata": {},
   "outputs": [
    {
     "data": {
      "text/html": [
       "<div>\n",
       "<style scoped>\n",
       "    .dataframe tbody tr th:only-of-type {\n",
       "        vertical-align: middle;\n",
       "    }\n",
       "\n",
       "    .dataframe tbody tr th {\n",
       "        vertical-align: top;\n",
       "    }\n",
       "\n",
       "    .dataframe thead th {\n",
       "        text-align: right;\n",
       "    }\n",
       "</style>\n",
       "<table border=\"1\" class=\"dataframe\">\n",
       "  <thead>\n",
       "    <tr style=\"text-align: right;\">\n",
       "      <th></th>\n",
       "      <th>1</th>\n",
       "      <th>2</th>\n",
       "    </tr>\n",
       "  </thead>\n",
       "  <tbody>\n",
       "    <tr>\n",
       "      <th>ходьба</th>\n",
       "      <td>1722</td>\n",
       "      <td>0</td>\n",
       "    </tr>\n",
       "    <tr>\n",
       "      <th>подъём</th>\n",
       "      <td>1544</td>\n",
       "      <td>0</td>\n",
       "    </tr>\n",
       "    <tr>\n",
       "      <th>спуск</th>\n",
       "      <td>1406</td>\n",
       "      <td>0</td>\n",
       "    </tr>\n",
       "    <tr>\n",
       "      <th>сидение</th>\n",
       "      <td>3</td>\n",
       "      <td>1774</td>\n",
       "    </tr>\n",
       "    <tr>\n",
       "      <th>стояние</th>\n",
       "      <td>0</td>\n",
       "      <td>1906</td>\n",
       "    </tr>\n",
       "    <tr>\n",
       "      <th>лежание</th>\n",
       "      <td>12</td>\n",
       "      <td>1932</td>\n",
       "    </tr>\n",
       "  </tbody>\n",
       "</table>\n",
       "</div>"
      ],
      "text/plain": [
       "            1     2\n",
       "ходьба   1722     0\n",
       "подъём   1544     0\n",
       "спуск    1406     0\n",
       "сидение     3  1774\n",
       "стояние     0  1906\n",
       "лежание    12  1932"
      ]
     },
     "execution_count": 10,
     "metadata": {},
     "output_type": "execute_result"
    }
   ],
   "source": [
    "# Определяем модель k-means\n",
    "km = KMeans(\n",
    "    n_clusters=2,\n",
    "    init='random',\n",
    "    n_init=10,\n",
    "    random_state=42\n",
    ")\n",
    "# Обучаем модель\n",
    "km.fit(X_pca)\n",
    "\n",
    "ctable = pd.crosstab(y, km.labels_)\n",
    "ctable.index = ['ходьба', 'подъём', \n",
    "                'спуск', 'сидение', \n",
    "                'стояние', 'лежание'\n",
    "]\n",
    "ctable.columns = list(range(1,3))\n",
    "ctable"
   ]
  },
  {
   "cell_type": "markdown",
   "metadata": {},
   "source": [
    "Теперь мы видим, что разбиение на два кластера, которое нам навязчиво предлагали внутренние меры, вполне разумно, так как отражает два принципиально разных класса активностей: неподвижные и подвижные.\n",
    "\n",
    "Об этом же должно свидетельствовать высокое значение полноты получившегося разбиения:"
   ]
  },
  {
   "cell_type": "code",
   "execution_count": 11,
   "metadata": {},
   "outputs": [
    {
     "name": "stdout",
     "output_type": "stream",
     "text": [
      "Значение полноты: 0.99\n"
     ]
    }
   ],
   "source": [
    "print(f'Значение полноты: {round(completeness_score(y, km.labels_), 2)}')"
   ]
  },
  {
   "cell_type": "markdown",
   "metadata": {},
   "source": [
    "### AgglomerativeClustering\n",
    "\n",
    "Сравним полученный результат с агломеративной иерархической кластеризацией. Реализуем её также для двух и шести кластеров и вычислим значение полноты."
   ]
  },
  {
   "cell_type": "code",
   "execution_count": 12,
   "metadata": {},
   "outputs": [
    {
     "name": "stdout",
     "output_type": "stream",
     "text": [
      "Completeness for 6 clusters: 0.68\n",
      "Completeness for 2 clusters: 1.00\n"
     ]
    }
   ],
   "source": [
    "ag_n6 = AgglomerativeClustering(n_clusters=6).fit(X_pca)\n",
    "print(\"Completeness for 6 clusters: %0.2f\" % completeness_score(y, ag_n6.labels_))\n",
    "ag_n2 = AgglomerativeClustering(n_clusters=2).fit(X_pca)\n",
    "print(\"Completeness for 2 clusters: %0.2f\" % completeness_score(y, ag_n2.labels_))"
   ]
  },
  {
   "cell_type": "markdown",
   "metadata": {},
   "source": [
    "Посмотрим на визуализацию аггломеративной кластеризации."
   ]
  },
  {
   "cell_type": "code",
   "execution_count": 13,
   "metadata": {},
   "outputs": [
    {
     "data": {
      "image/png": "[encoded data removed]",
      "text/plain": [
       "<Figure size 2000x500 with 1 Axes>"
      ]
     },
     "metadata": {},
     "output_type": "display_data"
    }
   ],
   "source": [
    "# расссчитаем расстояния между кластерами\n",
    "linked = linkage(X_pca, 'ward')\n",
    "\n",
    "plt.figure(figsize=(20, 5))\n",
    "\n",
    "# визуализируем дендрограмму с ориентацией top\n",
    "# сначала будут отрисовываться кластеры с минимальным расстоянием между друг другом\n",
    "dendrogram(Z=linked,\n",
    "            orientation='top',\n",
    "            labels=ag_n2.labels_,\n",
    "            distance_sort='descending'\n",
    ")\n",
    "\n",
    "plt.show()"
   ]
  },
  {
   "cell_type": "markdown",
   "metadata": {},
   "source": [
    "Модель придает довольно большое значение различию между активными и пассивными в целом типами состояний пользователей."
   ]
  },
  {
   "cell_type": "markdown",
   "metadata": {},
   "source": [
    "### DBSCAN\n",
    "\n",
    "Попробуем применить DBSCAN. Для начала реализуем его с параметрами по умолчанию."
   ]
  },
  {
   "cell_type": "code",
   "execution_count": 14,
   "metadata": {},
   "outputs": [
    {
     "name": "stdout",
     "output_type": "stream",
     "text": [
      "Кластеры: [-1]\n",
      "Составы:  [10299]\n"
     ]
    }
   ],
   "source": [
    "db_dflt = DBSCAN()\n",
    "db_dflt.fit(X_pca)\n",
    "klss, cmpss = np.unique(db_dflt.labels_, return_counts=True)\n",
    "print(f'Кластеры: {list(klss)}')\n",
    "print(f'Составы:  {list(cmpss)}')"
   ]
  },
  {
   "cell_type": "markdown",
   "metadata": {},
   "source": [
    "Алгоритм на дефолтных настройках воспринял весь датасет как шум. Попробуем его немного оптимизировать."
   ]
  },
  {
   "cell_type": "code",
   "execution_count": 15,
   "metadata": {},
   "outputs": [
    {
     "name": "stdout",
     "output_type": "stream",
     "text": [
      "Параметры, удовлетворяющие оптимальному коэффициенту силуэта:\n",
      "eps: 2.400000000000001; min_samples: 12; number_of_clusters: 2\n",
      "\n",
      "Параметры, удовлетворяющие оптимальному индексу Калински-Харабаса:\n",
      "eps: 2.8000000000000007; min_samples: 12; number_of_clusters: 14\n",
      "\n",
      "Параметры, удовлетворяющие оптимальному индексу Дэвиса-Болдина:\n",
      "eps: 1.4000000000000004; min_samples: 2; number_of_clusters: 3\n",
      "\n"
     ]
    }
   ],
   "source": [
    "params_db = []\n",
    "# Проходимся циклом\n",
    "for eps in np.arange(0.6, 3, 0.2):\n",
    "    for min_sample in range(2, 20, 2):\n",
    "        dbscan = DBSCAN(eps=eps, min_samples=min_sample)\n",
    "        dbscan.fit(X_pca)\n",
    "        if len(np.unique(dbscan.labels_)) > 1:\n",
    "            sil_score = silhouette_score(X_pca, dbscan.labels_, metric='euclidean')\n",
    "            c_h_score = calinski_harabasz_score(X_pca, dbscan.labels_)\n",
    "            d_b_score = davies_bouldin_score(X_pca, dbscan.labels_)\n",
    "            params_db.append(\n",
    "                (eps, min_sample, sil_score, c_h_score, d_b_score, len(set(dbscan.labels_)))\n",
    "            )\n",
    "\n",
    "n_kl_silh = sorted(params_db, key=lambda x: x[2], reverse=True)[0]\n",
    "print('Параметры, удовлетворяющие оптимальному коэффициенту силуэта:')\n",
    "print(f'eps: {n_kl_silh[0]}; min_samples: {n_kl_silh[1]}; number_of_clusters: {n_kl_silh[-1]}\\n')\n",
    "n_kl_ch = sorted(params_db, key=lambda x: x[3], reverse=True)[0]\n",
    "print('Параметры, удовлетворяющие оптимальному индексу Калински-Харабаса:')\n",
    "print(f'eps: {n_kl_ch[0]}; min_samples: {n_kl_ch[1]}; number_of_clusters: {n_kl_ch[-1]}\\n')\n",
    "n_kl_db = sorted(params_db, key=lambda x: x[4])[0]\n",
    "print('Параметры, удовлетворяющие оптимальному индексу Дэвиса-Болдина:')\n",
    "print(f'eps: {n_kl_db[0]}; min_samples: {n_kl_db[1]}; number_of_clusters: {n_kl_db[-1]}\\n')"
   ]
  },
  {
   "cell_type": "code",
   "execution_count": 16,
   "metadata": {},
   "outputs": [
    {
     "name": "stdout",
     "output_type": "stream",
     "text": [
      "Кластеры: [-1, 0]\n",
      "Составы:  [10279, 20]\n",
      "------------------------------------------------------------------------\n",
      "Кластеры: [-1, 0, 1, 2, 3, 4, 5, 6, 7, 8, 9, 10, 11, 12]\n",
      "Составы:  [8674, 1156, 158, 120, 21, 12, 16, 12, 36, 12, 32, 17, 17, 16]\n",
      "------------------------------------------------------------------------\n",
      "Кластеры: [-1, 0, 1]\n",
      "Составы:  [10295, 2, 2]\n",
      "------------------------------------------------------------------------\n"
     ]
    }
   ],
   "source": [
    "eps = [2.4, 2.8, 1.4]\n",
    "min_samples = [12, 12, 2]\n",
    "\n",
    "for i in range(3):\n",
    "    dbscan = DBSCAN(\n",
    "        eps=eps[i],\n",
    "        min_samples=min_samples[i]\n",
    "    )\n",
    "    # Обучение\n",
    "    preds_dbscan = dbscan.fit_predict(X_pca)\n",
    "    klss, cmpss = np.unique(preds_dbscan, return_counts=True)\n",
    "    print(f'Кластеры: {list(klss)}')\n",
    "    print(f'Составы:  {list(cmpss)}')\n",
    "    print('-'*72)"
   ]
  },
  {
   "cell_type": "markdown",
   "metadata": {},
   "source": [
    "Оптимизация не удалась. Алгоритм по-прежнему видит преимущественно шум."
   ]
  },
  {
   "cell_type": "markdown",
   "metadata": {},
   "source": [
    "### GaussianMixture\n",
    "\n",
    "#### Расчет внутренних мер"
   ]
  },
  {
   "cell_type": "code",
   "execution_count": 17,
   "metadata": {},
   "outputs": [
    {
     "name": "stdout",
     "output_type": "stream",
     "text": [
      "Число кластеров с оптимальным коэффициентом силуэта: 2, 0.45\n",
      "Число кластеров с оптимальным индексом Калински-Харабаса: 2, 11637.65\n",
      "Число кластеров с оптимальным индексом Дэвиса-Болдина: 2, 0.89\n"
     ]
    }
   ],
   "source": [
    "silhouette_gm, calinski_harabasz_gm, davies_bouldin_gm = dict(), dict(), dict()\n",
    "# Проходимся циклом по всем нужным нам значениям количества кластеров\n",
    "for i in range(2, 10):\n",
    "\t# Обучаем модель GaussianMixture с текущим количеством кластеров\n",
    "    gm_model = GaussianMixture(n_components=i, random_state=42)\n",
    "\t# Предсказываем метки\n",
    "    predictions = gm_model.fit_predict(X_pca)\n",
    "\t# Выводим результат для коэффициента силуэта\n",
    "    silhouette_gm[i] = silhouette_score(X_pca, predictions, metric='euclidean')\n",
    "    calinski_harabasz_gm[i] = calinski_harabasz_score(X_pca, predictions)\n",
    "    davies_bouldin_gm[i] = davies_bouldin_score(X_pca, predictions)\n",
    "\n",
    "n_kl_silh = sorted(silhouette, key=lambda x: silhouette_gm[x], reverse=True)[0]\n",
    "print(f'Число кластеров с оптимальным коэффициентом силуэта: {n_kl_silh}, {round(silhouette_gm[n_kl_silh], 2)}')\n",
    "n_kl_ch = sorted(calinski_harabasz, key=lambda x: calinski_harabasz_gm[x], reverse=True)[0]\n",
    "print(f'Число кластеров с оптимальным индексом Калински-Харабаса: {n_kl_ch}, {round(calinski_harabasz_gm[n_kl_ch], 2)}')\n",
    "n_kl_db = sorted(davies_bouldin, key=lambda x: davies_bouldin_gm[x])[0]\n",
    "print(f'Число кластеров с оптимальным индексом Дэвиса-Болдина: {n_kl_db}, {round(davies_bouldin_gm[n_kl_db], 2)}')"
   ]
  },
  {
   "cell_type": "markdown",
   "metadata": {},
   "source": [
    "Модель на алгоритме гауссовой смеси, как и модель на алгоритме k-средних, демонстрирует лучшие значения внутренних мер при числе кластеров 2."
   ]
  },
  {
   "cell_type": "code",
   "execution_count": 18,
   "metadata": {},
   "outputs": [
    {
     "name": "stdout",
     "output_type": "stream",
     "text": [
      "Кластеры: [0, 1]\n",
      "Составы:  [5166, 5133]\n"
     ]
    }
   ],
   "source": [
    "# Инициализируем объект\n",
    "gm_model = GaussianMixture(\n",
    "    n_components=2,\n",
    "    random_state=42\n",
    ")\n",
    "# Обучение\n",
    "preds_gm2 = gm_model.fit_predict(X_pca)\n",
    "klss, cmpss = np.unique(preds_gm2, return_counts=True)\n",
    "print(f'Кластеры: {list(klss)}')\n",
    "print(f'Составы:  {list(cmpss)}')"
   ]
  },
  {
   "cell_type": "markdown",
   "metadata": {},
   "source": [
    "#### Расчет внешних мер"
   ]
  },
  {
   "cell_type": "code",
   "execution_count": 19,
   "metadata": {},
   "outputs": [
    {
     "name": "stdout",
     "output_type": "stream",
     "text": [
      "Значение однородности: 0.3\n",
      "Значение полноты: 0.78\n",
      "Значение скорректированного индекса Рэнда: 0.28\n"
     ]
    }
   ],
   "source": [
    "# Выводим метрики\n",
    "print(f'Значение однородности: {round(homogeneity_score(y, preds_gm2), 2)}')\n",
    "print(f'Значение полноты: {round(completeness_score(y, preds_gm2), 2)}')\n",
    "print(f'Значение скорректированного индекса Рэнда: {round(adjusted_rand_score(y, preds_gm2), 2)}')"
   ]
  },
  {
   "cell_type": "markdown",
   "metadata": {},
   "source": [
    "#### Классификация активности"
   ]
  },
  {
   "cell_type": "code",
   "execution_count": 20,
   "metadata": {},
   "outputs": [
    {
     "data": {
      "text/html": [
       "<div>\n",
       "<style scoped>\n",
       "    .dataframe tbody tr th:only-of-type {\n",
       "        vertical-align: middle;\n",
       "    }\n",
       "\n",
       "    .dataframe tbody tr th {\n",
       "        vertical-align: top;\n",
       "    }\n",
       "\n",
       "    .dataframe thead th {\n",
       "        text-align: right;\n",
       "    }\n",
       "</style>\n",
       "<table border=\"1\" class=\"dataframe\">\n",
       "  <thead>\n",
       "    <tr style=\"text-align: right;\">\n",
       "      <th></th>\n",
       "      <th>1</th>\n",
       "      <th>2</th>\n",
       "    </tr>\n",
       "  </thead>\n",
       "  <tbody>\n",
       "    <tr>\n",
       "      <th>ходьба</th>\n",
       "      <td>0</td>\n",
       "      <td>1722</td>\n",
       "    </tr>\n",
       "    <tr>\n",
       "      <th>подъём</th>\n",
       "      <td>0</td>\n",
       "      <td>1544</td>\n",
       "    </tr>\n",
       "    <tr>\n",
       "      <th>спуск</th>\n",
       "      <td>0</td>\n",
       "      <td>1406</td>\n",
       "    </tr>\n",
       "    <tr>\n",
       "      <th>сидение</th>\n",
       "      <td>1636</td>\n",
       "      <td>141</td>\n",
       "    </tr>\n",
       "    <tr>\n",
       "      <th>стояние</th>\n",
       "      <td>1750</td>\n",
       "      <td>156</td>\n",
       "    </tr>\n",
       "    <tr>\n",
       "      <th>лежание</th>\n",
       "      <td>1780</td>\n",
       "      <td>164</td>\n",
       "    </tr>\n",
       "  </tbody>\n",
       "</table>\n",
       "</div>"
      ],
      "text/plain": [
       "            1     2\n",
       "ходьба      0  1722\n",
       "подъём      0  1544\n",
       "спуск       0  1406\n",
       "сидение  1636   141\n",
       "стояние  1750   156\n",
       "лежание  1780   164"
      ]
     },
     "execution_count": 20,
     "metadata": {},
     "output_type": "execute_result"
    }
   ],
   "source": [
    "ctable_gm2 = pd.crosstab(y, preds_gm2)\n",
    "ctable_gm2.index = ['ходьба', 'подъём', \n",
    "                'спуск', 'сидение', \n",
    "                'стояние', 'лежание'\n",
    "]\n",
    "ctable_gm2.columns = list(range(1,3))\n",
    "ctable_gm2"
   ]
  },
  {
   "cell_type": "code",
   "execution_count": 21,
   "metadata": {},
   "outputs": [
    {
     "name": "stdout",
     "output_type": "stream",
     "text": [
      "Кластеры: [0, 1, 2, 3, 4, 5]\n",
      "Составы:  [1425, 816, 1930, 1597, 1938, 2593]\n"
     ]
    },
    {
     "data": {
      "text/html": [
       "<div>\n",
       "<style scoped>\n",
       "    .dataframe tbody tr th:only-of-type {\n",
       "        vertical-align: middle;\n",
       "    }\n",
       "\n",
       "    .dataframe tbody tr th {\n",
       "        vertical-align: top;\n",
       "    }\n",
       "\n",
       "    .dataframe thead th {\n",
       "        text-align: right;\n",
       "    }\n",
       "</style>\n",
       "<table border=\"1\" class=\"dataframe\">\n",
       "  <thead>\n",
       "    <tr style=\"text-align: right;\">\n",
       "      <th></th>\n",
       "      <th>1</th>\n",
       "      <th>2</th>\n",
       "      <th>3</th>\n",
       "      <th>4</th>\n",
       "      <th>5</th>\n",
       "      <th>6</th>\n",
       "    </tr>\n",
       "  </thead>\n",
       "  <tbody>\n",
       "    <tr>\n",
       "      <th>ходьба</th>\n",
       "      <td>0</td>\n",
       "      <td>197</td>\n",
       "      <td>573</td>\n",
       "      <td>0</td>\n",
       "      <td>952</td>\n",
       "      <td>0</td>\n",
       "    </tr>\n",
       "    <tr>\n",
       "      <th>подъём</th>\n",
       "      <td>0</td>\n",
       "      <td>146</td>\n",
       "      <td>1219</td>\n",
       "      <td>0</td>\n",
       "      <td>179</td>\n",
       "      <td>0</td>\n",
       "    </tr>\n",
       "    <tr>\n",
       "      <th>спуск</th>\n",
       "      <td>0</td>\n",
       "      <td>473</td>\n",
       "      <td>126</td>\n",
       "      <td>0</td>\n",
       "      <td>807</td>\n",
       "      <td>0</td>\n",
       "    </tr>\n",
       "    <tr>\n",
       "      <th>сидение</th>\n",
       "      <td>472</td>\n",
       "      <td>0</td>\n",
       "      <td>2</td>\n",
       "      <td>47</td>\n",
       "      <td>0</td>\n",
       "      <td>1256</td>\n",
       "    </tr>\n",
       "    <tr>\n",
       "      <th>стояние</th>\n",
       "      <td>569</td>\n",
       "      <td>0</td>\n",
       "      <td>0</td>\n",
       "      <td>0</td>\n",
       "      <td>0</td>\n",
       "      <td>1337</td>\n",
       "    </tr>\n",
       "    <tr>\n",
       "      <th>лежание</th>\n",
       "      <td>384</td>\n",
       "      <td>0</td>\n",
       "      <td>10</td>\n",
       "      <td>1550</td>\n",
       "      <td>0</td>\n",
       "      <td>0</td>\n",
       "    </tr>\n",
       "  </tbody>\n",
       "</table>\n",
       "</div>"
      ],
      "text/plain": [
       "           1    2     3     4    5     6\n",
       "ходьба     0  197   573     0  952     0\n",
       "подъём     0  146  1219     0  179     0\n",
       "спуск      0  473   126     0  807     0\n",
       "сидение  472    0     2    47    0  1256\n",
       "стояние  569    0     0     0    0  1337\n",
       "лежание  384    0    10  1550    0     0"
      ]
     },
     "execution_count": 21,
     "metadata": {},
     "output_type": "execute_result"
    }
   ],
   "source": [
    "# Инициализируем объект\n",
    "gm_model = GaussianMixture(\n",
    "    n_components=6,\n",
    "    random_state=42\n",
    ")\n",
    "# Обучение\n",
    "preds_gm6 = gm_model.fit_predict(X_pca)\n",
    "klss, cmpss = np.unique(preds_gm6, return_counts=True)\n",
    "print(f'Кластеры: {list(klss)}')\n",
    "print(f'Составы:  {list(cmpss)}')\n",
    "\n",
    "# создаём таблицу сопряжённости\n",
    "ctable_gm6 = pd.crosstab(y, preds_gm6)\n",
    "# определяем название активностей\n",
    "ctable_gm6.index = ['ходьба', 'подъём', \n",
    "            'спуск', 'сидение',\n",
    "            'стояние', 'лежание'\n",
    "]\n",
    "ctable_gm6.columns = list(range(1,7))\n",
    "ctable_gm6"
   ]
  },
  {
   "cell_type": "code",
   "execution_count": 22,
   "metadata": {},
   "outputs": [
    {
     "name": "stdout",
     "output_type": "stream",
     "text": [
      "Значение однородности: 0.57\n",
      "Значение полноты: 0.59\n",
      "Значение скорректированного индекса Рэнда: 0.45\n"
     ]
    }
   ],
   "source": [
    "# Выводим метрики\n",
    "print(f'Значение однородности: {round(homogeneity_score(y, preds_gm6), 2)}')\n",
    "print(f'Значение полноты: {round(completeness_score(y, preds_gm6), 2)}')\n",
    "print(f'Значение скорректированного индекса Рэнда: {round(adjusted_rand_score(y, preds_gm6), 2)}')"
   ]
  },
  {
   "cell_type": "markdown",
   "metadata": {},
   "source": [
    "## Итог"
   ]
  },
  {
   "cell_type": "markdown",
   "metadata": {},
   "source": [
    "К сожалению, ни одна из созданных нами моделей не способна верно распознавать типы активностей пользователей смартфонов. Однако у нас получились в целом три модели, сносно различающих классы типы активностей, характеризующих движение и пассивное состояние. Лучшей из трех наших моделей является модель, основанная на алгоритме аггломеративной кластеризации.\n",
    "\n",
    "Наше решение не является идеальным, но и вряд ли исчерпывает возможности алгоритмов кластеризации вообще. Однако, т.к. данные в нашей задаче имеют разметку, эту самую задачу можно попытаться также решить с помощью алгоритмов классификации. Но этим все же мы займемся не здесь."
   ]
  }
 ],
 "metadata": {
  "kernelspec": {
   "display_name": "Python 3",
   "language": "python",
   "name": "python3"
  },
  "language_info": {
   "codemirror_mode": {
    "name": "ipython",
    "version": 3
   },
   "file_extension": ".py",
   "mimetype": "text/x-python",
   "name": "python",
   "nbconvert_exporter": "python",
   "pygments_lexer": "ipython3",
   "version": "3.11.1"
  }
 },
 "nbformat": 4,
 "nbformat_minor": 2
}
