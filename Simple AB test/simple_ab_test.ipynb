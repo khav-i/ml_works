{
 "cells": [
  {
   "cell_type": "markdown",
   "metadata": {},
   "source": [
    "# <center> АНАЛИЗ ЭФФЕКТИВНОСТИ ДВУХ ВАРИАНТОВ ПОСАДОЧНОЙ СТРАНИЦЫ"
   ]
  },
  {
   "cell_type": "markdown",
   "metadata": {},
   "source": [
    "Компания планирует запустить новую акцию, чтобы продать как можно больше туров. Команда разработала два варианта посадочной страницы официального сайта и провела A/B-тестирование. В результате эксперимента были собраны данные.\n",
    "\n",
    "Нам предстоит решить бизнес-задачу: проанализировать эффективность обоих вариантов посадочной страницы сразу по двум критериям — конверсии покупки и ежедневному среднему чеку.\n",
    "\n",
    "Мы должны убедиться, что A/B-тестирование было проведено корректно, проверить факт стабилизации метрик и обоснованно ответить на ключевой вопрос турагентства: какой вариант посадочной страницы более предпочтителен по метрикам конверсии и ежедневного среднего чека?\n",
    "\n",
    "Компания предлагает следующие варианты туров:\n",
    "* Таиланд — 100 000 рублей;\n",
    "* Турция — 60 000 рублей;\n",
    "* Мальдивы — 200 000 рублей;\n",
    "* Санкт-Петербург — 10 000 рублей;\n",
    "* Камчатка — 150 000 рублей.\n",
    "\n",
    "Прочитаем наши данные и посмотрим на столбцы таблицы:"
   ]
  },
  {
   "cell_type": "code",
   "execution_count": 1,
   "metadata": {},
   "outputs": [
    {
     "data": {
      "text/html": [
       "<div>\n",
       "<style scoped>\n",
       "    .dataframe tbody tr th:only-of-type {\n",
       "        vertical-align: middle;\n",
       "    }\n",
       "\n",
       "    .dataframe tbody tr th {\n",
       "        vertical-align: top;\n",
       "    }\n",
       "\n",
       "    .dataframe thead th {\n",
       "        text-align: right;\n",
       "    }\n",
       "</style>\n",
       "<table border=\"1\" class=\"dataframe\">\n",
       "  <thead>\n",
       "    <tr style=\"text-align: right;\">\n",
       "      <th></th>\n",
       "      <th>user_id</th>\n",
       "      <th>date</th>\n",
       "      <th>group</th>\n",
       "      <th>purchase</th>\n",
       "      <th>price</th>\n",
       "    </tr>\n",
       "  </thead>\n",
       "  <tbody>\n",
       "    <tr>\n",
       "      <th>0</th>\n",
       "      <td>851104</td>\n",
       "      <td>2021-01-21</td>\n",
       "      <td>A</td>\n",
       "      <td>0</td>\n",
       "      <td>0</td>\n",
       "    </tr>\n",
       "    <tr>\n",
       "      <th>1</th>\n",
       "      <td>804228</td>\n",
       "      <td>2021-01-12</td>\n",
       "      <td>A</td>\n",
       "      <td>0</td>\n",
       "      <td>0</td>\n",
       "    </tr>\n",
       "    <tr>\n",
       "      <th>2</th>\n",
       "      <td>661590</td>\n",
       "      <td>2021-01-11</td>\n",
       "      <td>B</td>\n",
       "      <td>0</td>\n",
       "      <td>0</td>\n",
       "    </tr>\n",
       "    <tr>\n",
       "      <th>3</th>\n",
       "      <td>853541</td>\n",
       "      <td>2021-01-08</td>\n",
       "      <td>B</td>\n",
       "      <td>0</td>\n",
       "      <td>0</td>\n",
       "    </tr>\n",
       "    <tr>\n",
       "      <th>4</th>\n",
       "      <td>864975</td>\n",
       "      <td>2021-01-21</td>\n",
       "      <td>A</td>\n",
       "      <td>1</td>\n",
       "      <td>150000</td>\n",
       "    </tr>\n",
       "  </tbody>\n",
       "</table>\n",
       "</div>"
      ],
      "text/plain": [
       "   user_id        date group  purchase   price\n",
       "0   851104  2021-01-21     A         0       0\n",
       "1   804228  2021-01-12     A         0       0\n",
       "2   661590  2021-01-11     B         0       0\n",
       "3   853541  2021-01-08     B         0       0\n",
       "4   864975  2021-01-21     A         1  150000"
      ]
     },
     "execution_count": 1,
     "metadata": {},
     "output_type": "execute_result"
    }
   ],
   "source": [
    "import pandas as pd\n",
    "\n",
    "data = pd.read_csv('data/ab_data_tourist.zip')\n",
    "data.head()"
   ]
  },
  {
   "cell_type": "markdown",
   "metadata": {},
   "source": [
    "Наша таблица представлена следующими полями:\n",
    "\n",
    "|feature|description|\n",
    "|-|-|\n",
    "|`user_id`|идентификатор пользователя, зашедшего на сайт|\n",
    "|`data`|дата посещения сайта|\n",
    "|`group`|группа теста (контрольная — А или тестовая — B)|\n",
    "|`purchase`|признак покупки: совершил ли пользователь покупку тура (1 — да, 0 — нет)|\n",
    "|`price`|цена купленного тура (если покупка не состоялась, цена равна 0)|"
   ]
  },
  {
   "cell_type": "markdown",
   "metadata": {},
   "source": [
    "---\n",
    "## Анализ структуры данных. Предобработка"
   ]
  },
  {
   "cell_type": "markdown",
   "metadata": {},
   "source": [
    "Посмотрим, есть ли пропуски."
   ]
  },
  {
   "cell_type": "code",
   "execution_count": 2,
   "metadata": {},
   "outputs": [
    {
     "data": {
      "text/plain": [
       "user_id     0\n",
       "date        0\n",
       "group       0\n",
       "purchase    0\n",
       "price       0\n",
       "dtype: int64"
      ]
     },
     "execution_count": 2,
     "metadata": {},
     "output_type": "execute_result"
    }
   ],
   "source": [
    "data.isna().sum()"
   ]
  },
  {
   "cell_type": "markdown",
   "metadata": {},
   "source": [
    "Пропусков нет, однако нам нужно перевести столбец с информацией о дате события (date) в формат datetime."
   ]
  },
  {
   "cell_type": "code",
   "execution_count": 3,
   "metadata": {},
   "outputs": [
    {
     "name": "stdout",
     "output_type": "stream",
     "text": [
      "<class 'pandas.core.frame.DataFrame'>\n",
      "RangeIndex: 294478 entries, 0 to 294477\n",
      "Data columns (total 5 columns):\n",
      " #   Column    Non-Null Count   Dtype         \n",
      "---  ------    --------------   -----         \n",
      " 0   user_id   294478 non-null  int64         \n",
      " 1   date      294478 non-null  datetime64[ns]\n",
      " 2   group     294478 non-null  object        \n",
      " 3   purchase  294478 non-null  int64         \n",
      " 4   price     294478 non-null  int64         \n",
      "dtypes: datetime64[ns](1), int64(3), object(1)\n",
      "memory usage: 11.2+ MB\n"
     ]
    }
   ],
   "source": [
    "data['date'] = pd.to_datetime(data['date'], format='%Y-%m-%d')\n",
    "data.info()"
   ]
  },
  {
   "cell_type": "markdown",
   "metadata": {},
   "source": [
    "Убедимся в одинаковой длительности проведения A/B-тестирования в каждой из групп."
   ]
  },
  {
   "cell_type": "code",
   "execution_count": 5,
   "metadata": {},
   "outputs": [
    {
     "name": "stdout",
     "output_type": "stream",
     "text": [
      "\n",
      "Дата начала и конца тестирования в группе А\n",
      "Начало: 2021-01-02 00:00:00\n",
      "Конец:  2021-01-24 00:00:00\n",
      "\n",
      "Дата начала и конца тестирования в группе B\n",
      "Начало: 2021-01-02 00:00:00\n",
      "Конец:  2021-01-24 00:00:00\n"
     ]
    }
   ],
   "source": [
    "group_A_begin_time = data.query(\"group == 'A'\")['date'].min()\n",
    "group_A_end_time = data.query(\"group == 'A'\")['date'].max()\n",
    "\n",
    "group_B_begin_time = data.query(\"group == 'B'\")['date'].min()\n",
    "group_B_end_time = data.query(\"group == 'B'\")['date'].max()\n",
    "\n",
    "print(f\"\"\"\n",
    "Дата начала и конца тестирования в группе А\n",
    "Начало: {group_A_begin_time}\n",
    "Конец:  {group_A_end_time}\"\"\")\n",
    "print(f\"\"\"\n",
    "Дата начала и конца тестирования в группе B\n",
    "Начало: {group_B_begin_time}\n",
    "Конец:  {group_B_end_time}\"\"\")"
   ]
  },
  {
   "cell_type": "markdown",
   "metadata": {},
   "source": [
    "Кажется, тест сошелся по времени для обеих групп: 23 дня.\n",
    "\n",
    "Проверим теперь, есть ли пользователи, которые в процессе A/B-теста попали в обе группы."
   ]
  },
  {
   "cell_type": "code",
   "execution_count": 5,
   "metadata": {},
   "outputs": [
    {
     "name": "stdout",
     "output_type": "stream",
     "text": [
      "(3790, 5)\n"
     ]
    },
    {
     "data": {
      "text/html": [
       "<div>\n",
       "<style scoped>\n",
       "    .dataframe tbody tr th:only-of-type {\n",
       "        vertical-align: middle;\n",
       "    }\n",
       "\n",
       "    .dataframe tbody tr th {\n",
       "        vertical-align: top;\n",
       "    }\n",
       "\n",
       "    .dataframe thead th {\n",
       "        text-align: right;\n",
       "    }\n",
       "</style>\n",
       "<table border=\"1\" class=\"dataframe\">\n",
       "  <thead>\n",
       "    <tr style=\"text-align: right;\">\n",
       "      <th></th>\n",
       "      <th>user_id</th>\n",
       "      <th>date</th>\n",
       "      <th>group</th>\n",
       "      <th>purchase</th>\n",
       "      <th>price</th>\n",
       "    </tr>\n",
       "  </thead>\n",
       "  <tbody>\n",
       "    <tr>\n",
       "      <th>207211</th>\n",
       "      <td>630320</td>\n",
       "      <td>2021-01-07</td>\n",
       "      <td>A</td>\n",
       "      <td>0</td>\n",
       "      <td>0</td>\n",
       "    </tr>\n",
       "    <tr>\n",
       "      <th>255753</th>\n",
       "      <td>630320</td>\n",
       "      <td>2021-01-12</td>\n",
       "      <td>B</td>\n",
       "      <td>0</td>\n",
       "      <td>0</td>\n",
       "    </tr>\n",
       "    <tr>\n",
       "      <th>39852</th>\n",
       "      <td>630805</td>\n",
       "      <td>2021-01-22</td>\n",
       "      <td>A</td>\n",
       "      <td>0</td>\n",
       "      <td>0</td>\n",
       "    </tr>\n",
       "    <tr>\n",
       "      <th>73599</th>\n",
       "      <td>630805</td>\n",
       "      <td>2021-01-12</td>\n",
       "      <td>B</td>\n",
       "      <td>0</td>\n",
       "      <td>0</td>\n",
       "    </tr>\n",
       "    <tr>\n",
       "      <th>213377</th>\n",
       "      <td>630871</td>\n",
       "      <td>2021-01-08</td>\n",
       "      <td>A</td>\n",
       "      <td>0</td>\n",
       "      <td>0</td>\n",
       "    </tr>\n",
       "    <tr>\n",
       "      <th>18596</th>\n",
       "      <td>630871</td>\n",
       "      <td>2021-01-03</td>\n",
       "      <td>B</td>\n",
       "      <td>0</td>\n",
       "      <td>0</td>\n",
       "    </tr>\n",
       "  </tbody>\n",
       "</table>\n",
       "</div>"
      ],
      "text/plain": [
       "        user_id       date group  purchase  price\n",
       "207211   630320 2021-01-07     A         0      0\n",
       "255753   630320 2021-01-12     B         0      0\n",
       "39852    630805 2021-01-22     A         0      0\n",
       "73599    630805 2021-01-12     B         0      0\n",
       "213377   630871 2021-01-08     A         0      0\n",
       "18596    630871 2021-01-03     B         0      0"
      ]
     },
     "execution_count": 5,
     "metadata": {},
     "output_type": "execute_result"
    }
   ],
   "source": [
    "# Группируем данные по 'user_id' и считаем количество уникальных значений по столбцу 'group'\n",
    "group_counts = data.groupby('user_id')['group'].nunique()\n",
    "\n",
    "# Выбираем id пользователей, у которых количество уникальных значений равно двум (и 'A', и 'B')\n",
    "users_with_both_groups = group_counts[group_counts == 2].index\n",
    "\n",
    "# Фильтруем исходный DataFrame, оставляя только пользователей, которые имеют записи и с лейблом 'A', и с лейблом 'B'\n",
    "result_df = data[data['user_id'].isin(users_with_both_groups)]\n",
    "\n",
    "print(result_df.shape)\n",
    "result_df.sort_values('user_id').head(6)"
   ]
  },
  {
   "cell_type": "markdown",
   "metadata": {},
   "source": [
    "Кажется, код отработал верно. Исключим пользователей, оказавшихся в обеих группах."
   ]
  },
  {
   "cell_type": "code",
   "execution_count": 6,
   "metadata": {},
   "outputs": [
    {
     "name": "stdout",
     "output_type": "stream",
     "text": [
      "(294478, 5)\n",
      "(290688, 5)\n"
     ]
    }
   ],
   "source": [
    "indexes_to_drop = list(result_df.index)\n",
    "print(data.shape)\n",
    "data = data.drop(indexes_to_drop)\n",
    "print(data.shape)"
   ]
  },
  {
   "cell_type": "markdown",
   "metadata": {},
   "source": [
    "---\n",
    "## Первичный анализ"
   ]
  },
  {
   "cell_type": "markdown",
   "metadata": {},
   "source": [
    "Рассчитаем вспомогательные показатели для контрольной и тестовой групп:\n",
    "* количество посещений сайта;\n",
    "* суммарное количество совершённых покупок;\n",
    "* сумма всех покупок.\n",
    "\n",
    "Сделаем промежуточные выводы по построенной таблице."
   ]
  },
  {
   "cell_type": "code",
   "execution_count": 7,
   "metadata": {},
   "outputs": [
    {
     "data": {
      "text/html": [
       "<div>\n",
       "<style scoped>\n",
       "    .dataframe tbody tr th:only-of-type {\n",
       "        vertical-align: middle;\n",
       "    }\n",
       "\n",
       "    .dataframe tbody tr th {\n",
       "        vertical-align: top;\n",
       "    }\n",
       "\n",
       "    .dataframe thead th {\n",
       "        text-align: right;\n",
       "    }\n",
       "</style>\n",
       "<table border=\"1\" class=\"dataframe\">\n",
       "  <thead>\n",
       "    <tr style=\"text-align: right;\">\n",
       "      <th></th>\n",
       "      <th>group</th>\n",
       "      <th>users_count</th>\n",
       "      <th>purchase</th>\n",
       "      <th>price</th>\n",
       "    </tr>\n",
       "  </thead>\n",
       "  <tbody>\n",
       "    <tr>\n",
       "      <th>0</th>\n",
       "      <td>A</td>\n",
       "      <td>145307</td>\n",
       "      <td>17487</td>\n",
       "      <td>1417780000</td>\n",
       "    </tr>\n",
       "    <tr>\n",
       "      <th>1</th>\n",
       "      <td>B</td>\n",
       "      <td>145381</td>\n",
       "      <td>17290</td>\n",
       "      <td>1533010000</td>\n",
       "    </tr>\n",
       "  </tbody>\n",
       "</table>\n",
       "</div>"
      ],
      "text/plain": [
       "  group  users_count  purchase       price\n",
       "0     A       145307     17487  1417780000\n",
       "1     B       145381     17290  1533010000"
      ]
     },
     "execution_count": 7,
     "metadata": {},
     "output_type": "execute_result"
    }
   ],
   "source": [
    "grouped_data = data.groupby(['group']).agg({\n",
    "    'user_id': 'count',\n",
    "    'purchase': 'sum',\n",
    "    'price': 'sum'\n",
    "}).rename(columns={'user_id': 'users_count'}).reset_index()\n",
    "\n",
    "grouped_data"
   ]
  },
  {
   "cell_type": "markdown",
   "metadata": {},
   "source": [
    "Количество посещений обоих вариантов посадочной страницы вполне сопоставимо. Можно говорить о сбалансированности выборок.\n",
    "\n",
    "В каждой из групп рассчитаем ключевые показатели:\n",
    "* конверсия;\n",
    "* средний чек."
   ]
  },
  {
   "cell_type": "code",
   "execution_count": 8,
   "metadata": {},
   "outputs": [
    {
     "data": {
      "text/html": [
       "<div>\n",
       "<style scoped>\n",
       "    .dataframe tbody tr th:only-of-type {\n",
       "        vertical-align: middle;\n",
       "    }\n",
       "\n",
       "    .dataframe tbody tr th {\n",
       "        vertical-align: top;\n",
       "    }\n",
       "\n",
       "    .dataframe thead th {\n",
       "        text-align: right;\n",
       "    }\n",
       "</style>\n",
       "<table border=\"1\" class=\"dataframe\">\n",
       "  <thead>\n",
       "    <tr style=\"text-align: right;\">\n",
       "      <th></th>\n",
       "      <th>group</th>\n",
       "      <th>users_count</th>\n",
       "      <th>purchase</th>\n",
       "      <th>price</th>\n",
       "      <th>total_conversion</th>\n",
       "      <th>total_mean_check</th>\n",
       "    </tr>\n",
       "  </thead>\n",
       "  <tbody>\n",
       "    <tr>\n",
       "      <th>0</th>\n",
       "      <td>A</td>\n",
       "      <td>145307</td>\n",
       "      <td>17487</td>\n",
       "      <td>1417780000</td>\n",
       "      <td>12.034520</td>\n",
       "      <td>81076.228055</td>\n",
       "    </tr>\n",
       "    <tr>\n",
       "      <th>1</th>\n",
       "      <td>B</td>\n",
       "      <td>145381</td>\n",
       "      <td>17290</td>\n",
       "      <td>1533010000</td>\n",
       "      <td>11.892888</td>\n",
       "      <td>88664.545980</td>\n",
       "    </tr>\n",
       "  </tbody>\n",
       "</table>\n",
       "</div>"
      ],
      "text/plain": [
       "  group  users_count  purchase       price  total_conversion  total_mean_check\n",
       "0     A       145307     17487  1417780000         12.034520      81076.228055\n",
       "1     B       145381     17290  1533010000         11.892888      88664.545980"
      ]
     },
     "execution_count": 8,
     "metadata": {},
     "output_type": "execute_result"
    }
   ],
   "source": [
    "grouped_data['total_conversion'] = grouped_data['purchase'] / grouped_data['users_count'] * 100\n",
    "grouped_data['total_mean_check'] = grouped_data['price'] / grouped_data['purchase']\n",
    "grouped_data"
   ]
  },
  {
   "cell_type": "markdown",
   "metadata": {},
   "source": [
    "На первый взгляд, вариант `А` эффективнее варианта `B` по показателю конверсии, а вариант `B` — по среднему чеку.\n",
    "\n",
    "Сравним варианты их по покупательской способности каждого из туров. Для этого построим сводную таблицу, которая покажет зависимость количества продаж от группы и цены тура."
   ]
  },
  {
   "cell_type": "code",
   "execution_count": 9,
   "metadata": {},
   "outputs": [
    {
     "data": {
      "text/html": [
       "<div>\n",
       "<style scoped>\n",
       "    .dataframe tbody tr th:only-of-type {\n",
       "        vertical-align: middle;\n",
       "    }\n",
       "\n",
       "    .dataframe tbody tr th {\n",
       "        vertical-align: top;\n",
       "    }\n",
       "\n",
       "    .dataframe thead tr th {\n",
       "        text-align: left;\n",
       "    }\n",
       "</style>\n",
       "<table border=\"1\" class=\"dataframe\">\n",
       "  <thead>\n",
       "    <tr>\n",
       "      <th>group</th>\n",
       "      <th colspan=\"6\" halign=\"left\">A</th>\n",
       "      <th colspan=\"6\" halign=\"left\">B</th>\n",
       "    </tr>\n",
       "    <tr>\n",
       "      <th>price</th>\n",
       "      <th>0</th>\n",
       "      <th>10000</th>\n",
       "      <th>60000</th>\n",
       "      <th>100000</th>\n",
       "      <th>150000</th>\n",
       "      <th>200000</th>\n",
       "      <th>0</th>\n",
       "      <th>10000</th>\n",
       "      <th>60000</th>\n",
       "      <th>100000</th>\n",
       "      <th>150000</th>\n",
       "      <th>200000</th>\n",
       "    </tr>\n",
       "  </thead>\n",
       "  <tbody>\n",
       "    <tr>\n",
       "      <th>purchase</th>\n",
       "      <td>0</td>\n",
       "      <td>5182</td>\n",
       "      <td>5271</td>\n",
       "      <td>1832</td>\n",
       "      <td>3478</td>\n",
       "      <td>1724</td>\n",
       "      <td>0</td>\n",
       "      <td>5201</td>\n",
       "      <td>1730</td>\n",
       "      <td>5227</td>\n",
       "      <td>3438</td>\n",
       "      <td>1694</td>\n",
       "    </tr>\n",
       "  </tbody>\n",
       "</table>\n",
       "</div>"
      ],
      "text/plain": [
       "group         A                                         B                \\\n",
       "price    0      10000  60000  100000 150000 200000 0      10000  60000    \n",
       "purchase      0   5182   5271   1832   3478   1724      0   5201   1730   \n",
       "\n",
       "group                          \n",
       "price    100000 150000 200000  \n",
       "purchase   5227   3438   1694  "
      ]
     },
     "execution_count": 9,
     "metadata": {},
     "output_type": "execute_result"
    }
   ],
   "source": [
    "purchasing_power = data.groupby(['group', 'price']).agg({'purchase': 'sum'})\n",
    "purchasing_power.T"
   ]
  },
  {
   "cell_type": "code",
   "execution_count": 10,
   "metadata": {},
   "outputs": [
    {
     "data": {
      "image/png": "[encoded data removed]",
      "text/plain": [
       "<Figure size 859.625x400 with 1 Axes>"
      ]
     },
     "metadata": {},
     "output_type": "display_data"
    }
   ],
   "source": [
    "import seaborn as sns\n",
    "\n",
    "graph = sns.catplot(\n",
    "    data=purchasing_power.reset_index(), kind=\"bar\",\n",
    "    x=\"price\", y=\"purchase\", hue=\"group\", palette=\"dark\", alpha=.6, height=4, aspect=2\n",
    ")\n",
    "graph.set_axis_labels(\"Цена купленного тура\", \"Число покупок\");"
   ]
  },
  {
   "cell_type": "markdown",
   "metadata": {},
   "source": [
    "По трем турам из пяти наблюдается почти равная покупательская способность участников обеих групп, но по турам за 60K и 100К имеется практически симметричное преимущество у `A` над `В` и наоборот."
   ]
  },
  {
   "cell_type": "markdown",
   "metadata": {},
   "source": [
    "---\n",
    "## Анализ стабилизации метрик"
   ]
  },
  {
   "cell_type": "markdown",
   "metadata": {},
   "source": [
    "Сгруппируем данные по дате и группе тестирования и построим таблицу с ежедневными данными результатов проведения A/B-тестирования. В каждой группе вычислим ежедневные показатели:\n",
    "* количество посещений страницы;\n",
    "* количество покупок;\n",
    "* сумму покупок.\n",
    "\n",
    "Добавим в таблицу также информацию о ежедневной конверсии (ежедневное количество покупок / ежедневное количество посещений) в группе и о ежедневном среднем чеке (ежедневная сумма покупок / ежедневное количество покупок)."
   ]
  },
  {
   "cell_type": "code",
   "execution_count": 11,
   "metadata": {},
   "outputs": [
    {
     "name": "stdout",
     "output_type": "stream",
     "text": [
      "Shape: (46, 7)\n"
     ]
    },
    {
     "data": {
      "text/html": [
       "<div>\n",
       "<style scoped>\n",
       "    .dataframe tbody tr th:only-of-type {\n",
       "        vertical-align: middle;\n",
       "    }\n",
       "\n",
       "    .dataframe tbody tr th {\n",
       "        vertical-align: top;\n",
       "    }\n",
       "\n",
       "    .dataframe thead th {\n",
       "        text-align: right;\n",
       "    }\n",
       "</style>\n",
       "<table border=\"1\" class=\"dataframe\">\n",
       "  <thead>\n",
       "    <tr style=\"text-align: right;\">\n",
       "      <th></th>\n",
       "      <th>date</th>\n",
       "      <th>group</th>\n",
       "      <th>users_count</th>\n",
       "      <th>purchase</th>\n",
       "      <th>price</th>\n",
       "      <th>conversion</th>\n",
       "      <th>mean_check</th>\n",
       "    </tr>\n",
       "  </thead>\n",
       "  <tbody>\n",
       "    <tr>\n",
       "      <th>0</th>\n",
       "      <td>2021-01-02</td>\n",
       "      <td>A</td>\n",
       "      <td>2854</td>\n",
       "      <td>359</td>\n",
       "      <td>29410000</td>\n",
       "      <td>12.578837</td>\n",
       "      <td>81922.005571</td>\n",
       "    </tr>\n",
       "    <tr>\n",
       "      <th>1</th>\n",
       "      <td>2021-01-02</td>\n",
       "      <td>B</td>\n",
       "      <td>2861</td>\n",
       "      <td>345</td>\n",
       "      <td>29660000</td>\n",
       "      <td>12.058721</td>\n",
       "      <td>85971.014493</td>\n",
       "    </tr>\n",
       "    <tr>\n",
       "      <th>2</th>\n",
       "      <td>2021-01-03</td>\n",
       "      <td>A</td>\n",
       "      <td>6596</td>\n",
       "      <td>748</td>\n",
       "      <td>62000000</td>\n",
       "      <td>11.340206</td>\n",
       "      <td>82887.700535</td>\n",
       "    </tr>\n",
       "    <tr>\n",
       "      <th>3</th>\n",
       "      <td>2021-01-03</td>\n",
       "      <td>B</td>\n",
       "      <td>6619</td>\n",
       "      <td>754</td>\n",
       "      <td>65960000</td>\n",
       "      <td>11.391449</td>\n",
       "      <td>87480.106101</td>\n",
       "    </tr>\n",
       "    <tr>\n",
       "      <th>4</th>\n",
       "      <td>2021-01-04</td>\n",
       "      <td>A</td>\n",
       "      <td>6566</td>\n",
       "      <td>799</td>\n",
       "      <td>64250000</td>\n",
       "      <td>12.168748</td>\n",
       "      <td>80413.016270</td>\n",
       "    </tr>\n",
       "  </tbody>\n",
       "</table>\n",
       "</div>"
      ],
      "text/plain": [
       "        date group  users_count  purchase     price  conversion    mean_check\n",
       "0 2021-01-02     A         2854       359  29410000   12.578837  81922.005571\n",
       "1 2021-01-02     B         2861       345  29660000   12.058721  85971.014493\n",
       "2 2021-01-03     A         6596       748  62000000   11.340206  82887.700535\n",
       "3 2021-01-03     B         6619       754  65960000   11.391449  87480.106101\n",
       "4 2021-01-04     A         6566       799  64250000   12.168748  80413.016270"
      ]
     },
     "execution_count": 11,
     "metadata": {},
     "output_type": "execute_result"
    }
   ],
   "source": [
    "daily_data = data.groupby(['date','group']).agg({\n",
    "    'user_id': 'count',\n",
    "    'purchase': 'sum',\n",
    "    'price': 'sum'\n",
    "}).reset_index().rename(columns={'user_id': 'users_count'})\n",
    "\n",
    "daily_data['conversion'] = daily_data['purchase'] / daily_data['users_count'] * 100\n",
    "daily_data['mean_check'] = daily_data['price'] / daily_data['purchase']\n",
    "\n",
    "print('Shape:', daily_data.shape)\n",
    "daily_data.head()"
   ]
  },
  {
   "cell_type": "markdown",
   "metadata": {},
   "source": [
    "Рассчитаем кумулятивные показатели:\n",
    "* кумулятивное количество посещений страницы;\n",
    "* кумулятивное количество покупок;\n",
    "* кумулятивную сумму покупок.\n",
    "\n",
    "На основе полученных кумулятивных показателей вычислим кумулятивную конверсию и кумулятивный средний чек."
   ]
  },
  {
   "cell_type": "code",
   "execution_count": 12,
   "metadata": {},
   "outputs": [
    {
     "data": {
      "text/html": [
       "<div>\n",
       "<style scoped>\n",
       "    .dataframe tbody tr th:only-of-type {\n",
       "        vertical-align: middle;\n",
       "    }\n",
       "\n",
       "    .dataframe tbody tr th {\n",
       "        vertical-align: top;\n",
       "    }\n",
       "\n",
       "    .dataframe thead th {\n",
       "        text-align: right;\n",
       "    }\n",
       "</style>\n",
       "<table border=\"1\" class=\"dataframe\">\n",
       "  <thead>\n",
       "    <tr style=\"text-align: right;\">\n",
       "      <th></th>\n",
       "      <th>date</th>\n",
       "      <th>group</th>\n",
       "      <th>users_count</th>\n",
       "      <th>purchase</th>\n",
       "      <th>price</th>\n",
       "      <th>conversion</th>\n",
       "      <th>mean_check</th>\n",
       "      <th>cum_users_count</th>\n",
       "      <th>cum_purchase</th>\n",
       "      <th>cum_price</th>\n",
       "      <th>cum_conversion</th>\n",
       "      <th>cum_mean_check</th>\n",
       "    </tr>\n",
       "  </thead>\n",
       "  <tbody>\n",
       "    <tr>\n",
       "      <th>0</th>\n",
       "      <td>2021-01-02</td>\n",
       "      <td>A</td>\n",
       "      <td>2854</td>\n",
       "      <td>359</td>\n",
       "      <td>29410000</td>\n",
       "      <td>12.578837</td>\n",
       "      <td>81922.005571</td>\n",
       "      <td>2854</td>\n",
       "      <td>359</td>\n",
       "      <td>29410000</td>\n",
       "      <td>12.578837</td>\n",
       "      <td>81922.005571</td>\n",
       "    </tr>\n",
       "    <tr>\n",
       "      <th>1</th>\n",
       "      <td>2021-01-02</td>\n",
       "      <td>B</td>\n",
       "      <td>2861</td>\n",
       "      <td>345</td>\n",
       "      <td>29660000</td>\n",
       "      <td>12.058721</td>\n",
       "      <td>85971.014493</td>\n",
       "      <td>2861</td>\n",
       "      <td>345</td>\n",
       "      <td>29660000</td>\n",
       "      <td>12.058721</td>\n",
       "      <td>85971.014493</td>\n",
       "    </tr>\n",
       "    <tr>\n",
       "      <th>2</th>\n",
       "      <td>2021-01-03</td>\n",
       "      <td>A</td>\n",
       "      <td>6596</td>\n",
       "      <td>748</td>\n",
       "      <td>62000000</td>\n",
       "      <td>11.340206</td>\n",
       "      <td>82887.700535</td>\n",
       "      <td>9450</td>\n",
       "      <td>1107</td>\n",
       "      <td>91410000</td>\n",
       "      <td>11.714286</td>\n",
       "      <td>82574.525745</td>\n",
       "    </tr>\n",
       "    <tr>\n",
       "      <th>3</th>\n",
       "      <td>2021-01-03</td>\n",
       "      <td>B</td>\n",
       "      <td>6619</td>\n",
       "      <td>754</td>\n",
       "      <td>65960000</td>\n",
       "      <td>11.391449</td>\n",
       "      <td>87480.106101</td>\n",
       "      <td>9480</td>\n",
       "      <td>1099</td>\n",
       "      <td>95620000</td>\n",
       "      <td>11.592827</td>\n",
       "      <td>87006.369427</td>\n",
       "    </tr>\n",
       "    <tr>\n",
       "      <th>4</th>\n",
       "      <td>2021-01-04</td>\n",
       "      <td>A</td>\n",
       "      <td>6566</td>\n",
       "      <td>799</td>\n",
       "      <td>64250000</td>\n",
       "      <td>12.168748</td>\n",
       "      <td>80413.016270</td>\n",
       "      <td>16016</td>\n",
       "      <td>1906</td>\n",
       "      <td>155660000</td>\n",
       "      <td>11.900599</td>\n",
       "      <td>81668.415530</td>\n",
       "    </tr>\n",
       "    <tr>\n",
       "      <th>5</th>\n",
       "      <td>2021-01-04</td>\n",
       "      <td>B</td>\n",
       "      <td>6536</td>\n",
       "      <td>764</td>\n",
       "      <td>68030000</td>\n",
       "      <td>11.689106</td>\n",
       "      <td>89044.502618</td>\n",
       "      <td>16016</td>\n",
       "      <td>1863</td>\n",
       "      <td>163650000</td>\n",
       "      <td>11.632118</td>\n",
       "      <td>87842.190016</td>\n",
       "    </tr>\n",
       "  </tbody>\n",
       "</table>\n",
       "</div>"
      ],
      "text/plain": [
       "        date group  users_count  purchase     price  conversion    mean_check  \\\n",
       "0 2021-01-02     A         2854       359  29410000   12.578837  81922.005571   \n",
       "1 2021-01-02     B         2861       345  29660000   12.058721  85971.014493   \n",
       "2 2021-01-03     A         6596       748  62000000   11.340206  82887.700535   \n",
       "3 2021-01-03     B         6619       754  65960000   11.391449  87480.106101   \n",
       "4 2021-01-04     A         6566       799  64250000   12.168748  80413.016270   \n",
       "5 2021-01-04     B         6536       764  68030000   11.689106  89044.502618   \n",
       "\n",
       "   cum_users_count  cum_purchase  cum_price  cum_conversion  cum_mean_check  \n",
       "0             2854           359   29410000       12.578837    81922.005571  \n",
       "1             2861           345   29660000       12.058721    85971.014493  \n",
       "2             9450          1107   91410000       11.714286    82574.525745  \n",
       "3             9480          1099   95620000       11.592827    87006.369427  \n",
       "4            16016          1906  155660000       11.900599    81668.415530  \n",
       "5            16016          1863  163650000       11.632118    87842.190016  "
      ]
     },
     "execution_count": 12,
     "metadata": {},
     "output_type": "execute_result"
    }
   ],
   "source": [
    "daily_data['cum_users_count'] = daily_data.groupby(['group'])['users_count'].cumsum()\n",
    "daily_data['cum_purchase'] = daily_data.groupby(['group'])['purchase'].cumsum()\n",
    "daily_data['cum_price'] = daily_data.groupby(['group'])['price'].cumsum()\n",
    "daily_data['cum_conversion'] = daily_data['cum_purchase']/daily_data['cum_users_count'] * 100\n",
    "daily_data['cum_mean_check'] = daily_data['cum_price']/daily_data['cum_purchase']\n",
    "daily_data.head(6)"
   ]
  },
  {
   "cell_type": "markdown",
   "metadata": {},
   "source": [
    "Построим кумулятивные графики конверсии и среднего чека в каждой группе по дням."
   ]
  },
  {
   "cell_type": "code",
   "execution_count": 13,
   "metadata": {},
   "outputs": [
    {
     "data": {
      "image/png": "[encoded data removed]",
      "text/plain": [
       "<Figure size 800x200 with 1 Axes>"
      ]
     },
     "metadata": {},
     "output_type": "display_data"
    }
   ],
   "source": [
    "import matplotlib.pyplot as plt\n",
    "%matplotlib inline\n",
    "\n",
    "# создаём фигуру размером 8x4\n",
    "fig = plt.figure(figsize=(8, 2))\n",
    "# добавляем систему координат\n",
    "ax = fig.add_axes([1, 1, 1, 1])\n",
    "# строим lineplot для кумулятивной конверсии во времени в каждой группе\n",
    "sns.lineplot(x='date', y='cum_conversion', data=daily_data, hue='group', ax=ax)\n",
    "# задаём подпись к графику\n",
    "ax.set_title('График кумулятивной конверсии по дням')\n",
    "# задаём поворот меток на оси абсцисс\n",
    "ax.xaxis.set_tick_params(rotation = 20)\n",
    "# задаём отображение сетки\n",
    "ax.grid(True);"
   ]
  },
  {
   "cell_type": "code",
   "execution_count": 14,
   "metadata": {},
   "outputs": [
    {
     "data": {
      "image/png": "[encoded data removed]",
      "text/plain": [
       "<Figure size 800x200 with 1 Axes>"
      ]
     },
     "metadata": {},
     "output_type": "display_data"
    }
   ],
   "source": [
    "fig = plt.figure(figsize=(8, 2))\n",
    "ax = fig.add_axes([1, 1, 1, 1])\n",
    "sns.lineplot(x='date', y='cum_mean_check', data=daily_data, hue='group', ax=ax)\n",
    "ax.set_title('График кумулятивного среднего чека по дням')\n",
    "ax.xaxis.set_tick_params(rotation = 20)\n",
    "ax.grid(True);"
   ]
  },
  {
   "cell_type": "markdown",
   "metadata": {},
   "source": [
    "В целом, можно утверждать, что A/B-тест завершён (хотя, наверное, продление на неделю не было бы лишним): значения метрик во времени стабилизировались окончательно, на мой взгляд, примерно с 17-18 числел января. По кумулятивной конверсии группа `А` выглядит более предпочтительной, однако по показателю кумулятивного среднего чека безоговорочное преимущество у группы `В`."
   ]
  },
  {
   "cell_type": "markdown",
   "metadata": {},
   "source": [
    "---\n",
    "## Статистический анализ"
   ]
  },
  {
   "cell_type": "markdown",
   "metadata": {},
   "source": [
    "Сформулируем статистические гипотезы, соответствующие поставленным бизнес-вопросам, и выберем статистический тест для их проверки.\n",
    "\n",
    "Во-первых, нам необходимо оценить разницу конверсий — есть ли она вообще. Мы воспользуемся z-тестом для проверки следующей пары гипотез:\n",
    "* Нулевая (будет задавать отсутствие эффекта): конверсии в группах `A` и `B` равны. $$H_0: p_a = p_b$$\n",
    "* Альтернативная (будет задавать наличие эффекта): конверсии в группах `A` и `B` не равны. $$H_1: p_a \\neq p_b$$\n",
    "\n",
    "Если далее возникнет необходимость уточнить различие конверсий — может ли она быть лучше в одной группе, чем в другой? — мы переформулируем наши гипотезы соответствующим образом.\n",
    "\n",
    "Во-вторых, нужно оценить разницу в среднем чеке между группами. Здесь мы проверим распределения на нормальность и, в зависимости от результата, воспользуемся соответствующим тестом. Ну а проверять мы будем следующие пары гипотез:\n",
    "- Для параметрического теста:\n",
    "    * Нулевая: средний чек в группах `A` и `B` равны. $$H_0: \\mu_a = \\mu_b$$\n",
    "    * Альтернативная: средний чек в группах `A` и `B` не равны. $$H_1: \\mu_a \\neq \\mu_b$$\n",
    "- Для непараметрического теста:\n",
    "    * Нулевая: распределение, лежащее в основе среднего чека в группе `A`, идентично распределению, лежащему в основе среднего чека в группе `B`. $$H_0: F_a(u) = F_b(u)$$\n",
    "    * Альтернативная: распределение, лежащее в основе среднего чека в группе `А`, отлично от распределения, лежащего в основе среднего чека в группе `B`: $$H_1: F_a(u) \\neq F_b(u)$$\n",
    "\n",
    "Также, возможно, мы уточним наши гипотезы, если в этом появится нужда."
   ]
  },
  {
   "cell_type": "markdown",
   "metadata": {},
   "source": [
    "С помощью аппарата статистических тестов определим:\n",
    "* Есть ли статистическая разница между конверсиями в группах А и B?\n",
    "* Есть ли статистическая разница между ежедневными средними чеками в группах А и B?"
   ]
  },
  {
   "cell_type": "code",
   "execution_count": 15,
   "metadata": {},
   "outputs": [
    {
     "data": {
      "text/html": [
       "<div>\n",
       "<style scoped>\n",
       "    .dataframe tbody tr th:only-of-type {\n",
       "        vertical-align: middle;\n",
       "    }\n",
       "\n",
       "    .dataframe tbody tr th {\n",
       "        vertical-align: top;\n",
       "    }\n",
       "\n",
       "    .dataframe thead th {\n",
       "        text-align: right;\n",
       "    }\n",
       "</style>\n",
       "<table border=\"1\" class=\"dataframe\">\n",
       "  <thead>\n",
       "    <tr style=\"text-align: right;\">\n",
       "      <th></th>\n",
       "      <th>group</th>\n",
       "      <th>users_count</th>\n",
       "      <th>purchase</th>\n",
       "      <th>price</th>\n",
       "      <th>total_conversion</th>\n",
       "      <th>total_mean_check</th>\n",
       "    </tr>\n",
       "  </thead>\n",
       "  <tbody>\n",
       "    <tr>\n",
       "      <th>0</th>\n",
       "      <td>A</td>\n",
       "      <td>145307</td>\n",
       "      <td>17487</td>\n",
       "      <td>1417780000</td>\n",
       "      <td>12.034520</td>\n",
       "      <td>81076.228055</td>\n",
       "    </tr>\n",
       "    <tr>\n",
       "      <th>1</th>\n",
       "      <td>B</td>\n",
       "      <td>145381</td>\n",
       "      <td>17290</td>\n",
       "      <td>1533010000</td>\n",
       "      <td>11.892888</td>\n",
       "      <td>88664.545980</td>\n",
       "    </tr>\n",
       "  </tbody>\n",
       "</table>\n",
       "</div>"
      ],
      "text/plain": [
       "  group  users_count  purchase       price  total_conversion  total_mean_check\n",
       "0     A       145307     17487  1417780000         12.034520      81076.228055\n",
       "1     B       145381     17290  1533010000         11.892888      88664.545980"
      ]
     },
     "execution_count": 15,
     "metadata": {},
     "output_type": "execute_result"
    }
   ],
   "source": [
    "grouped_data"
   ]
  },
  {
   "cell_type": "code",
   "execution_count": 16,
   "metadata": {},
   "outputs": [
    {
     "name": "stdout",
     "output_type": "stream",
     "text": [
      "p-value:  0.239\n",
      "У нас нет оснований отвергнуть нулевую гипотезу\n"
     ]
    }
   ],
   "source": [
    "from statsmodels.stats.proportion import proportions_ztest\n",
    "\n",
    "alpha = 0.05 # уровень значимости\n",
    "# вычисляем значение p-value для z-теста для пропорций\n",
    "_, p_value = proportions_ztest(\n",
    "    count=grouped_data['purchase'], #число «успехов»\n",
    "    nobs=grouped_data['users_count'], #общее число наблюдений\n",
    "    alternative='two-sided',\n",
    ")\n",
    "# выводим результат на экран\n",
    "print('p-value: ', round(p_value, 3))\n",
    "# сравниваем полученное p-value с уровнем значимости\n",
    "if (p_value <= alpha):\n",
    "    print(\"Отвергаем нулевую гипотезу в пользу альтернативной\")\n",
    "else:\n",
    "    print(\"У нас нет оснований отвергнуть нулевую гипотезу\")"
   ]
  },
  {
   "cell_type": "markdown",
   "metadata": {},
   "source": [
    "Статистическая разница между конверсиями в группах `А` и `B` z-тестом не обнаружена. Значение p-value сильно выше заданного уровня значимости. Уточнять наши гипотезы, пожалуй, нет надобности.\n",
    "\n",
    "Перейдем к исследованию распределений средних чеков."
   ]
  },
  {
   "cell_type": "code",
   "execution_count": 17,
   "metadata": {},
   "outputs": [
    {
     "data": {
      "image/png": "[encoded data removed]",
      "text/plain": [
       "<Figure size 1200x300 with 2 Axes>"
      ]
     },
     "metadata": {},
     "output_type": "display_data"
    }
   ],
   "source": [
    "fig, axes = plt.subplots(1, 2, figsize=(12, 3))\n",
    "# строим гистограмму для времени на сайте в каждой группе\n",
    "sns.histplot(x='mean_check', data=daily_data.query(\"group == 'A'\"), ax=axes[0])\n",
    "sns.histplot(x='mean_check', data=daily_data.query(\"group == 'B'\"), ax=axes[1])\n",
    "# задаём названия графикам\n",
    "axes[0].set_title('Распределение среднего чека в группе А');\n",
    "axes[1].set_title('Распределение среднего чека в группе B');"
   ]
  },
  {
   "cell_type": "markdown",
   "metadata": {},
   "source": [
    "Видимо, тут без Шапиро-Уилка не разберешься."
   ]
  },
  {
   "cell_type": "code",
   "execution_count": 18,
   "metadata": {},
   "outputs": [
    {
     "name": "stdout",
     "output_type": "stream",
     "text": [
      "p-value группы А 0.25\n",
      "p-value группы B 0.09\n",
      "Принимаем нулевую гипотезу. Распределение в группе А является нормальным\n",
      "Принимаем нулевую гипотезу. Распределение в группе B является нормальным\n"
     ]
    }
   ],
   "source": [
    "from scipy.stats import shapiro\n",
    "\n",
    "alpha = 0.05 # уровень значимости\n",
    "# вычисляем результат теста Шапиро — Уилка для выборок\n",
    "shapiro_result_a = shapiro(daily_data.query(\"group == 'A'\")['mean_check'])\n",
    "shapiro_result_b = shapiro(daily_data.query(\"group == 'B'\")['mean_check'])\n",
    "print('p-value группы А', round(shapiro_result_a.pvalue, 2))\n",
    "print('p-value группы B', round(shapiro_result_b.pvalue, 2))\n",
    "\n",
    "# сравниваем полученное p-value для группы А с уровнем значимости\n",
    "if shapiro_result_a.pvalue <= alpha:\n",
    "    print(\"Отвергаем нулевую гипотезу в пользу альтернативной. Распределение в группе А отлично от нормального\")\n",
    "else:\n",
    "    print(\"Принимаем нулевую гипотезу. Распределение в группе А является нормальным\")\n",
    "\n",
    "# сравниваем полученное p-value для группы B с уровнем значимости\n",
    "if shapiro_result_b.pvalue <= alpha:\n",
    "    print(\"Отвергаем нулевую гипотезу в пользу альтернативной. Распределение в группе B отлично от нормального\")\n",
    "else:\n",
    "    print(\"Принимаем нулевую гипотезу. Распределение в группе B является нормальным\")"
   ]
  },
  {
   "cell_type": "markdown",
   "metadata": {},
   "source": [
    "Удивительно. А для нормального распределения у нас есть t-тест!"
   ]
  },
  {
   "cell_type": "code",
   "execution_count": 19,
   "metadata": {},
   "outputs": [
    {
     "name": "stdout",
     "output_type": "stream",
     "text": [
      "p-value: 0.0\n",
      "Отвергаем нулевую гипотезу в пользу альтернативной\n"
     ]
    }
   ],
   "source": [
    "from scipy.stats import ttest_ind\n",
    "\n",
    "alpha = 0.05 #уровень значимости\n",
    "# вычисляем результат T-теста для выборок\n",
    "results = ttest_ind(\n",
    "    a=daily_data.query(\"group == 'A'\")['mean_check'],\n",
    "    b=daily_data.query(\"group == 'B'\")['mean_check'],\n",
    "    alternative='two-sided'\n",
    ")\n",
    "print('p-value:', round(results.pvalue, 2))\n",
    "\n",
    "# сравниваем полученное p-value с уровнем значимости\n",
    "if results.pvalue <= alpha:\n",
    "    print(\"Отвергаем нулевую гипотезу в пользу альтернативной\")\n",
    "else:\n",
    "    print(\"У нас нет оснований отвергнуть нулевую гипотезу\")"
   ]
  },
  {
   "cell_type": "markdown",
   "metadata": {},
   "source": [
    "Однако это не все, мы узнали заключение теста лишь о том, что распределения не равны друг другу. У нас появился повод уточнить гипотезы:\n",
    "* Нулевая: распределение, лежащее в основе среднего чека в группе `A`, статистически больше либо равно распределению, лежащему в основе среднего чека в группе `B`. $$H_0: F_a(u) \\geq F_b(u)$$\n",
    "* Альтернативная: распределение, лежащее в основе среднего чека в группе `А`, статистически меньше распределения, лежащего в основе среднего чека в группе `B`: $$H_1: F_a(u) < F_b(u)$$"
   ]
  },
  {
   "cell_type": "code",
   "execution_count": 22,
   "metadata": {},
   "outputs": [
    {
     "name": "stdout",
     "output_type": "stream",
     "text": [
      "p-value: 0.0\n",
      "Отвергаем нулевую гипотезу в пользу альтернативной\n"
     ]
    }
   ],
   "source": [
    "from scipy.stats import ttest_ind\n",
    "\n",
    "alpha = 0.05 #уровень значимости\n",
    "# вычисляем результат T-теста для выборок\n",
    "results = ttest_ind(\n",
    "    a=daily_data.query(\"group == 'A'\")['mean_check'],\n",
    "    b=daily_data.query(\"group == 'B'\")['mean_check'],\n",
    "    alternative='less'\n",
    ")\n",
    "print('p-value:', round(results.pvalue, 2))\n",
    "\n",
    "# сравниваем полученное p-value с уровнем значимости\n",
    "if results.pvalue <= alpha:\n",
    "    print(\"Отвергаем нулевую гипотезу в пользу альтернативной\")\n",
    "else:\n",
    "    print(\"У нас нет оснований отвергнуть нулевую гипотезу\")"
   ]
  },
  {
   "cell_type": "markdown",
   "metadata": {},
   "source": [
    "Итак, решено: распределение среднего чека в группе `B` больше, чем в группе `A`.\n",
    "\n",
    "Подкрепим результаты статистических тестов, построив 95 % доверительные интервалы для:\n",
    "* конверсий в каждой из групп;\n",
    "* разницы конверсий в группах;\n",
    "* ежедневного среднего чека в каждой из групп.\n",
    "\n",
    "Сперва рассчитаем доверительные интервалы для конверсий в группах."
   ]
  },
  {
   "cell_type": "code",
   "execution_count": 57,
   "metadata": {},
   "outputs": [
    {
     "name": "stdout",
     "output_type": "stream",
     "text": [
      "Доверительный интервал для конверсии в группе А: (11.87, 12.2)\n",
      "Доверительный интервал для конверсии в группе B: (11.73, 12.06)\n"
     ]
    }
   ],
   "source": [
    "from statsmodels.stats import proportion\n",
    "\n",
    "# вычисляем доверительный интервал для конверсии в группе A с уровнем доверия 0.95\n",
    "lower_bound_a, upper_bound_a = proportion.proportion_confint(\n",
    "    count=data.query(\"group == 'A'\")['purchase'].sum(),\n",
    "    nobs=data.query(\"group == 'A'\")['user_id'].count(),\n",
    "    alpha=0.05\n",
    ")\n",
    "\n",
    "# вычисляем доверительный интервал для конверсии в группе B с уровнем доверия 0.95\n",
    "lower_bound_b, upper_bound_b = proportion.proportion_confint(\n",
    "    count=data.query(\"group == 'B'\")['purchase'].sum(),\n",
    "    nobs=data.query(\"group == 'B'\")['user_id'].count(),\n",
    "    alpha=0.05\n",
    ")\n",
    "# выводим результат\n",
    "print('Доверительный интервал для конверсии в группе А: {}'.format(\n",
    "    (round(lower_bound_a * 100, 2), round(upper_bound_a * 100, 2))))\n",
    "print('Доверительный интервал для конверсии в группе B: {}'.format(\n",
    "    (round(lower_bound_b * 100, 2), round(upper_bound_b * 100, 2))))"
   ]
  },
  {
   "cell_type": "markdown",
   "metadata": {},
   "source": [
    "Мы получили пересечение интервалов. Это значит, что существует вероятность, что истинное значение конверсии в обеих группах может совпасть. Т.е. мы не можем однозначно сказать, есть ли разница в конверсиях. Ситуация станет более определенной, когда мы рассчитаем разницу конверсий.\n",
    "\n",
    "Воспользуемся функцией diff_proportion_conf_interval() от наших друзей со следующими аргументами: `x_p` — список из выборочных пропорций для групп `А` и `B` соответственно,  `n` — список из размеров выборки для групп `А` и `B`соответственно, и `gamma` — уровень надёжности (по умолчанию он равен 0.95). Функция будет возвращать кортеж из вычисленных границ доверительного интервала разницы конверсий, умноженных на 100 % и округлённых до второго знака после запятой."
   ]
  },
  {
   "cell_type": "code",
   "execution_count": 51,
   "metadata": {},
   "outputs": [],
   "source": [
    "from scipy.stats import norm\n",
    "\n",
    "def diff_proportion_conf_interval(x_p, n, gamma=0.95):\n",
    "    alpha = 1 - gamma # уровень значимости\n",
    "    diff = x_p[1] - x_p[0] # выборочная разница конверсий групп B и A\n",
    "    z_crit = -norm.ppf(alpha/2) #z-критическое\n",
    "    eps = z_crit * (x_p[0] * (1 - x_p[0])/n[0] + x_p[1] * (1 - x_p[1])/n[1]) ** 0.5 # погрешность\n",
    "    lower_bound = diff - eps # левая (нижняя) граница\n",
    "    upper_bound = diff + eps # правая (верхняя) граница\n",
    "    # возвращаем кортеж из  границ интервала\n",
    "    return lower_bound, upper_bound"
   ]
  },
  {
   "cell_type": "code",
   "execution_count": 55,
   "metadata": {},
   "outputs": [
    {
     "name": "stdout",
     "output_type": "stream",
     "text": [
      "Доверительный интервал для разности конверсий: (-0.38, 0.09)\n"
     ]
    }
   ],
   "source": [
    "# размеры выборок групп А и B\n",
    "n = [\n",
    "    data.query(\"group == 'A'\")['user_id'].count(),\n",
    "    data.query(\"group == 'B'\")['user_id'].count()\n",
    "]\n",
    "# выборочная пропорция групп A и B\n",
    "x_p = [\n",
    "    data.query(\"group == 'A'\")['purchase'].mean(),\n",
    "    data.query(\"group == 'B'\")['purchase'].mean()\n",
    "]\n",
    "\n",
    "\n",
    "# строим доверительный интервал для разности пропорций\n",
    "lower_bound, upper_bound = diff_proportion_conf_interval(x_p=x_p, n=n)\n",
    "\n",
    "\n",
    "# выводим результат\n",
    "print('Доверительный интервал для разности конверсий: {}'.format(\n",
    "    (round(lower_bound*100, 2), round(upper_bound*100, 2))))"
   ]
  },
  {
   "cell_type": "markdown",
   "metadata": {},
   "source": [
    "Наш интервал охватывает точку 0, а значит, статистической разницы в конверсии между группами не имеется — они равнозначны.\n",
    "\n",
    "Осталось рассчитать доверительные интервалы для ежедневного среднего чека в каждой из групп."
   ]
  },
  {
   "cell_type": "code",
   "execution_count": 62,
   "metadata": {},
   "outputs": [
    {
     "name": "stdout",
     "output_type": "stream",
     "text": [
      "Доверительный интервал для ежедневного среднего чека в группе А: (55.47, 55.98)\n",
      "Доверительный интервал для ежедневного среднего чека в группе B: (60.68, 61.18)\n"
     ]
    }
   ],
   "source": [
    "# вычисляем доверительный интервал для конверсии в группе A с уровнем доверия 0.95\n",
    "lower_bound_a, upper_bound_a = proportion.proportion_confint(\n",
    "    count=daily_data.query(\"group == 'A'\")['mean_check'].mean(),\n",
    "    nobs=daily_data.query(\"group == 'A'\")['users_count'].sum(),\n",
    "    alpha=0.05\n",
    ")\n",
    "\n",
    "# вычисляем доверительный интервал для конверсии в группе B с уровнем доверия 0.95\n",
    "lower_bound_b, upper_bound_b = proportion.proportion_confint(\n",
    "    count=daily_data.query(\"group == 'B'\")['mean_check'].mean(),\n",
    "    nobs=daily_data.query(\"group == 'B'\")['users_count'].sum(),\n",
    "    alpha=0.05\n",
    ")\n",
    "# выводим результат\n",
    "print('Доверительный интервал для ежедневного среднего чека в группе А: {}'.format(\n",
    "    (round(lower_bound_a * 100, 2), round(upper_bound_a * 100, 2))))\n",
    "print('Доверительный интервал для ежедневного среднего чека в группе B: {}'.format(\n",
    "    (round(lower_bound_b * 100, 2), round(upper_bound_b * 100, 2))))"
   ]
  },
  {
   "cell_type": "markdown",
   "metadata": {},
   "source": [
    "Доверительные интервалы не пересекаются, а это говорит о том, что истинное значение ежедневного среднего чека в обеих группах совпасть не может."
   ]
  },
  {
   "cell_type": "markdown",
   "metadata": {},
   "source": [
    "---\n",
    "## Вывод"
   ]
  },
  {
   "cell_type": "markdown",
   "metadata": {},
   "source": [
    "Мы проанализировали эффективность обоих вариантов посадочной страницы по двум критериям — конверсии покупки и ежедневному среднему чеку. Убедились, что A/B-тестирование было проведено корректно, проверили факт стабилизации метрик и, воспользовавшись статистическими тестами, установили: вариант `B` посадочной страницы более предпочтителен по метрике ежедневного среднего чека, а по метрике конверсии между вариантами `A` и `B` статистически значимая разница не определяется.\n",
    "\n",
    "Вероятное объяснение преимущества `B`-версии: смещение предпочтений клиентов в пользу более дорогого тура."
   ]
  }
 ],
 "metadata": {
  "kernelspec": {
   "display_name": "Python 3",
   "language": "python",
   "name": "python3"
  },
  "language_info": {
   "codemirror_mode": {
    "name": "ipython",
    "version": 3
   },
   "file_extension": ".py",
   "mimetype": "text/x-python",
   "name": "python",
   "nbconvert_exporter": "python",
   "pygments_lexer": "ipython3",
   "version": "3.11.1"
  }
 },
 "nbformat": 4,
 "nbformat_minor": 2
}
