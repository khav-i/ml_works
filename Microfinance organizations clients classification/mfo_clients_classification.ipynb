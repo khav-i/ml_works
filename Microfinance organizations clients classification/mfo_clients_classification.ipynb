{
 "cells": [
  {
   "cell_type": "markdown",
   "metadata": {},
   "source": [
    "# **Microfinance organizations clients classification**"
   ]
  },
  {
   "cell_type": "code",
   "execution_count": 1,
   "metadata": {},
   "outputs": [],
   "source": [
    "import pandas as pd\n",
    "import numpy as np\n",
    "from sklearn.preprocessing import StandardScaler\n",
    "from sklearn.model_selection import train_test_split\n",
    "from catboost import CatBoostRegressor\n",
    "from sklearn.model_selection import cross_val_score\n",
    "from imblearn.over_sampling import SMOTE, ADASYN\n",
    "from collections import Counter\n",
    "from sklearn.utils.class_weight import compute_class_weight\n",
    "from sklearn.metrics import classification_report, roc_auc_score, roc_curve, auc\n",
    "from sklearn.metrics import confusion_matrix, ConfusionMatrixDisplay\n",
    "\n",
    "from sklearn.linear_model import LogisticRegression\n",
    "from sklearn.neural_network import MLPClassifier\n",
    "from sklearn.neighbors import KNeighborsClassifier\n",
    "from sklearn.tree import DecisionTreeClassifier\n",
    "from sklearn.ensemble import BaggingClassifier\n",
    "from sklearn.ensemble import RandomForestClassifier\n",
    "from sklearn.ensemble import ExtraTreesClassifier\n",
    "from sklearn.ensemble import HistGradientBoostingClassifier\n",
    "from lightgbm import LGBMClassifier\n",
    "from xgboost import XGBClassifier\n",
    "from catboost import CatBoostClassifier\n",
    "\n",
    "import optuna\n",
    "from tqdm import tqdm\n",
    "\n",
    "import seaborn as sns\n",
    "import matplotlib.pyplot as plt"
   ]
  },
  {
   "cell_type": "markdown",
   "metadata": {},
   "source": [
    "## Загрузка данных"
   ]
  },
  {
   "cell_type": "code",
   "execution_count": 2,
   "metadata": {},
   "outputs": [
    {
     "name": "stdout",
     "output_type": "stream",
     "text": [
      "shape of data: (255820, 126)\n"
     ]
    },
    {
     "data": {
      "text/html": [
       "<div>\n",
       "<style scoped>\n",
       "    .dataframe tbody tr th:only-of-type {\n",
       "        vertical-align: middle;\n",
       "    }\n",
       "\n",
       "    .dataframe tbody tr th {\n",
       "        vertical-align: top;\n",
       "    }\n",
       "\n",
       "    .dataframe thead th {\n",
       "        text-align: right;\n",
       "    }\n",
       "</style>\n",
       "<table border=\"1\" class=\"dataframe\">\n",
       "  <thead>\n",
       "    <tr style=\"text-align: right;\">\n",
       "      <th></th>\n",
       "      <th>ID</th>\n",
       "      <th>feature_1</th>\n",
       "      <th>feature_2</th>\n",
       "      <th>feature_3</th>\n",
       "      <th>feature_4</th>\n",
       "      <th>feature_121</th>\n",
       "      <th>feature_122</th>\n",
       "      <th>feature_123</th>\n",
       "      <th>feature_124</th>\n",
       "      <th>target</th>\n",
       "    </tr>\n",
       "  </thead>\n",
       "  <tbody>\n",
       "    <tr>\n",
       "      <th>0</th>\n",
       "      <td>1</td>\n",
       "      <td>1</td>\n",
       "      <td>0</td>\n",
       "      <td>0</td>\n",
       "      <td>1381</td>\n",
       "      <td>4000</td>\n",
       "      <td>7526.3157</td>\n",
       "      <td>12000</td>\n",
       "      <td>0.583333</td>\n",
       "      <td>0</td>\n",
       "    </tr>\n",
       "    <tr>\n",
       "      <th>1</th>\n",
       "      <td>2</td>\n",
       "      <td>0</td>\n",
       "      <td>0</td>\n",
       "      <td>0</td>\n",
       "      <td>1809</td>\n",
       "      <td>1000</td>\n",
       "      <td>8393.4426</td>\n",
       "      <td>30000</td>\n",
       "      <td>0.333333</td>\n",
       "      <td>0</td>\n",
       "    </tr>\n",
       "    <tr>\n",
       "      <th>2</th>\n",
       "      <td>3</td>\n",
       "      <td>0</td>\n",
       "      <td>0</td>\n",
       "      <td>0</td>\n",
       "      <td>1804</td>\n",
       "      <td>1000</td>\n",
       "      <td>3425.9259</td>\n",
       "      <td>15000</td>\n",
       "      <td>0.200000</td>\n",
       "      <td>0</td>\n",
       "    </tr>\n",
       "    <tr>\n",
       "      <th>3</th>\n",
       "      <td>4</td>\n",
       "      <td>0</td>\n",
       "      <td>0</td>\n",
       "      <td>0</td>\n",
       "      <td>1560</td>\n",
       "      <td>1000</td>\n",
       "      <td>1946.6666</td>\n",
       "      <td>3000</td>\n",
       "      <td>0.666667</td>\n",
       "      <td>0</td>\n",
       "    </tr>\n",
       "    <tr>\n",
       "      <th>4</th>\n",
       "      <td>5</td>\n",
       "      <td>0</td>\n",
       "      <td>0</td>\n",
       "      <td>0</td>\n",
       "      <td>258</td>\n",
       "      <td>2000</td>\n",
       "      <td>4444.4444</td>\n",
       "      <td>8000</td>\n",
       "      <td>0.250000</td>\n",
       "      <td>0</td>\n",
       "    </tr>\n",
       "  </tbody>\n",
       "</table>\n",
       "</div>"
      ],
      "text/plain": [
       "   ID  feature_1  feature_2  feature_3  feature_4  feature_121  feature_122  \\\n",
       "0   1          1          0          0       1381         4000    7526.3157   \n",
       "1   2          0          0          0       1809         1000    8393.4426   \n",
       "2   3          0          0          0       1804         1000    3425.9259   \n",
       "3   4          0          0          0       1560         1000    1946.6666   \n",
       "4   5          0          0          0        258         2000    4444.4444   \n",
       "\n",
       "   feature_123  feature_124  target  \n",
       "0        12000     0.583333       0  \n",
       "1        30000     0.333333       0  \n",
       "2        15000     0.200000       0  \n",
       "3         3000     0.666667       0  \n",
       "4         8000     0.250000       0  "
      ]
     },
     "execution_count": 2,
     "metadata": {},
     "output_type": "execute_result"
    }
   ],
   "source": [
    "data = pd.read_csv('data.csv', sep=';')\n",
    "print(f'shape of data: {data.shape}')\n",
    "data.head().iloc[:, [x for x in range(5)] + [x for x in range(-5, 0)]]"
   ]
  },
  {
   "cell_type": "code",
   "execution_count": 3,
   "metadata": {},
   "outputs": [
    {
     "name": "stdout",
     "output_type": "stream",
     "text": [
      "shape of verify data: (56030, 125)\n"
     ]
    },
    {
     "data": {
      "text/html": [
       "<div>\n",
       "<style scoped>\n",
       "    .dataframe tbody tr th:only-of-type {\n",
       "        vertical-align: middle;\n",
       "    }\n",
       "\n",
       "    .dataframe tbody tr th {\n",
       "        vertical-align: top;\n",
       "    }\n",
       "\n",
       "    .dataframe thead th {\n",
       "        text-align: right;\n",
       "    }\n",
       "</style>\n",
       "<table border=\"1\" class=\"dataframe\">\n",
       "  <thead>\n",
       "    <tr style=\"text-align: right;\">\n",
       "      <th></th>\n",
       "      <th>ID</th>\n",
       "      <th>feature_1</th>\n",
       "      <th>feature_2</th>\n",
       "      <th>feature_3</th>\n",
       "      <th>feature_4</th>\n",
       "      <th>feature_120</th>\n",
       "      <th>feature_121</th>\n",
       "      <th>feature_122</th>\n",
       "      <th>feature_123</th>\n",
       "      <th>feature_124</th>\n",
       "    </tr>\n",
       "  </thead>\n",
       "  <tbody>\n",
       "    <tr>\n",
       "      <th>0</th>\n",
       "      <td>255821</td>\n",
       "      <td>0</td>\n",
       "      <td>0</td>\n",
       "      <td>0</td>\n",
       "      <td>2268</td>\n",
       "      <td>6000</td>\n",
       "      <td>1000</td>\n",
       "      <td>4551.0204</td>\n",
       "      <td>12000</td>\n",
       "      <td>0.500000</td>\n",
       "    </tr>\n",
       "    <tr>\n",
       "      <th>1</th>\n",
       "      <td>255822</td>\n",
       "      <td>0</td>\n",
       "      <td>0</td>\n",
       "      <td>0</td>\n",
       "      <td>42</td>\n",
       "      <td>6000</td>\n",
       "      <td>3400</td>\n",
       "      <td>4700.0000</td>\n",
       "      <td>6000</td>\n",
       "      <td>1.000000</td>\n",
       "    </tr>\n",
       "    <tr>\n",
       "      <th>2</th>\n",
       "      <td>255823</td>\n",
       "      <td>0</td>\n",
       "      <td>0</td>\n",
       "      <td>0</td>\n",
       "      <td>265</td>\n",
       "      <td>3000</td>\n",
       "      <td>3000</td>\n",
       "      <td>4133.3333</td>\n",
       "      <td>6000</td>\n",
       "      <td>0.500000</td>\n",
       "    </tr>\n",
       "    <tr>\n",
       "      <th>3</th>\n",
       "      <td>255824</td>\n",
       "      <td>1</td>\n",
       "      <td>0</td>\n",
       "      <td>0</td>\n",
       "      <td>834</td>\n",
       "      <td>2000</td>\n",
       "      <td>1000</td>\n",
       "      <td>3875.0000</td>\n",
       "      <td>11000</td>\n",
       "      <td>0.181818</td>\n",
       "    </tr>\n",
       "    <tr>\n",
       "      <th>4</th>\n",
       "      <td>255825</td>\n",
       "      <td>0</td>\n",
       "      <td>0</td>\n",
       "      <td>0</td>\n",
       "      <td>772</td>\n",
       "      <td>8000</td>\n",
       "      <td>2000</td>\n",
       "      <td>7640.0000</td>\n",
       "      <td>12000</td>\n",
       "      <td>0.666667</td>\n",
       "    </tr>\n",
       "  </tbody>\n",
       "</table>\n",
       "</div>"
      ],
      "text/plain": [
       "       ID  feature_1  feature_2  feature_3  feature_4  feature_120  \\\n",
       "0  255821          0          0          0       2268         6000   \n",
       "1  255822          0          0          0         42         6000   \n",
       "2  255823          0          0          0        265         3000   \n",
       "3  255824          1          0          0        834         2000   \n",
       "4  255825          0          0          0        772         8000   \n",
       "\n",
       "   feature_121  feature_122  feature_123  feature_124  \n",
       "0         1000    4551.0204        12000     0.500000  \n",
       "1         3400    4700.0000         6000     1.000000  \n",
       "2         3000    4133.3333         6000     0.500000  \n",
       "3         1000    3875.0000        11000     0.181818  \n",
       "4         2000    7640.0000        12000     0.666667  "
      ]
     },
     "execution_count": 3,
     "metadata": {},
     "output_type": "execute_result"
    }
   ],
   "source": [
    "verify = pd.read_csv('verify.csv', sep=';')\n",
    "print(f'shape of verify data: {verify.shape}')\n",
    "verify.head().iloc[:, [x for x in range(5)] + [x for x in range(-5, 0)]]"
   ]
  },
  {
   "cell_type": "markdown",
   "metadata": {},
   "source": [
    "## Обработка данных"
   ]
  },
  {
   "cell_type": "markdown",
   "metadata": {},
   "source": [
    "Посмотрим на распределение классов."
   ]
  },
  {
   "cell_type": "code",
   "execution_count": 4,
   "metadata": {},
   "outputs": [
    {
     "data": {
      "text/plain": [
       "target\n",
       "0    205310\n",
       "1     50510\n",
       "Name: count, dtype: int64"
      ]
     },
     "execution_count": 4,
     "metadata": {},
     "output_type": "execute_result"
    }
   ],
   "source": [
    "data.target.value_counts()"
   ]
  },
  {
   "cell_type": "markdown",
   "metadata": {},
   "source": [
    "Имеется дисбаланс классов!\n",
    "\n",
    "Проверим данные на наличие дубликатов."
   ]
  },
  {
   "cell_type": "code",
   "execution_count": 5,
   "metadata": {},
   "outputs": [
    {
     "name": "stdout",
     "output_type": "stream",
     "text": [
      "Количество дубликатов в data: 0\n",
      "Количество дубликатов в verify: 0\n"
     ]
    }
   ],
   "source": [
    "duplicates = data.duplicated()\n",
    "print(f\"Количество дубликатов в data: {duplicates.sum()}\")\n",
    "duplicates = verify.duplicated()\n",
    "print(f\"Количество дубликатов в verify: {duplicates.sum()}\")"
   ]
  },
  {
   "cell_type": "code",
   "execution_count": 6,
   "metadata": {},
   "outputs": [
    {
     "data": {
      "text/html": [
       "<div>\n",
       "<style scoped>\n",
       "    .dataframe tbody tr th:only-of-type {\n",
       "        vertical-align: middle;\n",
       "    }\n",
       "\n",
       "    .dataframe tbody tr th {\n",
       "        vertical-align: top;\n",
       "    }\n",
       "\n",
       "    .dataframe thead th {\n",
       "        text-align: right;\n",
       "    }\n",
       "</style>\n",
       "<table border=\"1\" class=\"dataframe\">\n",
       "  <thead>\n",
       "    <tr style=\"text-align: right;\">\n",
       "      <th></th>\n",
       "      <th>Column Name</th>\n",
       "      <th>Missing Count</th>\n",
       "      <th>Missing Fraction</th>\n",
       "    </tr>\n",
       "  </thead>\n",
       "  <tbody>\n",
       "    <tr>\n",
       "      <th>0</th>\n",
       "      <td>feature_102</td>\n",
       "      <td>37795</td>\n",
       "      <td>0.147741</td>\n",
       "    </tr>\n",
       "    <tr>\n",
       "      <th>1</th>\n",
       "      <td>feature_103</td>\n",
       "      <td>37795</td>\n",
       "      <td>0.147741</td>\n",
       "    </tr>\n",
       "    <tr>\n",
       "      <th>2</th>\n",
       "      <td>feature_104</td>\n",
       "      <td>37795</td>\n",
       "      <td>0.147741</td>\n",
       "    </tr>\n",
       "    <tr>\n",
       "      <th>3</th>\n",
       "      <td>feature_105</td>\n",
       "      <td>37795</td>\n",
       "      <td>0.147741</td>\n",
       "    </tr>\n",
       "    <tr>\n",
       "      <th>4</th>\n",
       "      <td>feature_106</td>\n",
       "      <td>41893</td>\n",
       "      <td>0.163760</td>\n",
       "    </tr>\n",
       "  </tbody>\n",
       "</table>\n",
       "</div>"
      ],
      "text/plain": [
       "   Column Name  Missing Count  Missing Fraction\n",
       "0  feature_102          37795          0.147741\n",
       "1  feature_103          37795          0.147741\n",
       "2  feature_104          37795          0.147741\n",
       "3  feature_105          37795          0.147741\n",
       "4  feature_106          41893          0.163760"
      ]
     },
     "execution_count": 6,
     "metadata": {},
     "output_type": "execute_result"
    }
   ],
   "source": [
    "# Вычисляем количество пропусков\n",
    "missing_values = data.isna().sum()\n",
    "\n",
    "# Вычисляем долю пропусков\n",
    "total_rows = len(data)\n",
    "missing_fraction = missing_values / total_rows\n",
    "\n",
    "# Создаем DataFrame с именами признаков, количеством и долей пропусков\n",
    "missing_columns_df = pd.DataFrame({\n",
    "    'Column Name': missing_values.index,\n",
    "    'Missing Count': missing_values.values,\n",
    "    'Missing Fraction': missing_fraction.values\n",
    "})\n",
    "\n",
    "# Фильтруем только те столбцы, где есть пропуски\n",
    "missing_columns_df = missing_columns_df[missing_columns_df['Missing Count'] > 0]\n",
    "\n",
    "# Сброс индексов для удобства\n",
    "missing_columns_df.reset_index(drop=True, inplace=True)\n",
    "\n",
    "# Выводим полученный DataFrame\n",
    "missing_columns_df"
   ]
  },
  {
   "cell_type": "markdown",
   "metadata": {},
   "source": [
    "Доля пропусков не фатальная: если будем обучать линейные модели, то нужно применить способ заполнения пропусков либо удалить строки; если лесом пойдём, то пропуски нам не страшны."
   ]
  },
  {
   "cell_type": "code",
   "execution_count": 7,
   "metadata": {},
   "outputs": [
    {
     "data": {
      "text/html": [
       "<div>\n",
       "<style scoped>\n",
       "    .dataframe tbody tr th:only-of-type {\n",
       "        vertical-align: middle;\n",
       "    }\n",
       "\n",
       "    .dataframe tbody tr th {\n",
       "        vertical-align: top;\n",
       "    }\n",
       "\n",
       "    .dataframe thead th {\n",
       "        text-align: right;\n",
       "    }\n",
       "</style>\n",
       "<table border=\"1\" class=\"dataframe\">\n",
       "  <thead>\n",
       "    <tr style=\"text-align: right;\">\n",
       "      <th></th>\n",
       "      <th>Column Name</th>\n",
       "      <th>Missing Count</th>\n",
       "      <th>Missing Fraction</th>\n",
       "    </tr>\n",
       "  </thead>\n",
       "  <tbody>\n",
       "    <tr>\n",
       "      <th>0</th>\n",
       "      <td>feature_102</td>\n",
       "      <td>11459</td>\n",
       "      <td>0.204515</td>\n",
       "    </tr>\n",
       "    <tr>\n",
       "      <th>1</th>\n",
       "      <td>feature_103</td>\n",
       "      <td>11459</td>\n",
       "      <td>0.204515</td>\n",
       "    </tr>\n",
       "    <tr>\n",
       "      <th>2</th>\n",
       "      <td>feature_104</td>\n",
       "      <td>11459</td>\n",
       "      <td>0.204515</td>\n",
       "    </tr>\n",
       "    <tr>\n",
       "      <th>3</th>\n",
       "      <td>feature_105</td>\n",
       "      <td>11459</td>\n",
       "      <td>0.204515</td>\n",
       "    </tr>\n",
       "    <tr>\n",
       "      <th>4</th>\n",
       "      <td>feature_106</td>\n",
       "      <td>12960</td>\n",
       "      <td>0.231305</td>\n",
       "    </tr>\n",
       "  </tbody>\n",
       "</table>\n",
       "</div>"
      ],
      "text/plain": [
       "   Column Name  Missing Count  Missing Fraction\n",
       "0  feature_102          11459          0.204515\n",
       "1  feature_103          11459          0.204515\n",
       "2  feature_104          11459          0.204515\n",
       "3  feature_105          11459          0.204515\n",
       "4  feature_106          12960          0.231305"
      ]
     },
     "execution_count": 7,
     "metadata": {},
     "output_type": "execute_result"
    }
   ],
   "source": [
    "# Вычисляем количество пропусков\n",
    "verify_missing_values = verify.isna().sum()\n",
    "\n",
    "# Вычисляем долю пропусков\n",
    "verify_total_rows = len(verify)\n",
    "verify_missing_fraction = verify_missing_values / verify_total_rows\n",
    "\n",
    "# Создаем DataFrame с именами признаков, количеством и долей пропусков\n",
    "verify_missing_columns_df = pd.DataFrame({\n",
    "    'Column Name': verify_missing_values.index,\n",
    "    'Missing Count': verify_missing_values.values,\n",
    "    'Missing Fraction': verify_missing_fraction.values\n",
    "})\n",
    "\n",
    "# Фильтруем только те столбцы, где есть пропуски\n",
    "verify_missing_columns_df = verify_missing_columns_df[verify_missing_columns_df['Missing Count'] > 0]\n",
    "\n",
    "# Сброс индексов для удобства\n",
    "verify_missing_columns_df.reset_index(drop=True, inplace=True)\n",
    "\n",
    "# Выводим полученный DataFrame\n",
    "verify_missing_columns_df"
   ]
  },
  {
   "cell_type": "markdown",
   "metadata": {},
   "source": [
    "А в тестовых данных доля пропусков побольше! Но они в тех же столбцах."
   ]
  },
  {
   "cell_type": "markdown",
   "metadata": {},
   "source": [
    "\n",
    "Мы можем предварительно посмотреть на то, как расположены пропуски в данных."
   ]
  },
  {
   "cell_type": "code",
   "execution_count": 8,
   "metadata": {},
   "outputs": [
    {
     "data": {
      "image/png": "[encoded data removed]",
      "text/plain": [
       "<Figure size 1000x1000 with 1 Axes>"
      ]
     },
     "metadata": {},
     "output_type": "display_data"
    }
   ],
   "source": [
    "# Создадим тепловую карту для визуализации пропусков\n",
    "plt.figure(figsize=(10, 10))\n",
    "sns.heatmap(data[\n",
    "    missing_columns_df['Column Name'].values.tolist()\n",
    "    ].isna(), cbar=False, cmap='viridis')\n",
    "plt.title('Null Values in Data')\n",
    "plt.show()"
   ]
  },
  {
   "cell_type": "markdown",
   "metadata": {},
   "source": [
    "Очень похоже на то, что пропуски по этим признакам расположены в одних и тех же строках, кроме некоторого отличия с feature_106.\n",
    "\n",
    "Бороться с пропусками можно по-разному: заместить значениями показателей центральной тенденции, сгенерировать данные, удалить строки. По-хорошему, серьёзный анализ включает в себя проверку всех способов. Но а мы опробуем здесь генерацию данных с помощью регрессионного метода."
   ]
  },
  {
   "cell_type": "code",
   "execution_count": 9,
   "metadata": {},
   "outputs": [
    {
     "data": {
      "text/html": [
       "<div>\n",
       "<style scoped>\n",
       "    .dataframe tbody tr th:only-of-type {\n",
       "        vertical-align: middle;\n",
       "    }\n",
       "\n",
       "    .dataframe tbody tr th {\n",
       "        vertical-align: top;\n",
       "    }\n",
       "\n",
       "    .dataframe thead th {\n",
       "        text-align: right;\n",
       "    }\n",
       "</style>\n",
       "<table border=\"1\" class=\"dataframe\">\n",
       "  <thead>\n",
       "    <tr style=\"text-align: right;\">\n",
       "      <th></th>\n",
       "      <th>feature_102</th>\n",
       "      <th>feature_103</th>\n",
       "      <th>feature_104</th>\n",
       "      <th>feature_105</th>\n",
       "      <th>feature_106</th>\n",
       "    </tr>\n",
       "  </thead>\n",
       "  <tbody>\n",
       "    <tr>\n",
       "      <th>count</th>\n",
       "      <td>218025.000000</td>\n",
       "      <td>218025.000000</td>\n",
       "      <td>218025.000000</td>\n",
       "      <td>218025.000000</td>\n",
       "      <td>213927.000000</td>\n",
       "    </tr>\n",
       "    <tr>\n",
       "      <th>mean</th>\n",
       "      <td>59.992574</td>\n",
       "      <td>17.457980</td>\n",
       "      <td>59.184222</td>\n",
       "      <td>241.548387</td>\n",
       "      <td>0.352597</td>\n",
       "    </tr>\n",
       "    <tr>\n",
       "      <th>std</th>\n",
       "      <td>194.964719</td>\n",
       "      <td>124.375112</td>\n",
       "      <td>147.625042</td>\n",
       "      <td>359.238223</td>\n",
       "      <td>0.518324</td>\n",
       "    </tr>\n",
       "    <tr>\n",
       "      <th>min</th>\n",
       "      <td>-490.000000</td>\n",
       "      <td>-948.000000</td>\n",
       "      <td>-153.000000</td>\n",
       "      <td>-81.000000</td>\n",
       "      <td>-76.600000</td>\n",
       "    </tr>\n",
       "    <tr>\n",
       "      <th>25%</th>\n",
       "      <td>4.000000</td>\n",
       "      <td>0.000000</td>\n",
       "      <td>11.000000</td>\n",
       "      <td>34.000000</td>\n",
       "      <td>0.031646</td>\n",
       "    </tr>\n",
       "    <tr>\n",
       "      <th>50%</th>\n",
       "      <td>11.000000</td>\n",
       "      <td>1.000000</td>\n",
       "      <td>23.000000</td>\n",
       "      <td>108.000000</td>\n",
       "      <td>0.146341</td>\n",
       "    </tr>\n",
       "    <tr>\n",
       "      <th>75%</th>\n",
       "      <td>32.000000</td>\n",
       "      <td>5.000000</td>\n",
       "      <td>51.000000</td>\n",
       "      <td>283.000000</td>\n",
       "      <td>0.752187</td>\n",
       "    </tr>\n",
       "    <tr>\n",
       "      <th>max</th>\n",
       "      <td>3278.000000</td>\n",
       "      <td>3278.000000</td>\n",
       "      <td>3278.000000</td>\n",
       "      <td>3278.000000</td>\n",
       "      <td>9.428571</td>\n",
       "    </tr>\n",
       "  </tbody>\n",
       "</table>\n",
       "</div>"
      ],
      "text/plain": [
       "         feature_102    feature_103    feature_104    feature_105  \\\n",
       "count  218025.000000  218025.000000  218025.000000  218025.000000   \n",
       "mean       59.992574      17.457980      59.184222     241.548387   \n",
       "std       194.964719     124.375112     147.625042     359.238223   \n",
       "min      -490.000000    -948.000000    -153.000000     -81.000000   \n",
       "25%         4.000000       0.000000      11.000000      34.000000   \n",
       "50%        11.000000       1.000000      23.000000     108.000000   \n",
       "75%        32.000000       5.000000      51.000000     283.000000   \n",
       "max      3278.000000    3278.000000    3278.000000    3278.000000   \n",
       "\n",
       "         feature_106  \n",
       "count  213927.000000  \n",
       "mean        0.352597  \n",
       "std         0.518324  \n",
       "min       -76.600000  \n",
       "25%         0.031646  \n",
       "50%         0.146341  \n",
       "75%         0.752187  \n",
       "max         9.428571  "
      ]
     },
     "execution_count": 9,
     "metadata": {},
     "output_type": "execute_result"
    }
   ],
   "source": [
    "# Список колонок с пропусками\n",
    "columns_with_nans = missing_columns_df['Column Name'].values.tolist()\n",
    "data[columns_with_nans].describe()"
   ]
  },
  {
   "cell_type": "code",
   "execution_count": 10,
   "metadata": {},
   "outputs": [
    {
     "name": "stdout",
     "output_type": "stream",
     "text": [
      "Кросс-валидация для feature_102: RMSE = 143.196549198904\n",
      "Кросс-валидация для feature_103: RMSE = 69.32459390497452\n",
      "Кросс-валидация для feature_104: RMSE = 75.99690259899991\n",
      "Кросс-валидация для feature_105: RMSE = 169.82633112374583\n",
      "Кросс-валидация для feature_106: RMSE = 0.40003599524780525\n",
      "CPU times: total: 12min 39s\n",
      "Wall time: 6min 34s\n"
     ]
    }
   ],
   "source": [
    "%%time\n",
    "data_copy = data.copy()\n",
    "verify_copy = verify.copy()\n",
    "\n",
    "# Функция для заполнения пропусков\n",
    "def fill_missing_with_regression(original_df1, original_df2, columns_with_nans, target_column):\n",
    "    # Создаем копию данных из первой таблицы\n",
    "    df1 = original_df1.copy()\n",
    "\n",
    "    # Разделяем данные на обучающую и тестовую выборки\n",
    "    train_data = df1[df1[target_column].notnull()]\n",
    "    test_data = pd.concat([df1[df1[target_column].isnull()], original_df2[original_df2[target_column].isnull()]], keys=['df1', 'df2'])\n",
    "\n",
    "    # Определяем признаки и целевую переменную\n",
    "    X_train = train_data.drop(columns=['ID'] + columns_with_nans)\n",
    "    y_train = train_data[target_column]\n",
    "\n",
    "    # Создаем и обучаем модель\n",
    "    model = CatBoostRegressor(verbose=0)\n",
    "\n",
    "    # Оценка качества модели с помощью кросс-валидации\n",
    "    scores = cross_val_score(\n",
    "        model, X_train, y_train,\n",
    "        n_jobs=-1, cv=5,\n",
    "        scoring='neg_root_mean_squared_error'\n",
    "    )\n",
    "    print(f'Кросс-валидация для {target_column}: RMSE = {-scores.mean()}')\n",
    "\n",
    "    # Обучаем модель на всех доступных данных\n",
    "    model.fit(X_train, y_train)\n",
    "\n",
    "    # Заполняем пропуски\n",
    "    if not test_data.empty:\n",
    "        X_test = test_data.drop(columns=['ID'] + columns_with_nans)\n",
    "        filled_values = model.predict(X_test)\n",
    "\n",
    "        # Получаем индексы заполненных значений\n",
    "        test_indices = test_data.index\n",
    "\n",
    "        # Заполняем пропуски в оригинальных DataFrame\n",
    "        for value, idx in zip(filled_values, test_indices):\n",
    "            if idx[0] == 'df1':\n",
    "                original_df1.loc[original_df1.index == idx[1], target_column] = value\n",
    "            else:\n",
    "                original_df2.loc[original_df2.index == idx[1], target_column] = value\n",
    "\n",
    "# Заполнение пропусков для каждого признака\n",
    "for column in columns_with_nans:\n",
    "    fill_missing_with_regression(data_copy, verify_copy, columns_with_nans, column)"
   ]
  },
  {
   "cell_type": "code",
   "execution_count": 11,
   "metadata": {},
   "outputs": [],
   "source": [
    "# Скопируем данные для базового решения\n",
    "baseline_data = data.copy()\n",
    "# Заполним пропуски средними \n",
    "baseline_data.fillna(baseline_data.mean(), inplace=True)"
   ]
  },
  {
   "cell_type": "markdown",
   "metadata": {},
   "source": [
    "Разделим данные на X и y."
   ]
  },
  {
   "cell_type": "code",
   "execution_count": 12,
   "metadata": {},
   "outputs": [],
   "source": [
    "# Разделение данных на признаки и целевую переменную\n",
    "X_lin = baseline_data.drop(['ID', 'target'], axis=1)\n",
    "y_lin = baseline_data['target']"
   ]
  },
  {
   "cell_type": "code",
   "execution_count": 16,
   "metadata": {},
   "outputs": [],
   "source": [
    "# from sklearn.neighbors import LocalOutlierFactor"
   ]
  },
  {
   "cell_type": "code",
   "execution_count": 17,
   "metadata": {},
   "outputs": [
    {
     "data": {
      "text/plain": [
       " 1    246600\n",
       "-1      9220\n",
       "Name: count, dtype: int64"
      ]
     },
     "execution_count": 17,
     "metadata": {},
     "output_type": "execute_result"
    }
   ],
   "source": [
    "# clf = LocalOutlierFactor(n_jobs=-1).fit_predict(X_lin)\n",
    "# pd.Series(clf).value_counts()"
   ]
  },
  {
   "cell_type": "code",
   "execution_count": 24,
   "metadata": {},
   "outputs": [],
   "source": [
    "# X_lin_lof = X_lin[clf == 1]\n",
    "# y_lin_lof = y_lin[clf == 1]"
   ]
  },
  {
   "cell_type": "code",
   "execution_count": 14,
   "metadata": {},
   "outputs": [],
   "source": [
    "# Разделение на обучающую и тестовую выборки\n",
    "# X_lin_lof_train, X_lin_lof_valid, y_lin_lof_train, y_lin_lof_valid = train_test_split(\n",
    "#     X_lin_lof, y_lin_lof, stratify=y_lin_lof, test_size=0.2, random_state=42\n",
    "#     )\n",
    "\n",
    "# lin_lof_scaler = StandardScaler()\n",
    "# X_lin_lof_train_scaled = lin_lof_scaler.fit_transform(X_lin_lof_train)\n",
    "# X_lin_lof_valid_scaled = lin_lof_scaler.transform(X_lin_lof_valid)"
   ]
  },
  {
   "cell_type": "code",
   "execution_count": null,
   "metadata": {},
   "outputs": [],
   "source": [
    "# Разделение на обучающую и тестовую выборки\n",
    "# X_lin_train, X_lin_valid, y_lin_train, y_lin_valid = train_test_split(\n",
    "#     X_lin_lof, y_lin, stratify=y_lin, test_size=0.2, random_state=42\n",
    "#     )\n",
    "\n",
    "# lin_scaler = StandardScaler()\n",
    "# X_lin_train_scaled = lin_scaler.fit_transform(X_lin_train)\n",
    "# X_lin_valid_scaled = lin_scaler.transform(X_lin_valid)"
   ]
  },
  {
   "cell_type": "code",
   "execution_count": 15,
   "metadata": {},
   "outputs": [
    {
     "name": "stdout",
     "output_type": "stream",
     "text": [
      "X_lin_train.shape: (204656, 124)\n",
      "y_lin_train.shape: (204656,)\n",
      "X_lin_valid.shape: (51164, 124)\n",
      "y_lin_valid.shape: (51164,)\n"
     ]
    }
   ],
   "source": [
    "# Разделение на обучающую и тестовую выборки\n",
    "X_lin_train, X_lin_valid, y_lin_train, y_lin_valid = train_test_split(\n",
    "    X_lin, y_lin, stratify=y_lin, test_size=0.2, random_state=42\n",
    "    )\n",
    "\n",
    "lin_scaler = StandardScaler()\n",
    "X_lin_train_scaled = lin_scaler.fit_transform(X_lin_train)\n",
    "X_lin_valid_scaled = lin_scaler.transform(X_lin_valid)\n",
    "\n",
    "print('X_lin_train.shape:', X_lin_train.shape)\n",
    "print('y_lin_train.shape:', y_lin_train.shape)\n",
    "print('X_lin_valid.shape:', X_lin_valid.shape)\n",
    "print('y_lin_valid.shape:', y_lin_valid.shape)"
   ]
  },
  {
   "cell_type": "code",
   "execution_count": 18,
   "metadata": {},
   "outputs": [],
   "source": [
    "# generative filling\n",
    "X_gf = data_copy.drop(['ID', 'target'], axis=1)\n",
    "y_gf = data_copy['target']"
   ]
  },
  {
   "cell_type": "code",
   "execution_count": 19,
   "metadata": {},
   "outputs": [],
   "source": [
    "# Разделение на обучающую и тестовую выборки\n",
    "X_gf_train, X_gf_valid, y_gf_train, y_gf_valid = train_test_split(\n",
    "    X_gf, y_gf, stratify=y_gf, test_size=0.2, random_state=42\n",
    "    )\n",
    "\n",
    "gf_scaler = StandardScaler()\n",
    "X_gf_train_scaled = gf_scaler.fit_transform(X_gf_train)\n",
    "X_gf_valid_scaled = gf_scaler.transform(X_gf_valid)"
   ]
  },
  {
   "cell_type": "markdown",
   "metadata": {},
   "source": [
    "У нас был дисбаланс в классах, поэтому можно попробовать использовать синтетическое увеличение данных (ADASYN/SMOTE).\n",
    "\n",
    "SMOTE (Synthetic Minority Over-sampling Technique) создает новые синтетические примеры, интерполируя между существующими примерами. Это позволяет увеличить количество объектов, сохраняя при этом разнообразие данных.\n",
    "\n",
    "ADASYN (Adaptive Synthetic) генерирует разное количество выборок в зависимости от оценки локального распределения класса, подлежащего избыточной выборке."
   ]
  },
  {
   "cell_type": "code",
   "execution_count": 20,
   "metadata": {},
   "outputs": [
    {
     "name": "stdout",
     "output_type": "stream",
     "text": [
      "Распределение классов до ADASYN:    Counter({0: 164248, 1: 40408})\n",
      "Распределение классов после ADASYN: Counter({0: 164248, 1: 156503})\n"
     ]
    }
   ],
   "source": [
    "# Применение ADASYN\n",
    "lin_adasyn = ADASYN(random_state=42)\n",
    "X_lin_adasyn_train, y_lin_adasyn_train = lin_adasyn.fit_resample(X_lin_train, y_lin_train)\n",
    "X_lin_adasyn_valid, y_lin_adasyn_valid = X_lin_valid, y_lin_valid\n",
    "print(\"Распределение классов до ADASYN:   \", Counter(y_lin_train))\n",
    "print(\"Распределение классов после ADASYN:\", Counter(y_lin_adasyn_train))"
   ]
  },
  {
   "cell_type": "code",
   "execution_count": 21,
   "metadata": {},
   "outputs": [],
   "source": [
    "lin_adasyn_scaler = StandardScaler()\n",
    "X_lin_adasyn_train_scaled = lin_adasyn_scaler.fit_transform(X_lin_adasyn_train)\n",
    "X_lin_adasyn_valid_scaled = lin_adasyn_scaler.transform(X_lin_adasyn_valid)"
   ]
  },
  {
   "cell_type": "code",
   "execution_count": 22,
   "metadata": {},
   "outputs": [
    {
     "name": "stdout",
     "output_type": "stream",
     "text": [
      "Распределение классов до ADASYN:    Counter({0: 164248, 1: 40408})\n",
      "Распределение классов после ADASYN: Counter({0: 164248, 1: 156605})\n"
     ]
    }
   ],
   "source": [
    "gf_adasyn = ADASYN(random_state=42)\n",
    "X_gf_adasyn_train, y_gf_adasyn_train = gf_adasyn.fit_resample(X_gf_train, y_gf_train)\n",
    "X_gf_adasyn_valid, y_gf_adasyn_valid = X_gf_valid, y_gf_valid\n",
    "print(\"Распределение классов до ADASYN:   \", Counter(y_gf_train))\n",
    "print(\"Распределение классов после ADASYN:\", Counter(y_gf_adasyn_train))"
   ]
  },
  {
   "cell_type": "code",
   "execution_count": 23,
   "metadata": {},
   "outputs": [],
   "source": [
    "gf_adasyn_scaler = StandardScaler()\n",
    "X_gf_adasyn_train_scaled = gf_adasyn_scaler.fit_transform(X_gf_adasyn_train)\n",
    "X_gf_adasyn_valid_scaled = gf_adasyn_scaler.transform(X_gf_adasyn_valid)"
   ]
  },
  {
   "cell_type": "code",
   "execution_count": 24,
   "metadata": {},
   "outputs": [
    {
     "name": "stdout",
     "output_type": "stream",
     "text": [
      "Распределение классов до SMOTE:    Counter({0: 164248, 1: 40408})\n",
      "Распределение классов после SMOTE: Counter({0: 164248, 1: 164248})\n"
     ]
    }
   ],
   "source": [
    "# Применение SMOTE\n",
    "lin_smote = SMOTE(random_state=42)\n",
    "X_lin_smote_train, y_lin_smote_train = lin_smote.fit_resample(X_lin_train, y_lin_train)\n",
    "X_lin_smote_valid, y_lin_smote_valid = X_lin_valid, y_lin_valid\n",
    "print(\"Распределение классов до SMOTE:   \", Counter(y_lin_train))\n",
    "print(\"Распределение классов после SMOTE:\", Counter(y_lin_smote_train))\n",
    "\n",
    "lin_smote_scaler = StandardScaler()\n",
    "X_lin_smote_train_scaled = lin_smote_scaler.fit_transform(X_lin_smote_train)\n",
    "X_lin_smote_valid_scaled = lin_smote_scaler.transform(X_lin_smote_valid)"
   ]
  },
  {
   "cell_type": "code",
   "execution_count": 25,
   "metadata": {},
   "outputs": [
    {
     "name": "stdout",
     "output_type": "stream",
     "text": [
      "Распределение классов до SMOTE:    Counter({0: 164248, 1: 40408})\n",
      "Распределение классов после SMOTE: Counter({0: 164248, 1: 164248})\n"
     ]
    }
   ],
   "source": [
    "gf_smote = SMOTE(random_state=42)\n",
    "X_gf_smote_train, y_gf_smote_train = gf_smote.fit_resample(X_gf_train, y_gf_train)\n",
    "X_gf_smote_valid, y_gf_smote_valid = X_gf_valid, y_gf_valid\n",
    "print(\"Распределение классов до SMOTE:   \", Counter(y_gf_train))\n",
    "print(\"Распределение классов после SMOTE:\", Counter(y_gf_smote_train))\n",
    "\n",
    "gf_smote_scaler = StandardScaler()\n",
    "X_gf_smote_train_scaled = gf_smote_scaler.fit_transform(X_gf_smote_train)\n",
    "X_gf_smote_valid_scaled = gf_smote_scaler.transform(X_gf_smote_valid)"
   ]
  },
  {
   "cell_type": "code",
   "execution_count": 26,
   "metadata": {},
   "outputs": [],
   "source": [
    "class_weights = compute_class_weight('balanced', classes=np.unique(y_lin), y=y_lin)\n",
    "class_weights_dict = {i: cw for i, cw in enumerate(class_weights)}"
   ]
  },
  {
   "cell_type": "markdown",
   "metadata": {},
   "source": [
    "## Моделирование"
   ]
  },
  {
   "cell_type": "code",
   "execution_count": 27,
   "metadata": {},
   "outputs": [],
   "source": [
    "def get_metrics(model, X_train, X_valid, y_train, y_valid, train_metrics=True):\n",
    "    train_preds = model.predict(X_train)\n",
    "    valid_preds = model.predict(X_valid)\n",
    "    \n",
    "    train_pred_proba = model.predict_proba(X_train)[:, 1]\n",
    "    valid_pred_proba = model.predict_proba(X_valid)[:, 1]\n",
    "    \n",
    "    # Расчет roc_auc\n",
    "    train_roc_auc = roc_auc_score(y_train, train_pred_proba)\n",
    "\n",
    "    # ROC-кривая и коэффициент Джини\n",
    "    fpr_train, tpr_train, train_thresholds = roc_curve(\n",
    "        y_train, train_pred_proba\n",
    "        )\n",
    "    train_roc_auc_value = auc(fpr_train, tpr_train)\n",
    "    train_gini_coefficient = 2 * train_roc_auc_value - 1\n",
    "    \n",
    "    # Расчет roc_auc\n",
    "    valid_roc_auc = roc_auc_score(y_valid, valid_pred_proba)\n",
    "\n",
    "    # ROC-кривая и коэффициент Джини\n",
    "    fpr_valid, tpr_valid, valid_thresholds = roc_curve(\n",
    "        y_valid, valid_pred_proba\n",
    "        )\n",
    "    valid_roc_auc_value = auc(fpr_valid, tpr_valid)\n",
    "    valid_gini_coefficient = 2 * valid_roc_auc_value - 1\n",
    "    \n",
    "    # Оценка модели\n",
    "    train_report = classification_report(\n",
    "        y_train, train_preds, digits=4\n",
    "        )\n",
    "    \n",
    "    valid_report = classification_report(\n",
    "        y_valid, valid_preds, digits=4\n",
    "        )\n",
    "    \n",
    "    # Вывод результатов\n",
    "    if train_metrics:\n",
    "        print(f'Train ROC AUC:   {train_roc_auc:.4f}')\n",
    "        print(f'Train Gini Coef: {train_gini_coefficient:.4f}')\n",
    "        print(train_report, '\\n')\n",
    "    \n",
    "    print(f'Val ROC AUC:   {valid_roc_auc:.4f}')\n",
    "    print(f'Val Gini Coef: {valid_gini_coefficient:.4f}')\n",
    "    print(valid_report)\n",
    "    \n",
    "    return fpr_valid, tpr_valid, valid_thresholds"
   ]
  },
  {
   "cell_type": "markdown",
   "metadata": {},
   "source": [
    "#### Baseline LogisticRegression"
   ]
  },
  {
   "cell_type": "code",
   "execution_count": 29,
   "metadata": {},
   "outputs": [
    {
     "name": "stdout",
     "output_type": "stream",
     "text": [
      "Val ROC AUC:   0.7719\n",
      "Val Gini Coef: 0.5438\n",
      "              precision    recall  f1-score   support\n",
      "\n",
      "           0     0.8278    0.9686    0.8927     41062\n",
      "           1     0.5861    0.1809    0.2764     10102\n",
      "\n",
      "    accuracy                         0.8131     51164\n",
      "   macro avg     0.7070    0.5747    0.5845     51164\n",
      "weighted avg     0.7801    0.8131    0.7710     51164\n",
      "\n",
      "CPU times: total: 14 s\n",
      "Wall time: 14 s\n"
     ]
    }
   ],
   "source": [
    "%%time\n",
    "# Инициализация и обучение модели логистической регрессии\n",
    "lr_model = LogisticRegression(solver='liblinear')\n",
    "lr_model.fit(X_lin_train_scaled, y_lin_train)\n",
    "\n",
    "lr_roc_curve = get_metrics(\n",
    "    lr_model, X_lin_train_scaled, X_lin_valid_scaled,\n",
    "    y_lin_train, y_lin_valid, train_metrics=False\n",
    "    )"
   ]
  },
  {
   "cell_type": "markdown",
   "metadata": {},
   "source": [
    "#### class weighted"
   ]
  },
  {
   "cell_type": "code",
   "execution_count": 30,
   "metadata": {},
   "outputs": [
    {
     "name": "stdout",
     "output_type": "stream",
     "text": [
      "Val ROC AUC:   0.7733\n",
      "Val Gini Coef: 0.5466\n",
      "              precision    recall  f1-score   support\n",
      "\n",
      "           0     0.9062    0.7085    0.7953     41062\n",
      "           1     0.3721    0.7020    0.4864     10102\n",
      "\n",
      "    accuracy                         0.7073     51164\n",
      "   macro avg     0.6392    0.7053    0.6408     51164\n",
      "weighted avg     0.8008    0.7073    0.7343     51164\n",
      "\n",
      "CPU times: total: 11.1 s\n",
      "Wall time: 10.9 s\n"
     ]
    }
   ],
   "source": [
    "%%time\n",
    "# Инициализация и обучение модели логистической регрессии\n",
    "lr_model = LogisticRegression(\n",
    "    solver='liblinear',\n",
    "    class_weight=class_weights_dict\n",
    "    )\n",
    "lr_model.fit(X_lin_train_scaled, y_lin_train)\n",
    "\n",
    "lr_roc_curve = get_metrics(\n",
    "    lr_model, X_lin_train_scaled, X_lin_valid_scaled,\n",
    "    y_lin_train, y_lin_valid, train_metrics=False\n",
    "    )"
   ]
  },
  {
   "cell_type": "markdown",
   "metadata": {},
   "source": [
    "---"
   ]
  },
  {
   "cell_type": "markdown",
   "metadata": {},
   "source": [
    "#### generative filling"
   ]
  },
  {
   "cell_type": "code",
   "execution_count": 31,
   "metadata": {},
   "outputs": [
    {
     "name": "stdout",
     "output_type": "stream",
     "text": [
      "Val ROC AUC:   0.7689\n",
      "Val Gini Coef: 0.5379\n",
      "              precision    recall  f1-score   support\n",
      "\n",
      "           0     0.8276    0.9681    0.8923     41062\n",
      "           1     0.5814    0.1803    0.2752     10102\n",
      "\n",
      "    accuracy                         0.8125     51164\n",
      "   macro avg     0.7045    0.5742    0.5838     51164\n",
      "weighted avg     0.7790    0.8125    0.7705     51164\n",
      "\n",
      "CPU times: total: 13.7 s\n",
      "Wall time: 13.7 s\n"
     ]
    }
   ],
   "source": [
    "%%time\n",
    "# Инициализация и обучение модели логистической регрессии\n",
    "lr_model = LogisticRegression(solver='liblinear')\n",
    "lr_model.fit(X_gf_train_scaled, y_gf_train)\n",
    "\n",
    "lr_roc_curve = get_metrics(\n",
    "    lr_model, X_gf_train_scaled, X_gf_valid_scaled,\n",
    "    y_gf_train, y_gf_valid, train_metrics=False\n",
    "    )"
   ]
  },
  {
   "cell_type": "markdown",
   "metadata": {},
   "source": [
    "#### generative filling + class weighted"
   ]
  },
  {
   "cell_type": "code",
   "execution_count": 32,
   "metadata": {},
   "outputs": [
    {
     "name": "stdout",
     "output_type": "stream",
     "text": [
      "Val ROC AUC:   0.7703\n",
      "Val Gini Coef: 0.5407\n",
      "              precision    recall  f1-score   support\n",
      "\n",
      "           0     0.9060    0.7037    0.7922     41062\n",
      "           1     0.3686    0.7031    0.4837     10102\n",
      "\n",
      "    accuracy                         0.7036     51164\n",
      "   macro avg     0.6373    0.7034    0.6379     51164\n",
      "weighted avg     0.7999    0.7036    0.7313     51164\n",
      "\n",
      "CPU times: total: 9.98 s\n",
      "Wall time: 9.71 s\n"
     ]
    }
   ],
   "source": [
    "%%time\n",
    "# Инициализация и обучение модели логистической регрессии\n",
    "lr_model = LogisticRegression(\n",
    "    solver='liblinear',\n",
    "    class_weight=class_weights_dict\n",
    "    )\n",
    "lr_model.fit(X_gf_train_scaled, y_gf_train)\n",
    "\n",
    "lr_roc_curve = get_metrics(\n",
    "    lr_model, X_gf_train_scaled, X_gf_valid_scaled,\n",
    "    y_gf_train, y_gf_valid, train_metrics=False\n",
    "    )"
   ]
  },
  {
   "cell_type": "markdown",
   "metadata": {},
   "source": [
    "#### ADASYN"
   ]
  },
  {
   "cell_type": "code",
   "execution_count": 34,
   "metadata": {},
   "outputs": [
    {
     "name": "stdout",
     "output_type": "stream",
     "text": [
      "Val ROC AUC:   0.7613\n",
      "Val Gini Coef: 0.5227\n",
      "              precision    recall  f1-score   support\n",
      "\n",
      "           0     0.8298    0.9579    0.8893     41062\n",
      "           1     0.5408    0.2015    0.2936     10102\n",
      "\n",
      "    accuracy                         0.8086     51164\n",
      "   macro avg     0.6853    0.5797    0.5915     51164\n",
      "weighted avg     0.7728    0.8086    0.7717     51164\n",
      "\n",
      "CPU times: total: 31.3 s\n",
      "Wall time: 31.2 s\n"
     ]
    }
   ],
   "source": [
    "%%time\n",
    "# Инициализация и обучение модели логистической регрессии\n",
    "lr_model = LogisticRegression(solver='liblinear')\n",
    "lr_model.fit(X_gf_adasyn_train_scaled, y_gf_adasyn_train)\n",
    "\n",
    "lr_roc_curve = get_metrics(\n",
    "    lr_model,\n",
    "    X_gf_adasyn_train_scaled, X_gf_adasyn_valid_scaled,\n",
    "    y_gf_adasyn_train, y_gf_adasyn_valid, train_metrics=False\n",
    "    )"
   ]
  },
  {
   "cell_type": "markdown",
   "metadata": {},
   "source": [
    "#### MLPClassifier"
   ]
  },
  {
   "cell_type": "code",
   "execution_count": 35,
   "metadata": {},
   "outputs": [
    {
     "name": "stdout",
     "output_type": "stream",
     "text": [
      "Val ROC AUC:   0.7827\n",
      "Val Gini Coef: 0.5654\n",
      "              precision    recall  f1-score   support\n",
      "\n",
      "           0     0.8452    0.9397    0.8899     41062\n",
      "           1     0.5507    0.3002    0.3886     10102\n",
      "\n",
      "    accuracy                         0.8135     51164\n",
      "   macro avg     0.6979    0.6200    0.6393     51164\n",
      "weighted avg     0.7870    0.8135    0.7910     51164\n",
      "\n",
      "CPU times: total: 1min 53s\n",
      "Wall time: 1min 6s\n"
     ]
    }
   ],
   "source": [
    "%%time\n",
    "# Инициализация и обучение модели\n",
    "mlpc = MLPClassifier(\n",
    "    batch_size=128,\n",
    "    max_iter=2000,\n",
    "    n_iter_no_change=30,\n",
    "    early_stopping=True\n",
    ")\n",
    "mlpc.fit(X_gf_adasyn_train_scaled, y_gf_adasyn_train)\n",
    "\n",
    "mlpc_roc_curve = get_metrics(\n",
    "    mlpc, \n",
    "    X_gf_adasyn_train_scaled, X_gf_adasyn_valid_scaled,\n",
    "    y_gf_adasyn_train, y_gf_adasyn_valid, train_metrics=False\n",
    "    )"
   ]
  },
  {
   "cell_type": "markdown",
   "metadata": {},
   "source": [
    "#### KNeighborsClassifier"
   ]
  },
  {
   "cell_type": "code",
   "execution_count": 36,
   "metadata": {},
   "outputs": [
    {
     "name": "stdout",
     "output_type": "stream",
     "text": [
      "Val ROC AUC:   0.6311\n",
      "Val Gini Coef: 0.2621\n",
      "              precision    recall  f1-score   support\n",
      "\n",
      "           0     0.8517    0.6811    0.7569     41062\n",
      "           1     0.2854    0.5178    0.3680     10102\n",
      "\n",
      "    accuracy                         0.6489     51164\n",
      "   macro avg     0.5686    0.5995    0.5625     51164\n",
      "weighted avg     0.7399    0.6489    0.6801     51164\n",
      "\n",
      "CPU times: total: 1h 10min 28s\n",
      "Wall time: 6min 34s\n"
     ]
    }
   ],
   "source": [
    "%%time\n",
    "# Инициализация объекта\n",
    "knc = KNeighborsClassifier(n_jobs=-1)\n",
    "\n",
    "knc.fit(X_gf_adasyn_train, y_gf_adasyn_train)\n",
    "\n",
    "knc_roc_curve = get_metrics(\n",
    "    knc, X_gf_adasyn_train, X_gf_adasyn_valid,\n",
    "    y_gf_adasyn_train, y_gf_adasyn_valid, train_metrics=False\n",
    "    )"
   ]
  },
  {
   "cell_type": "markdown",
   "metadata": {},
   "source": [
    "#### DecisionTreeClassifier"
   ]
  },
  {
   "cell_type": "code",
   "execution_count": 37,
   "metadata": {},
   "outputs": [
    {
     "name": "stdout",
     "output_type": "stream",
     "text": [
      "Val ROC AUC:   0.6096\n",
      "Val Gini Coef: 0.2192\n",
      "              precision    recall  f1-score   support\n",
      "\n",
      "           0     0.8476    0.8149    0.8309     41062\n",
      "           1     0.3496    0.4043    0.3749     10102\n",
      "\n",
      "    accuracy                         0.7339     51164\n",
      "   macro avg     0.5986    0.6096    0.6029     51164\n",
      "weighted avg     0.7492    0.7339    0.7409     51164\n",
      "\n",
      "CPU times: total: 14.4 s\n",
      "Wall time: 14.4 s\n"
     ]
    }
   ],
   "source": [
    "%%time\n",
    "# Инициализация и обучение модели\n",
    "dtc = DecisionTreeClassifier()\n",
    "\n",
    "dtc.fit(X_gf_adasyn_train, y_gf_adasyn_train)\n",
    "\n",
    "dtc_roc_curve = get_metrics(\n",
    "    dtc, X_gf_adasyn_train, X_gf_adasyn_valid,\n",
    "    y_gf_adasyn_train, y_gf_adasyn_valid, train_metrics=False\n",
    "    )"
   ]
  },
  {
   "cell_type": "markdown",
   "metadata": {},
   "source": [
    "#### BaggingClassifier"
   ]
  },
  {
   "cell_type": "code",
   "execution_count": 38,
   "metadata": {},
   "outputs": [
    {
     "name": "stdout",
     "output_type": "stream",
     "text": [
      "Val ROC AUC:   0.7501\n",
      "Val Gini Coef: 0.5003\n",
      "              precision    recall  f1-score   support\n",
      "\n",
      "           0     0.8435    0.9288    0.8841     41062\n",
      "           1     0.5085    0.2994    0.3769     10102\n",
      "\n",
      "    accuracy                         0.8045     51164\n",
      "   macro avg     0.6760    0.6141    0.6305     51164\n",
      "weighted avg     0.7773    0.8045    0.7839     51164\n",
      "\n",
      "CPU times: total: 1.86 s\n",
      "Wall time: 24.6 s\n"
     ]
    }
   ],
   "source": [
    "%%time\n",
    "bc = BaggingClassifier(\n",
    "    estimator=DecisionTreeClassifier(),\n",
    "    n_jobs=-1,\n",
    "    random_state=42\n",
    ")\n",
    "bc.fit(X_gf_adasyn_train, y_gf_adasyn_train)\n",
    "\n",
    "bc_roc_curve = get_metrics(\n",
    "    bc, X_gf_adasyn_train, X_gf_adasyn_valid,\n",
    "    y_gf_adasyn_train, y_gf_adasyn_valid, train_metrics=False\n",
    "    )"
   ]
  },
  {
   "cell_type": "markdown",
   "metadata": {},
   "source": [
    "#### RandomForestClassifier"
   ]
  },
  {
   "cell_type": "code",
   "execution_count": 39,
   "metadata": {},
   "outputs": [
    {
     "name": "stdout",
     "output_type": "stream",
     "text": [
      "Val ROC AUC:   0.7930\n",
      "Val Gini Coef: 0.5860\n",
      "              precision    recall  f1-score   support\n",
      "\n",
      "           0     0.8487    0.9374    0.8909     41062\n",
      "           1     0.5578    0.3208    0.4074     10102\n",
      "\n",
      "    accuracy                         0.8157     51164\n",
      "   macro avg     0.7033    0.6291    0.6491     51164\n",
      "weighted avg     0.7913    0.8157    0.7954     51164\n",
      "\n",
      "CPU times: total: 3min 37s\n",
      "Wall time: 21.1 s\n"
     ]
    }
   ],
   "source": [
    "%%time\n",
    "# Инициализация и обучение модели\n",
    "rfc = RandomForestClassifier(n_jobs=-1)\n",
    "\n",
    "rfc.fit(X_gf_adasyn_train, y_gf_adasyn_train)\n",
    "\n",
    "rfc_roc_curve = get_metrics(\n",
    "    rfc, X_gf_adasyn_train, X_gf_adasyn_valid,\n",
    "    y_gf_adasyn_train, y_gf_adasyn_valid, train_metrics=False\n",
    "    )"
   ]
  },
  {
   "cell_type": "markdown",
   "metadata": {},
   "source": [
    "#### ExtraTreesClassifier"
   ]
  },
  {
   "cell_type": "code",
   "execution_count": 40,
   "metadata": {},
   "outputs": [
    {
     "name": "stdout",
     "output_type": "stream",
     "text": [
      "Val ROC AUC:   0.7760\n",
      "Val Gini Coef: 0.5519\n",
      "              precision    recall  f1-score   support\n",
      "\n",
      "           0     0.8382    0.9340    0.8835     41062\n",
      "           1     0.4991    0.2673    0.3481     10102\n",
      "\n",
      "    accuracy                         0.8024     51164\n",
      "   macro avg     0.6686    0.6006    0.6158     51164\n",
      "weighted avg     0.7713    0.8024    0.7778     51164\n",
      "\n",
      "CPU times: total: 3min 59s\n",
      "Wall time: 23.3 s\n"
     ]
    }
   ],
   "source": [
    "%%time\n",
    "# Инициализация и обучение модели\n",
    "etc = ExtraTreesClassifier(n_jobs=-1)\n",
    "\n",
    "etc.fit(X_gf_adasyn_train, y_gf_adasyn_train)\n",
    "\n",
    "etc_roc_curve = get_metrics(\n",
    "    etc, X_gf_adasyn_train, X_gf_adasyn_valid,\n",
    "    y_gf_adasyn_train, y_gf_adasyn_valid, train_metrics=False\n",
    "    )"
   ]
  },
  {
   "cell_type": "markdown",
   "metadata": {},
   "source": [
    "#### LGBMClassifier"
   ]
  },
  {
   "cell_type": "code",
   "execution_count": 41,
   "metadata": {},
   "outputs": [
    {
     "name": "stdout",
     "output_type": "stream",
     "text": [
      "Val ROC AUC:   0.7993\n",
      "Val Gini Coef: 0.5986\n",
      "              precision    recall  f1-score   support\n",
      "\n",
      "           0     0.8458    0.9517    0.8956     41062\n",
      "           1     0.6002    0.2950    0.3956     10102\n",
      "\n",
      "    accuracy                         0.8220     51164\n",
      "   macro avg     0.7230    0.6233    0.6456     51164\n",
      "weighted avg     0.7973    0.8220    0.7969     51164\n",
      "\n",
      "CPU times: total: 31.1 s\n",
      "Wall time: 4.31 s\n"
     ]
    }
   ],
   "source": [
    "%%time\n",
    "# Инициализация и обучение модели\n",
    "lgbmc = LGBMClassifier()\n",
    "\n",
    "lgbmc.fit(X_gf_adasyn_train, y_gf_adasyn_train)\n",
    "\n",
    "lgbmc_roc_curve = get_metrics(\n",
    "    lgbmc, X_gf_adasyn_train, X_gf_adasyn_valid,\n",
    "    y_gf_adasyn_train, y_gf_adasyn_valid, train_metrics=False\n",
    "    )"
   ]
  },
  {
   "cell_type": "markdown",
   "metadata": {},
   "source": [
    "#### HistGradientBoostingClassifier"
   ]
  },
  {
   "cell_type": "code",
   "execution_count": 42,
   "metadata": {},
   "outputs": [
    {
     "name": "stdout",
     "output_type": "stream",
     "text": [
      "Val ROC AUC:   0.7982\n",
      "Val Gini Coef: 0.5964\n",
      "              precision    recall  f1-score   support\n",
      "\n",
      "           0     0.8453    0.9525    0.8957     41062\n",
      "           1     0.6014    0.2914    0.3926     10102\n",
      "\n",
      "    accuracy                         0.8220     51164\n",
      "   macro avg     0.7234    0.6220    0.6442     51164\n",
      "weighted avg     0.7971    0.8220    0.7964     51164\n",
      "\n",
      "CPU times: total: 50 s\n",
      "Wall time: 10.2 s\n"
     ]
    }
   ],
   "source": [
    "%%time\n",
    "# Инициализация и обучение модели\n",
    "hgbc = HistGradientBoostingClassifier()\n",
    "# Обучение\n",
    "hgbc.fit(X_gf_adasyn_train, y_gf_adasyn_train)\n",
    "# Предсказание и получение метрик\n",
    "hgbc_roc_curve = get_metrics(\n",
    "    hgbc, X_gf_adasyn_train, X_gf_adasyn_valid,\n",
    "    y_gf_adasyn_train, y_gf_adasyn_valid, train_metrics=False\n",
    "    )"
   ]
  },
  {
   "cell_type": "markdown",
   "metadata": {},
   "source": [
    "#### XGBClassifier"
   ]
  },
  {
   "cell_type": "code",
   "execution_count": 43,
   "metadata": {},
   "outputs": [
    {
     "name": "stdout",
     "output_type": "stream",
     "text": [
      "Val ROC AUC:   0.7953\n",
      "Val Gini Coef: 0.5906\n",
      "              precision    recall  f1-score   support\n",
      "\n",
      "           0     0.8486    0.9446    0.8940     41062\n",
      "           1     0.5828    0.3148    0.4088     10102\n",
      "\n",
      "    accuracy                         0.8202     51164\n",
      "   macro avg     0.7157    0.6297    0.6514     51164\n",
      "weighted avg     0.7961    0.8202    0.7982     51164\n",
      "\n",
      "CPU times: total: 29.4 s\n",
      "Wall time: 3.19 s\n"
     ]
    }
   ],
   "source": [
    "%%time\n",
    "# Инициализация и обучение модели\n",
    "xgbc = XGBClassifier()\n",
    "# Обучение\n",
    "xgbc.fit(X_gf_adasyn_train, y_gf_adasyn_train)\n",
    "# Предсказание и получение метрик\n",
    "xgbc_roc_curve = get_metrics(\n",
    "    xgbc, X_gf_adasyn_train, X_gf_adasyn_valid,\n",
    "    y_gf_adasyn_train, y_gf_adasyn_valid, train_metrics=False\n",
    "    )"
   ]
  },
  {
   "cell_type": "markdown",
   "metadata": {},
   "source": [
    "#### CatBoostClassifier"
   ]
  },
  {
   "cell_type": "code",
   "execution_count": 44,
   "metadata": {},
   "outputs": [
    {
     "name": "stdout",
     "output_type": "stream",
     "text": [
      "Val ROC AUC:   0.8053\n",
      "Val Gini Coef: 0.6106\n",
      "              precision    recall  f1-score   support\n",
      "\n",
      "           0     0.8481    0.9513    0.8967     41062\n",
      "           1     0.6081    0.3074    0.4083     10102\n",
      "\n",
      "    accuracy                         0.8241     51164\n",
      "   macro avg     0.7281    0.6293    0.6525     51164\n",
      "weighted avg     0.8007    0.8241    0.8003     51164\n",
      "\n",
      "CPU times: total: 3min 56s\n",
      "Wall time: 24.8 s\n"
     ]
    }
   ],
   "source": [
    "%%time\n",
    "# Инициализация и обучение модели\n",
    "cbc = CatBoostClassifier(verbose=0)\n",
    "# Обучение\n",
    "cbc.fit(X_gf_adasyn_train, y_gf_adasyn_train)\n",
    "# Предсказание и получение метрик\n",
    "cbc_roc_curve = get_metrics(\n",
    "    cbc, X_gf_adasyn_train, X_gf_adasyn_valid,\n",
    "    y_gf_adasyn_train, y_gf_adasyn_valid, train_metrics=False\n",
    "    )"
   ]
  },
  {
   "cell_type": "markdown",
   "metadata": {},
   "source": [
    "Что-то бустинговые алгоритмы разочаровали."
   ]
  },
  {
   "cell_type": "markdown",
   "metadata": {},
   "source": [
    "### Optimization\n",
    "\n",
    "Здесь с optuna подбираются гиперпараметры алгоритмов."
   ]
  },
  {
   "cell_type": "markdown",
   "metadata": {},
   "source": [
    "#### Optimized LogisticRegression"
   ]
  },
  {
   "cell_type": "code",
   "execution_count": 46,
   "metadata": {},
   "outputs": [],
   "source": [
    "# %%time\n",
    "# # Определение функции для оптимизации\n",
    "# def optuna_lr(trial):\n",
    "#     \"\"\"Функция, обучающая модель LogisticRegression по переданным гиперпараметрам\n",
    "#     Args:\n",
    "#         trial : класс, от которого вызываются гиперпараметры\n",
    "#     Returns:\n",
    "#         score(float): метрика F1-weighted\n",
    "#     \"\"\"\n",
    "#     # Задаем пространство поиска гиперпараметров\n",
    "#     C = trial.suggest_float('C', 1e-5, 1e2)\n",
    "#     penalty = trial.suggest_categorical('penalty', ['l1', 'l2', 'elasticnet'])\n",
    "    \n",
    "#     if penalty == 'elasticnet':\n",
    "#         l1_ratio = trial.suggest_float('l1_ratio', 0, 1)\n",
    "#     else:\n",
    "#         l1_ratio = None\n",
    "\n",
    "#     solver = trial.suggest_categorical('solver', ['newton-cg', 'newton-cholesky', 'lbfgs', 'liblinear', 'saga'])\n",
    "\n",
    "#     if penalty == 'l1' and solver in ['newton-cg', 'newton-cholesky', 'lbfgs', 'sag']:\n",
    "#         return 0.0 # 'l1' penalty is not supported by these solvers\n",
    "#     elif penalty == 'elasticnet' and solver not in ['saga']:\n",
    "#         return 0.0 # 'elasticnet' penalty is supported only by 'saga' solver\n",
    "    \n",
    "#     # Инициализация LogisticRegression с оптимизируемыми гиперпараметрами\n",
    "#     clf = LogisticRegression(\n",
    "#         C=C, penalty=penalty, solver=solver,\n",
    "#         l1_ratio=l1_ratio, max_iter=10000,\n",
    "#         random_state=42\n",
    "#     )\n",
    "#     # Рассчитываем метрику на кросс-валидации\n",
    "#     score = cross_val_score(\n",
    "#         clf, X_lin_train_scaled, y_lin_train, cv=5, scoring=\"f1_weighted\", n_jobs=-1\n",
    "#     ).mean()\n",
    "\n",
    "#     return score\n",
    "\n",
    "\n",
    "# # Создание и запуск оптимизации с отображением прогресса с помощью tqdm\n",
    "# study_lr = optuna.create_study(study_name=\"lr_opt\", direction='maximize')\n",
    "# # Подавляем логирование\n",
    "# optuna.logging.set_verbosity(optuna.logging.WARNING)\n",
    "# # Мониторим прогресс оптимизации\n",
    "# n_trials = 50\n",
    "# with tqdm(total=n_trials, desc=\"Optimizing\") as pbar:\n",
    "#     def update(study, trial):\n",
    "#         pbar.update(1)\n",
    "#     # Ищем лучшую комбинацию гиперпараметров n_trials раз\n",
    "#     study_lr.optimize(optuna_lr, n_trials=n_trials, callbacks=[update])\n",
    "\n",
    "# # Получение оптимальных гиперпараметров\n",
    "# print(\"Лучшие гиперпараметры:\", study_lr.best_params)\n",
    "\n",
    "# # Передаем модели коллекцию оптимальных гиперпараметров\n",
    "# lr_opt = LogisticRegression(\n",
    "#     **study_lr.best_params,\n",
    "#     max_iter=10000,\n",
    "#     random_state=42\n",
    "# )\n",
    "\n",
    "# # Обучение алгоритма на оптимальных параметрах\n",
    "# lr_opt.fit(X_lin_train_scaled, y_lin_train)\n",
    "# # Получить отчет по модели\n",
    "# lr_opt_roc_curve = get_metrics(\n",
    "#     lr_opt, X_lin_train_scaled, X_lin_valid_scaled,\n",
    "#     y_lin_train, y_lin_valid, train_metrics=False\n",
    "#     )"
   ]
  },
  {
   "cell_type": "markdown",
   "metadata": {},
   "source": [
    "#### Optimized DecisionTreeClassifier"
   ]
  },
  {
   "cell_type": "code",
   "execution_count": 45,
   "metadata": {},
   "outputs": [
    {
     "name": "stderr",
     "output_type": "stream",
     "text": [
      "[I 2024-12-24 23:40:09,534] A new study created in memory with name: dtc_opt\n",
      "Optimizing: 100%|██████████| 50/50 [08:00<00:00,  9.61s/it]\n"
     ]
    },
    {
     "name": "stdout",
     "output_type": "stream",
     "text": [
      "Лучшие гиперпараметры: {'criterion': 'log_loss', 'splitter': 'best', 'max_depth': 27, 'min_samples_split': 16, 'min_samples_leaf': 7}\n",
      "Val ROC AUC:   0.6746\n",
      "Val Gini Coef: 0.3491\n",
      "              precision    recall  f1-score   support\n",
      "\n",
      "           0     0.8499    0.8422    0.8460     41062\n",
      "           1     0.3813    0.3953    0.3882     10102\n",
      "\n",
      "    accuracy                         0.7540     51164\n",
      "   macro avg     0.6156    0.6188    0.6171     51164\n",
      "weighted avg     0.7574    0.7540    0.7556     51164\n",
      "\n",
      "CPU times: total: 29.3 s\n",
      "Wall time: 8min 13s\n"
     ]
    }
   ],
   "source": [
    "%%time\n",
    "# Напишем функцию для перебора гиперпараметров\n",
    "def optuna_dtc(trial):\n",
    "    \"\"\"Функция, обучающая модель DecisionTreeClassifier по переданным гиперпараметрам\n",
    "    Args:\n",
    "        trial : класс, от которого вызываются гиперпараметры\n",
    "    Returns:\n",
    "        score(float): метрика F1\n",
    "    \"\"\"\n",
    "    # Задаем пространствао поиска гиперпараметров\n",
    "    criterion = trial.suggest_categorical('criterion', ['gini', 'entropy', 'log_loss'])\n",
    "    splitter = trial.suggest_categorical('splitter', ['best', 'random'])\n",
    "    max_depth = trial.suggest_int('max_depth', 2, 37)\n",
    "    min_samples_split = trial.suggest_int('min_samples_split', 2, 50, 2)\n",
    "    min_samples_leaf = trial.suggest_int('min_samples_leaf', 1, 20)\n",
    "\n",
    "    # Создаем модель\n",
    "    model=DecisionTreeClassifier(\n",
    "        criterion=criterion,\n",
    "        splitter=splitter,\n",
    "        max_depth=max_depth,\n",
    "        min_samples_split=min_samples_split,\n",
    "        min_samples_leaf=min_samples_leaf,\n",
    "        random_state=42        \n",
    "    )   \n",
    "    # Рассчитаем метрику на кросс-валидации\n",
    "    score = cross_val_score(\n",
    "        model, X_gf_adasyn_train, y_gf_adasyn_train, cv=5, scoring=\"f1\", n_jobs=-1\n",
    "    ).mean()\n",
    "    return score\n",
    "\n",
    "\n",
    "# Создание и запуск оптимизации с отображением прогресса с помощью tqdm\n",
    "study_dtc = optuna.create_study(study_name=\"dtc_opt\", direction='maximize')\n",
    "# Подавляем логирование\n",
    "optuna.logging.set_verbosity(optuna.logging.WARNING)\n",
    "# Мониторим прогресс оптимизации\n",
    "n_trials=50\n",
    "with tqdm(total=n_trials, desc=\"Optimizing\") as pbar:\n",
    "    def update(study, trial):\n",
    "        pbar.update(1)\n",
    "    # Ищем лучшую комбинацию гиперпараметров n_trials раз\n",
    "    study_dtc.optimize(optuna_dtc, n_trials=n_trials, callbacks=[update])\n",
    "\n",
    "# Получение оптимальных гиперпараметров\n",
    "print(\"Лучшие гиперпараметры:\", study_dtc.best_params)\n",
    "\n",
    "# Передаем модели коллекцию оптимальных гиперпараметров\n",
    "dtc_opt = DecisionTreeClassifier(\n",
    "    **study_dtc.best_params,\n",
    "    random_state=42\n",
    ")\n",
    "\n",
    "# Обучение алгоритма на оптимальных параметрах\n",
    "dtc_opt.fit(X_gf_adasyn_train, y_gf_adasyn_train)\n",
    "# Получить отчет по модели\n",
    "dtc_opt_roc_curve = get_metrics(\n",
    "    dtc_opt, X_gf_adasyn_train, X_gf_adasyn_valid,\n",
    "    y_gf_adasyn_train, y_gf_adasyn_valid, train_metrics=False\n",
    "    )"
   ]
  },
  {
   "cell_type": "markdown",
   "metadata": {},
   "source": [
    "#### Optimized RandomForestClassifier"
   ]
  },
  {
   "cell_type": "code",
   "execution_count": 51,
   "metadata": {},
   "outputs": [
    {
     "name": "stderr",
     "output_type": "stream",
     "text": [
      "Optimizing: 100%|██████████| 20/20 [33:00<00:00, 99.03s/it] \n"
     ]
    },
    {
     "name": "stdout",
     "output_type": "stream",
     "text": [
      "Лучшие гиперпараметры: {'n_estimators': 458, 'criterion': 'entropy', 'max_depth': 32, 'min_samples_split': 3, 'min_samples_leaf': 1}\n",
      "Test ROC AUC:   0.9849\n",
      "Test Gini Coef: 0.9697\n",
      "              precision    recall  f1-score   support\n",
      "\n",
      "           0     0.9701    0.9868    0.9784     41062\n",
      "           1     0.9421    0.8764    0.9080     10102\n",
      "\n",
      "    accuracy                         0.9650     51164\n",
      "   macro avg     0.9561    0.9316    0.9432     51164\n",
      "weighted avg     0.9646    0.9650    0.9645     51164\n",
      "\n"
     ]
    }
   ],
   "source": [
    "# Напишем функцию для оптимизации\n",
    "def optuna_rfc(trial):\n",
    "    \"\"\"Функция, обучающая модель RandomForest по переданным гиперпараметрам\n",
    "    Args:\n",
    "        trial : класс, от которого вызываются гиперпараметры\n",
    "    Returns:\n",
    "        score(float): метрика F1-weighted\n",
    "    \"\"\"\n",
    "    # Задаем пространство поиска гиперпараметров\n",
    "    params = {\n",
    "        'n_estimators': trial.suggest_int('n_estimators', 100, 500),\n",
    "        'criterion': trial.suggest_categorical('criterion', ['gini', 'entropy']),\n",
    "        'max_depth': trial.suggest_int('max_depth', 3, 45),\n",
    "        'min_samples_split': trial.suggest_int('min_samples_split', 2, 10),\n",
    "        'min_samples_leaf': trial.suggest_int('min_samples_leaf', 1, 10)\n",
    "    }\n",
    "    \n",
    "    # Инициализация RandomForest с оптимизируемыми гиперпараметрами\n",
    "    clf = RandomForestClassifier(\n",
    "        **params,\n",
    "        n_jobs=-1,\n",
    "        random_state=42\n",
    "    )\n",
    "    # Рассчитываем метрику на кросс-валидации\n",
    "    score = cross_val_score(\n",
    "        clf, X_gf_adasyn_train, y_gf_adasyn_train,\n",
    "        cv=3, scoring=\"f1_weighted\", n_jobs=-1\n",
    "    ).mean()\n",
    "    \n",
    "    return score\n",
    "\n",
    "\n",
    "# Создаем объект исследования для первого набора гиперпараметров\n",
    "# Укажем, что нам необходимо максимизировать метрику direction=\"maximize\"\n",
    "study_rfc = optuna.create_study(study_name=\"rfc_opt\", direction='maximize')\n",
    "# Подавляем логирование\n",
    "optuna.logging.set_verbosity(optuna.logging.WARNING)\n",
    "# Мониторим прогресс оптимизации\n",
    "n_trials=20\n",
    "with tqdm(total=n_trials, desc=\"Optimizing\") as pbar:\n",
    "    def update(study, trial):\n",
    "        pbar.update()\n",
    "    # Ищем лучшую комбинацию гиперпараметров n_trials раз\n",
    "    study_rfc.optimize(optuna_rfc, n_trials=n_trials, callbacks=[update])\n",
    "\n",
    "# Получение оптимальных гиперпараметров\n",
    "print(\"Лучшие гиперпараметры:\", study_rfc.best_params)\n",
    "\n",
    "# Передаем модели коллекцию оптимальных гиперпараметров\n",
    "rfc_opt = RandomForestClassifier(\n",
    "    **study_rfc.best_params,\n",
    "    n_jobs=-1, random_state=42\n",
    "    )\n",
    "\n",
    "# Обучение алгоритма на оптимальных параметрах\n",
    "rfc_opt.fit(X_gf_adasyn_train, y_gf_adasyn_train)\n",
    "# Получить отчет по модели\n",
    "rfc_opt_roc_curve = get_metrics(\n",
    "    rfc_opt, X_gf_train, X_gf_valid,\n",
    "    y_gf_train, y_gf_valid, train_metrics=False\n",
    "    )"
   ]
  },
  {
   "cell_type": "markdown",
   "metadata": {},
   "source": [
    "### Thresholding"
   ]
  },
  {
   "cell_type": "code",
   "execution_count": 47,
   "metadata": {},
   "outputs": [],
   "source": [
    "def get_optim_threshold(roc_curve_data):\n",
    "    fpr, tpr, thresholds = roc_curve_data\n",
    "\n",
    "    # Оптимальный порог можно найти, например, по максимизации F1-меры\n",
    "    f1_scores = 2 * (tpr * (1 - fpr)) / (tpr + (1 - fpr))\n",
    "    optimal_idx = np.argmax(f1_scores)\n",
    "    optimal_threshold = thresholds[optimal_idx]\n",
    "\n",
    "    return optimal_threshold"
   ]
  },
  {
   "cell_type": "code",
   "execution_count": 48,
   "metadata": {},
   "outputs": [],
   "source": [
    "def get_optim_thresh_rep(model, X_valid, y_valid, roc_curve_data):\n",
    "    optimal_threshold = get_optim_threshold(roc_curve_data)\n",
    "    valid_preds = model.predict_proba(X_valid)\n",
    "    optimal_test_predictions = (valid_preds.tolist() >= optimal_threshold).astype(int)\n",
    "    print(classification_report(y_valid, optimal_test_predictions[:, 1], digits=4))"
   ]
  },
  {
   "cell_type": "code",
   "execution_count": 49,
   "metadata": {},
   "outputs": [
    {
     "name": "stdout",
     "output_type": "stream",
     "text": [
      "              precision    recall  f1-score   support\n",
      "\n",
      "           0     0.8476    0.8149    0.8309     41062\n",
      "           1     0.3496    0.4043    0.3749     10102\n",
      "\n",
      "    accuracy                         0.7339     51164\n",
      "   macro avg     0.5986    0.6096    0.6029     51164\n",
      "weighted avg     0.7492    0.7339    0.7409     51164\n",
      "\n"
     ]
    }
   ],
   "source": [
    "get_optim_thresh_rep(dtc, X_gf_valid, y_gf_valid, rfc_roc_curve)"
   ]
  },
  {
   "cell_type": "code",
   "execution_count": 50,
   "metadata": {},
   "outputs": [
    {
     "name": "stdout",
     "output_type": "stream",
     "text": [
      "              precision    recall  f1-score   support\n",
      "\n",
      "           0     0.9154    0.7023    0.7948     41062\n",
      "           1     0.3783    0.7363    0.4998     10102\n",
      "\n",
      "    accuracy                         0.7090     51164\n",
      "   macro avg     0.6469    0.7193    0.6473     51164\n",
      "weighted avg     0.8094    0.7090    0.7366     51164\n",
      "\n"
     ]
    }
   ],
   "source": [
    "get_optim_thresh_rep(rfc, X_gf_valid, y_gf_valid, rfc_roc_curve)"
   ]
  },
  {
   "cell_type": "code",
   "execution_count": 51,
   "metadata": {},
   "outputs": [
    {
     "name": "stdout",
     "output_type": "stream",
     "text": [
      "              precision    recall  f1-score   support\n",
      "\n",
      "           0     0.8996    0.7475    0.8166     41062\n",
      "           1     0.3918    0.6610    0.4919     10102\n",
      "\n",
      "    accuracy                         0.7304     51164\n",
      "   macro avg     0.6457    0.7042    0.6542     51164\n",
      "weighted avg     0.7993    0.7304    0.7525     51164\n",
      "\n"
     ]
    }
   ],
   "source": [
    "get_optim_thresh_rep(etc, X_gf_valid, y_gf_valid, rfc_roc_curve)"
   ]
  },
  {
   "cell_type": "markdown",
   "metadata": {},
   "source": [
    "---\n",
    "\n",
    "## Final"
   ]
  },
  {
   "cell_type": "markdown",
   "metadata": {},
   "source": [
    "### Final LogReg"
   ]
  },
  {
   "cell_type": "code",
   "execution_count": 52,
   "metadata": {},
   "outputs": [
    {
     "name": "stdout",
     "output_type": "stream",
     "text": [
      "              precision    recall  f1-score   support\n",
      "\n",
      "           0     0.9069    0.7103    0.7967    164248\n",
      "           1     0.3741    0.7036    0.4884     40408\n",
      "\n",
      "    accuracy                         0.7090    204656\n",
      "   macro avg     0.6405    0.7070    0.6426    204656\n",
      "weighted avg     0.8017    0.7090    0.7358    204656\n",
      "\n",
      "              precision    recall  f1-score   support\n",
      "\n",
      "           0     0.9062    0.7085    0.7953     41062\n",
      "           1     0.3721    0.7020    0.4864     10102\n",
      "\n",
      "    accuracy                         0.7073     51164\n",
      "   macro avg     0.6392    0.7053    0.6408     51164\n",
      "weighted avg     0.8008    0.7073    0.7343     51164\n",
      "\n",
      "CPU times: total: 11 s\n",
      "Wall time: 10.9 s\n"
     ]
    }
   ],
   "source": [
    "%%time\n",
    "\n",
    "lr_final = LogisticRegression(\n",
    "    solver='liblinear',\n",
    "    class_weight=class_weights_dict\n",
    "    )\n",
    "lr_final.fit(X_lin_train_scaled, y_lin_train)\n",
    "lr_final_train_preds = lr_final.predict(X_lin_train_scaled)\n",
    "print(classification_report(y_lin_train, lr_final_train_preds, digits=4))\n",
    "lr_final_valid_preds = lr_final.predict(X_lin_valid_scaled)\n",
    "print(classification_report(y_lin_valid, lr_final_valid_preds, digits=4))"
   ]
  },
  {
   "cell_type": "code",
   "execution_count": 53,
   "metadata": {},
   "outputs": [
    {
     "data": {
      "image/png": "[encoded data removed]",
      "text/plain": [
       "<Figure size 640x480 with 2 Axes>"
      ]
     },
     "metadata": {},
     "output_type": "display_data"
    }
   ],
   "source": [
    "# Вычисляем матрицу путаницы\n",
    "cm = confusion_matrix(y_lin_valid, lr_final_valid_preds)\n",
    "# Визуализация матрицы путаницы\n",
    "disp = ConfusionMatrixDisplay(confusion_matrix=cm)\n",
    "disp.plot(cmap=plt.cm.Blues);"
   ]
  },
  {
   "cell_type": "code",
   "execution_count": 54,
   "metadata": {},
   "outputs": [],
   "source": [
    "train_preds_proba = lr_final.predict_proba(X_lin_train_scaled)\n",
    "valid_preds_proba = lr_final.predict_proba(X_lin_valid_scaled)"
   ]
  },
  {
   "cell_type": "code",
   "execution_count": 55,
   "metadata": {},
   "outputs": [
    {
     "data": {
      "text/html": [
       "<div>\n",
       "<style scoped>\n",
       "    .dataframe tbody tr th:only-of-type {\n",
       "        vertical-align: middle;\n",
       "    }\n",
       "\n",
       "    .dataframe tbody tr th {\n",
       "        vertical-align: top;\n",
       "    }\n",
       "\n",
       "    .dataframe thead th {\n",
       "        text-align: right;\n",
       "    }\n",
       "</style>\n",
       "<table border=\"1\" class=\"dataframe\">\n",
       "  <thead>\n",
       "    <tr style=\"text-align: right;\">\n",
       "      <th></th>\n",
       "      <th>Вероятность</th>\n",
       "      <th>Всего в группе (train)</th>\n",
       "      <th>Кол-во target 1 (train)</th>\n",
       "      <th>Всего в группе (valid)</th>\n",
       "      <th>Кол-во target 1 (valid)</th>\n",
       "    </tr>\n",
       "  </thead>\n",
       "  <tbody>\n",
       "    <tr>\n",
       "      <th>0</th>\n",
       "      <td>0.0 - 0.1</td>\n",
       "      <td>5500</td>\n",
       "      <td>93</td>\n",
       "      <td>1414</td>\n",
       "      <td>29</td>\n",
       "    </tr>\n",
       "    <tr>\n",
       "      <th>1</th>\n",
       "      <td>0.1 - 0.2</td>\n",
       "      <td>29618</td>\n",
       "      <td>1000</td>\n",
       "      <td>7444</td>\n",
       "      <td>259</td>\n",
       "    </tr>\n",
       "    <tr>\n",
       "      <th>2</th>\n",
       "      <td>0.2 - 0.3</td>\n",
       "      <td>34930</td>\n",
       "      <td>2342</td>\n",
       "      <td>8563</td>\n",
       "      <td>585</td>\n",
       "    </tr>\n",
       "    <tr>\n",
       "      <th>3</th>\n",
       "      <td>0.3 - 0.4</td>\n",
       "      <td>30502</td>\n",
       "      <td>3569</td>\n",
       "      <td>7648</td>\n",
       "      <td>864</td>\n",
       "    </tr>\n",
       "    <tr>\n",
       "      <th>4</th>\n",
       "      <td>0.4 - 0.5</td>\n",
       "      <td>28098</td>\n",
       "      <td>4973</td>\n",
       "      <td>7035</td>\n",
       "      <td>1273</td>\n",
       "    </tr>\n",
       "    <tr>\n",
       "      <th>5</th>\n",
       "      <td>0.5 - 0.6</td>\n",
       "      <td>25494</td>\n",
       "      <td>6507</td>\n",
       "      <td>6269</td>\n",
       "      <td>1611</td>\n",
       "    </tr>\n",
       "    <tr>\n",
       "      <th>6</th>\n",
       "      <td>0.6 - 0.7</td>\n",
       "      <td>20668</td>\n",
       "      <td>7043</td>\n",
       "      <td>5236</td>\n",
       "      <td>1751</td>\n",
       "    </tr>\n",
       "    <tr>\n",
       "      <th>7</th>\n",
       "      <td>0.7 - 0.8</td>\n",
       "      <td>15327</td>\n",
       "      <td>6666</td>\n",
       "      <td>3917</td>\n",
       "      <td>1681</td>\n",
       "    </tr>\n",
       "    <tr>\n",
       "      <th>8</th>\n",
       "      <td>0.8 - 0.9</td>\n",
       "      <td>9553</td>\n",
       "      <td>5012</td>\n",
       "      <td>2418</td>\n",
       "      <td>1271</td>\n",
       "    </tr>\n",
       "    <tr>\n",
       "      <th>9</th>\n",
       "      <td>0.9 - 1.0</td>\n",
       "      <td>4966</td>\n",
       "      <td>3203</td>\n",
       "      <td>1220</td>\n",
       "      <td>778</td>\n",
       "    </tr>\n",
       "  </tbody>\n",
       "</table>\n",
       "</div>"
      ],
      "text/plain": [
       "  Вероятность  Всего в группе (train)  Кол-во target 1 (train)  \\\n",
       "0   0.0 - 0.1                    5500                       93   \n",
       "1   0.1 - 0.2                   29618                     1000   \n",
       "2   0.2 - 0.3                   34930                     2342   \n",
       "3   0.3 - 0.4                   30502                     3569   \n",
       "4   0.4 - 0.5                   28098                     4973   \n",
       "5   0.5 - 0.6                   25494                     6507   \n",
       "6   0.6 - 0.7                   20668                     7043   \n",
       "7   0.7 - 0.8                   15327                     6666   \n",
       "8   0.8 - 0.9                    9553                     5012   \n",
       "9   0.9 - 1.0                    4966                     3203   \n",
       "\n",
       "   Всего в группе (valid)  Кол-во target 1 (valid)  \n",
       "0                    1414                       29  \n",
       "1                    7444                      259  \n",
       "2                    8563                      585  \n",
       "3                    7648                      864  \n",
       "4                    7035                     1273  \n",
       "5                    6269                     1611  \n",
       "6                    5236                     1751  \n",
       "7                    3917                     1681  \n",
       "8                    2418                     1271  \n",
       "9                    1220                      778  "
      ]
     },
     "metadata": {},
     "output_type": "display_data"
    }
   ],
   "source": [
    "def get_table(train_probs, valid_probs, y_train, y_valid):\n",
    "    # Создание DataFrame из вероятностей\n",
    "    train_df = pd.DataFrame({'Вероятность': train_probs[:, 1], 'target': y_train.values})\n",
    "    valid_df = pd.DataFrame({'Вероятность': valid_probs[:, 1], 'target': y_valid.values})\n",
    "\n",
    "    # Определение интервалов\n",
    "    bins = np.around(np.arange(0.0, 1.1, 0.1), 1).tolist()  # Создание границ интервалов\n",
    "    labels = [(bins[i], bins[i+1]) for i in range(len(bins)-1)]  # Создание меток для интервалов\n",
    "\n",
    "    # Разбиение на интервалы\n",
    "    train_df['Интервал'] = pd.cut(\n",
    "        train_df['Вероятность'], bins=bins,\n",
    "        labels=labels, right=True, include_lowest=True\n",
    "        )\n",
    "    valid_df['Интервал'] = pd.cut(\n",
    "        valid_df['Вероятность'], bins=bins,\n",
    "        labels=labels, right=True, include_lowest=True\n",
    "        )\n",
    "\n",
    "    # Группировка по интервалам и подсчет для тренировочной выборки\n",
    "    train_result = train_df.groupby('Интервал', observed=False).agg(\n",
    "        Всего_в_группе=('Вероятность', 'size'),\n",
    "        Кол_во_target_1=('target', lambda x: (x == 1).sum()),\n",
    "    ).reset_index()\n",
    "\n",
    "    # Группировка по интервалам и подсчет для валидационной выборки\n",
    "    valid_result = valid_df.groupby('Интервал', observed=False).agg(\n",
    "        Всего_в_группе=('Вероятность', 'size'),\n",
    "        Кол_во_target_1=('target', lambda x: (x == 1).sum()),\n",
    "    ).reset_index()\n",
    "\n",
    "    # Переименование столбцов\n",
    "    train_result.columns = ['Интервал', 'Всего в группе (train)', 'Кол-во target 1 (train)']\n",
    "    valid_result.columns = ['Интервал', 'Всего в группе (valid)', 'Кол-во target 1 (valid)']\n",
    "\n",
    "    # Объединение результатов\n",
    "    final_result = pd.merge(train_result, valid_result, on='Интервал', how='outer')\n",
    "\n",
    "    # Переименование столбца для вероятности\n",
    "    final_result['Вероятность'] = final_result['Интервал'].apply(lambda x: f\"{x[0]} - {x[1]}\")\n",
    "\n",
    "    # Упорядочивание столбцов\n",
    "    final_result = final_result[['Вероятность', 'Всего в группе (train)', 'Кол-во target 1 (train)', \n",
    "                                'Всего в группе (valid)', 'Кол-во target 1 (valid)']]\n",
    "\n",
    "    display(final_result)\n",
    "    \n",
    "    \n",
    "get_table(train_preds_proba, valid_preds_proba, y_lin_train, y_lin_valid)"
   ]
  },
  {
   "cell_type": "code",
   "execution_count": 56,
   "metadata": {},
   "outputs": [
    {
     "data": {
      "image/png": "[encoded data removed]",
      "text/plain": [
       "<Figure size 800x500 with 1 Axes>"
      ]
     },
     "metadata": {},
     "output_type": "display_data"
    }
   ],
   "source": [
    "def get_roc_curves(train_probs, valid_probs, y_train, y_valid):\n",
    "    # Вычисление ROC-кривой и AUC для тренировочной выборки\n",
    "    fpr_train, tpr_train, _ = roc_curve(y_train, train_probs[:, 1])\n",
    "    roc_auc_train = auc(fpr_train, tpr_train)\n",
    "\n",
    "    # Вычисление ROC-кривой и AUC для валидационной выборки\n",
    "    fpr_valid, tpr_valid, _ = roc_curve(y_valid, valid_probs[:, 1])\n",
    "    roc_auc_valid = auc(fpr_valid, tpr_valid)\n",
    "\n",
    "    # Визуализация ROC-кривой\n",
    "    plt.figure(figsize=(8, 5))\n",
    "    plt.plot(fpr_train, tpr_train, color='blue', lw=2, label='Train ROC curve (area = {:.4f})'.format(roc_auc_train))\n",
    "    plt.plot(fpr_valid, tpr_valid, color='orange', lw=2, label='Validation ROC curve (area = {:.4f})'.format(roc_auc_valid))\n",
    "    plt.plot([0, 1], [0, 1], color='gray', linestyle='--')  # Линия случайного выбора\n",
    "    plt.xlim([0.0, 1.0])\n",
    "    plt.ylim([0.0, 1.05])\n",
    "    plt.xlabel('False Positive Rate')\n",
    "    plt.ylabel('True Positive Rate')\n",
    "    plt.title('Receiver Operating Characteristic (ROC) Curve')\n",
    "    plt.legend(loc='lower right')\n",
    "    plt.grid()\n",
    "    plt.show()\n",
    "    \n",
    "\n",
    "get_roc_curves(train_preds_proba, valid_preds_proba, y_lin_train, y_lin_valid)"
   ]
  },
  {
   "cell_type": "markdown",
   "metadata": {},
   "source": [
    "### Final ETC"
   ]
  },
  {
   "cell_type": "code",
   "execution_count": 57,
   "metadata": {},
   "outputs": [
    {
     "name": "stdout",
     "output_type": "stream",
     "text": [
      "              precision    recall  f1-score   support\n",
      "\n",
      "           0     1.0000    1.0000    1.0000    164248\n",
      "           1     1.0000    1.0000    1.0000    156605\n",
      "\n",
      "    accuracy                         1.0000    320853\n",
      "   macro avg     1.0000    1.0000    1.0000    320853\n",
      "weighted avg     1.0000    1.0000    1.0000    320853\n",
      "\n",
      "              precision    recall  f1-score   support\n",
      "\n",
      "           0     0.8378    0.9337    0.8831     41062\n",
      "           1     0.4956    0.2650    0.3454     10102\n",
      "\n",
      "    accuracy                         0.8016     51164\n",
      "   macro avg     0.6667    0.5993    0.6142     51164\n",
      "weighted avg     0.7702    0.8016    0.7769     51164\n",
      "\n",
      "CPU times: total: 3min 40s\n",
      "Wall time: 21.2 s\n"
     ]
    }
   ],
   "source": [
    "%%time\n",
    "\n",
    "etc_final = ExtraTreesClassifier(n_jobs=-1)\n",
    "etc_final.fit(X_gf_adasyn_train, y_gf_adasyn_train)\n",
    "etc_final_train_preds = etc_final.predict(X_gf_adasyn_train)\n",
    "print(classification_report(y_gf_adasyn_train, etc_final_train_preds, digits=4))\n",
    "etc_final_valid_preds = etc_final.predict(X_gf_adasyn_valid)\n",
    "print(classification_report(y_gf_adasyn_valid, etc_final_valid_preds, digits=4))"
   ]
  },
  {
   "cell_type": "code",
   "execution_count": 58,
   "metadata": {},
   "outputs": [
    {
     "data": {
      "image/png": "[encoded data removed]",
      "text/plain": [
       "<Figure size 640x480 with 2 Axes>"
      ]
     },
     "metadata": {},
     "output_type": "display_data"
    }
   ],
   "source": [
    "# Вычисляем матрицу путаницы\n",
    "cm = confusion_matrix(y_gf_adasyn_valid, etc_final_valid_preds)\n",
    "# Визуализация матрицы путаницы\n",
    "disp = ConfusionMatrixDisplay(confusion_matrix=cm)\n",
    "disp.plot(cmap=plt.cm.Blues);"
   ]
  },
  {
   "cell_type": "code",
   "execution_count": 59,
   "metadata": {},
   "outputs": [],
   "source": [
    "train_preds_proba = etc_final.predict_proba(X_gf_adasyn_train)\n",
    "valid_preds_proba = etc_final.predict_proba(X_gf_adasyn_valid)"
   ]
  },
  {
   "cell_type": "code",
   "execution_count": 60,
   "metadata": {},
   "outputs": [
    {
     "data": {
      "text/html": [
       "<div>\n",
       "<style scoped>\n",
       "    .dataframe tbody tr th:only-of-type {\n",
       "        vertical-align: middle;\n",
       "    }\n",
       "\n",
       "    .dataframe tbody tr th {\n",
       "        vertical-align: top;\n",
       "    }\n",
       "\n",
       "    .dataframe thead th {\n",
       "        text-align: right;\n",
       "    }\n",
       "</style>\n",
       "<table border=\"1\" class=\"dataframe\">\n",
       "  <thead>\n",
       "    <tr style=\"text-align: right;\">\n",
       "      <th></th>\n",
       "      <th>Вероятность</th>\n",
       "      <th>Всего в группе (train)</th>\n",
       "      <th>Кол-во target 1 (train)</th>\n",
       "      <th>Всего в группе (valid)</th>\n",
       "      <th>Кол-во target 1 (valid)</th>\n",
       "    </tr>\n",
       "  </thead>\n",
       "  <tbody>\n",
       "    <tr>\n",
       "      <th>0</th>\n",
       "      <td>0.0 - 0.1</td>\n",
       "      <td>164248</td>\n",
       "      <td>0</td>\n",
       "      <td>19880</td>\n",
       "      <td>1006</td>\n",
       "    </tr>\n",
       "    <tr>\n",
       "      <th>1</th>\n",
       "      <td>0.1 - 0.2</td>\n",
       "      <td>0</td>\n",
       "      <td>0</td>\n",
       "      <td>8571</td>\n",
       "      <td>1214</td>\n",
       "    </tr>\n",
       "    <tr>\n",
       "      <th>2</th>\n",
       "      <td>0.2 - 0.3</td>\n",
       "      <td>0</td>\n",
       "      <td>0</td>\n",
       "      <td>7009</td>\n",
       "      <td>1582</td>\n",
       "    </tr>\n",
       "    <tr>\n",
       "      <th>3</th>\n",
       "      <td>0.3 - 0.4</td>\n",
       "      <td>0</td>\n",
       "      <td>0</td>\n",
       "      <td>5905</td>\n",
       "      <td>1841</td>\n",
       "    </tr>\n",
       "    <tr>\n",
       "      <th>4</th>\n",
       "      <td>0.4 - 0.5</td>\n",
       "      <td>0</td>\n",
       "      <td>0</td>\n",
       "      <td>4398</td>\n",
       "      <td>1782</td>\n",
       "    </tr>\n",
       "    <tr>\n",
       "      <th>5</th>\n",
       "      <td>0.5 - 0.6</td>\n",
       "      <td>0</td>\n",
       "      <td>0</td>\n",
       "      <td>2851</td>\n",
       "      <td>1354</td>\n",
       "    </tr>\n",
       "    <tr>\n",
       "      <th>6</th>\n",
       "      <td>0.6 - 0.7</td>\n",
       "      <td>0</td>\n",
       "      <td>0</td>\n",
       "      <td>1543</td>\n",
       "      <td>790</td>\n",
       "    </tr>\n",
       "    <tr>\n",
       "      <th>7</th>\n",
       "      <td>0.7 - 0.8</td>\n",
       "      <td>0</td>\n",
       "      <td>0</td>\n",
       "      <td>736</td>\n",
       "      <td>382</td>\n",
       "    </tr>\n",
       "    <tr>\n",
       "      <th>8</th>\n",
       "      <td>0.8 - 0.9</td>\n",
       "      <td>0</td>\n",
       "      <td>0</td>\n",
       "      <td>241</td>\n",
       "      <td>141</td>\n",
       "    </tr>\n",
       "    <tr>\n",
       "      <th>9</th>\n",
       "      <td>0.9 - 1.0</td>\n",
       "      <td>156605</td>\n",
       "      <td>156605</td>\n",
       "      <td>30</td>\n",
       "      <td>10</td>\n",
       "    </tr>\n",
       "  </tbody>\n",
       "</table>\n",
       "</div>"
      ],
      "text/plain": [
       "  Вероятность  Всего в группе (train)  Кол-во target 1 (train)  \\\n",
       "0   0.0 - 0.1                  164248                        0   \n",
       "1   0.1 - 0.2                       0                        0   \n",
       "2   0.2 - 0.3                       0                        0   \n",
       "3   0.3 - 0.4                       0                        0   \n",
       "4   0.4 - 0.5                       0                        0   \n",
       "5   0.5 - 0.6                       0                        0   \n",
       "6   0.6 - 0.7                       0                        0   \n",
       "7   0.7 - 0.8                       0                        0   \n",
       "8   0.8 - 0.9                       0                        0   \n",
       "9   0.9 - 1.0                  156605                   156605   \n",
       "\n",
       "   Всего в группе (valid)  Кол-во target 1 (valid)  \n",
       "0                   19880                     1006  \n",
       "1                    8571                     1214  \n",
       "2                    7009                     1582  \n",
       "3                    5905                     1841  \n",
       "4                    4398                     1782  \n",
       "5                    2851                     1354  \n",
       "6                    1543                      790  \n",
       "7                     736                      382  \n",
       "8                     241                      141  \n",
       "9                      30                       10  "
      ]
     },
     "metadata": {},
     "output_type": "display_data"
    }
   ],
   "source": [
    "get_table(train_preds_proba, valid_preds_proba, y_gf_adasyn_train, y_gf_adasyn_valid)"
   ]
  },
  {
   "cell_type": "code",
   "execution_count": 61,
   "metadata": {},
   "outputs": [
    {
     "data": {
      "image/png": "[encoded data removed]",
      "text/plain": [
       "<Figure size 800x500 with 1 Axes>"
      ]
     },
     "metadata": {},
     "output_type": "display_data"
    }
   ],
   "source": [
    "get_roc_curves(train_preds_proba, valid_preds_proba, y_gf_adasyn_train, y_gf_adasyn_valid)"
   ]
  },
  {
   "cell_type": "markdown",
   "metadata": {},
   "source": [
    "## verify"
   ]
  },
  {
   "cell_type": "markdown",
   "metadata": {},
   "source": [
    "### by LR"
   ]
  },
  {
   "cell_type": "code",
   "execution_count": 62,
   "metadata": {},
   "outputs": [
    {
     "name": "stdout",
     "output_type": "stream",
     "text": [
      "LR ROC AUC:   0.7302\n",
      "LR Gini Coef: 0.4605\n",
      "              precision    recall  f1-score   support\n",
      "\n",
      "           0     0.8900    0.7031    0.7856    205310\n",
      "           1     0.3490    0.6469    0.4534     50510\n",
      "\n",
      "    accuracy                         0.6920    255820\n",
      "   macro avg     0.6195    0.6750    0.6195    255820\n",
      "weighted avg     0.7832    0.6920    0.7200    255820\n",
      "\n"
     ]
    }
   ],
   "source": [
    "lr_full = LogisticRegression(\n",
    "    solver='lbfgs',\n",
    "    max_iter=1000, n_jobs=-1,\n",
    "    class_weight=class_weights_dict\n",
    "    )\n",
    "lr_full.fit(X_lin, y_lin)\n",
    "\n",
    "lr_full_pred_proba = lr_full.predict_proba(X_lin)[:, 1]\n",
    "# Расчет roc_auc\n",
    "lr_full_roc_auc = roc_auc_score(y_lin, lr_full_pred_proba)\n",
    "# ROC-кривая и коэффициент Джини\n",
    "fpr, tpr, thresholds = roc_curve(\n",
    "    y_lin, lr_full_pred_proba\n",
    "    )\n",
    "lr_full_roc_auc_value = auc(fpr, tpr)\n",
    "lr_full_gini_coefficient = 2 * lr_full_roc_auc_value - 1\n",
    "print(f'LR ROC AUC:   {lr_full_roc_auc_value:.4f}')\n",
    "print(f'LR Gini Coef: {lr_full_gini_coefficient:.4f}')\n",
    "lr_full_data_preds = lr_full.predict(X_lin)\n",
    "print(classification_report(y_lin, lr_full_data_preds, digits=4))"
   ]
  },
  {
   "cell_type": "code",
   "execution_count": 63,
   "metadata": {},
   "outputs": [
    {
     "data": {
      "text/plain": [
       "0    31209\n",
       "1    24821\n",
       "Name: count, dtype: int64"
      ]
     },
     "execution_count": 63,
     "metadata": {},
     "output_type": "execute_result"
    }
   ],
   "source": [
    "verify_X = verify_copy.drop('ID', axis=1)\n",
    "lr_full_verify_preds = lr_full.predict(verify_X)\n",
    "lr_full_verify_probs = lr_full.predict_proba(verify_X)\n",
    "\n",
    "pd.Series(lr_full_verify_preds).value_counts()"
   ]
  },
  {
   "cell_type": "code",
   "execution_count": 64,
   "metadata": {},
   "outputs": [],
   "source": [
    "lr_verify_result = pd.DataFrame(verify['ID'])\n",
    "lr_verify_result['score'] = lr_full_verify_probs[:, 1]\n",
    "\n",
    "lr_verify_result.to_csv('lr_verify_result.csv', sep=';', index=False)"
   ]
  },
  {
   "cell_type": "markdown",
   "metadata": {},
   "source": [
    "### by ETC"
   ]
  },
  {
   "cell_type": "code",
   "execution_count": 66,
   "metadata": {},
   "outputs": [
    {
     "name": "stdout",
     "output_type": "stream",
     "text": [
      "Распределение классов до ADASYN:    Counter({0: 205310, 1: 50510})\n",
      "Распределение классов после ADASYN: Counter({0: 205310, 1: 195677})\n"
     ]
    }
   ],
   "source": [
    "adasyn = ADASYN(random_state=42)\n",
    "X_gf_adasyn, y_gf_adasyn = adasyn.fit_resample(X_gf, y_gf)\n",
    "print(\"Распределение классов до ADASYN:   \", Counter(y_gf))\n",
    "print(\"Распределение классов после ADASYN:\", Counter(y_gf_adasyn))"
   ]
  },
  {
   "cell_type": "code",
   "execution_count": 67,
   "metadata": {},
   "outputs": [
    {
     "name": "stdout",
     "output_type": "stream",
     "text": [
      "ETC ROC AUC:   1.0000\n",
      "ETC Gini Coef: 1.0000\n",
      "              precision    recall  f1-score   support\n",
      "\n",
      "           0     1.0000    1.0000    1.0000    205310\n",
      "           1     1.0000    1.0000    1.0000     50510\n",
      "\n",
      "    accuracy                         1.0000    255820\n",
      "   macro avg     1.0000    1.0000    1.0000    255820\n",
      "weighted avg     1.0000    1.0000    1.0000    255820\n",
      "\n",
      "CPU times: total: 5min 23s\n",
      "Wall time: 31.2 s\n"
     ]
    }
   ],
   "source": [
    "%%time\n",
    "\n",
    "etc_full = ExtraTreesClassifier(n_jobs=-1)\n",
    "etc_full.fit(X_gf_adasyn, y_gf_adasyn)\n",
    "etc_full_data_preds = etc_full.predict(X_gf)\n",
    "etc_full_pred_proba = etc_full.predict_proba(X_gf)[:, 1]\n",
    "# Расчет roc_auc\n",
    "etc_full_roc_auc = roc_auc_score(y_gf, etc_full_pred_proba)\n",
    "# ROC-кривая и коэффициент Джини\n",
    "fpr, tpr, thresholds = roc_curve(\n",
    "    y_gf, etc_full_pred_proba\n",
    "    )\n",
    "etc_full_roc_auc_value = auc(fpr, tpr)\n",
    "etc_full_gini_coefficient = 2 * etc_full_roc_auc_value - 1\n",
    "print(f'ETC ROC AUC:   {etc_full_roc_auc_value:.4f}')\n",
    "print(f'ETC Gini Coef: {etc_full_gini_coefficient:.4f}')\n",
    "etc_full_data_preds = etc_full.predict(X_gf)\n",
    "print(classification_report(y_gf, etc_full_data_preds, digits=4))"
   ]
  },
  {
   "cell_type": "code",
   "execution_count": 68,
   "metadata": {},
   "outputs": [],
   "source": [
    "verify_X = verify_copy.drop('ID', axis=1)\n",
    "etc_full_verify_preds = etc_full.predict(verify_X)\n",
    "etc_full_verify_probs = etc_full.predict_proba(verify_X)"
   ]
  },
  {
   "cell_type": "code",
   "execution_count": 69,
   "metadata": {},
   "outputs": [
    {
     "data": {
      "text/plain": [
       "0    49041\n",
       "1     6989\n",
       "Name: count, dtype: int64"
      ]
     },
     "execution_count": 69,
     "metadata": {},
     "output_type": "execute_result"
    }
   ],
   "source": [
    "pd.Series(etc_full_verify_preds).value_counts()"
   ]
  },
  {
   "cell_type": "code",
   "execution_count": 70,
   "metadata": {},
   "outputs": [],
   "source": [
    "etc_verify_result = pd.DataFrame(verify['ID'])\n",
    "etc_verify_result['score'] = etc_full_verify_probs[:, 1]"
   ]
  },
  {
   "cell_type": "code",
   "execution_count": 71,
   "metadata": {},
   "outputs": [],
   "source": [
    "etc_verify_result.to_csv('etc_verify_result.csv', sep=';', index=False)"
   ]
  }
 ],
 "metadata": {
  "kernelspec": {
   "display_name": "Python 3",
   "language": "python",
   "name": "python3"
  },
  "language_info": {
   "codemirror_mode": {
    "name": "ipython",
    "version": 3
   },
   "file_extension": ".py",
   "mimetype": "text/x-python",
   "name": "python",
   "nbconvert_exporter": "python",
   "pygments_lexer": "ipython3",
   "version": "3.11.1"
  }
 },
 "nbformat": 4,
 "nbformat_minor": 2
}
