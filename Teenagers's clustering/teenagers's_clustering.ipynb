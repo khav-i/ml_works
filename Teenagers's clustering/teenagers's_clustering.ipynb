{
 "cells": [
  {
   "cell_type": "markdown",
   "metadata": {},
   "source": [
    "# <center> Кластеризация подростков\n",
    "\n",
    "Большинство подростков активно общаются в социальных сетях. Многие из них также совершают покупки в интернете, что, естественно, вызывает интерес у рекламодателей. Маркетологи различных компаний стремятся выделять сегменты подростков с похожими интересами, чтобы давать более персонализированную рекламу и привлекать только тех подростков, которые могут стать их потенциальными клиентами. Например, магазину спортивной одежды интересно давать рекламу для девушек и юношей, которые относятся к сегменту интересующихся спортом.\n",
    "\n",
    "В данной работе мы решим задачу сегментации подростков по их интересам. [Набор данных](https://lms-cdn.skillfactory.ru/assets/courseware/v1/ecf4013386fbfff89f564dc426160a88/asset-v1:SkillFactory+DSPR-2.0+14JULY2021+type@asset+block/snsdata.zip) представляет собой случайную выборку из 30 000 американских старшеклассников, у которых в 2006 году были профили в одной известной социальной сети, название которой авторы датасета не раскрывают в целях сохранения анонимности. Данные были отобраны равномерно для четырёх разных возрастов (предполагаемый год окончания школы — 2006–2009)."
   ]
  },
  {
   "cell_type": "code",
   "execution_count": 1,
   "metadata": {},
   "outputs": [],
   "source": [
    "# Импортируем библиотеки\n",
    "import pandas as pd\n",
    "import numpy as np\n",
    "\n",
    "from sklearn.model_selection import train_test_split\n",
    "from sklearn.preprocessing import StandardScaler\n",
    "from sklearn.cluster import KMeans\n",
    "from sklearn.mixture import GaussianMixture\n",
    "from sklearn.metrics import silhouette_score, davies_bouldin_score, calinski_harabasz_score\n",
    "\n",
    "import matplotlib.pyplot as plt"
   ]
  },
  {
   "cell_type": "markdown",
   "metadata": {},
   "source": [
    "## Загрузка и подготовка данных\n"
   ]
  },
  {
   "cell_type": "code",
   "execution_count": 2,
   "metadata": {},
   "outputs": [
    {
     "data": {
      "text/html": [
       "<div>\n",
       "<style scoped>\n",
       "    .dataframe tbody tr th:only-of-type {\n",
       "        vertical-align: middle;\n",
       "    }\n",
       "\n",
       "    .dataframe tbody tr th {\n",
       "        vertical-align: top;\n",
       "    }\n",
       "\n",
       "    .dataframe thead th {\n",
       "        text-align: right;\n",
       "    }\n",
       "</style>\n",
       "<table border=\"1\" class=\"dataframe\">\n",
       "  <thead>\n",
       "    <tr style=\"text-align: right;\">\n",
       "      <th></th>\n",
       "      <th>gradyear</th>\n",
       "      <th>gender</th>\n",
       "      <th>age</th>\n",
       "      <th>friends</th>\n",
       "      <th>basketball</th>\n",
       "      <th>football</th>\n",
       "      <th>soccer</th>\n",
       "      <th>softball</th>\n",
       "      <th>volleyball</th>\n",
       "      <th>swimming</th>\n",
       "      <th>...</th>\n",
       "      <th>blonde</th>\n",
       "      <th>mall</th>\n",
       "      <th>shopping</th>\n",
       "      <th>clothes</th>\n",
       "      <th>hollister</th>\n",
       "      <th>abercrombie</th>\n",
       "      <th>die</th>\n",
       "      <th>death</th>\n",
       "      <th>drunk</th>\n",
       "      <th>drugs</th>\n",
       "    </tr>\n",
       "  </thead>\n",
       "  <tbody>\n",
       "    <tr>\n",
       "      <th>0</th>\n",
       "      <td>2006</td>\n",
       "      <td>M</td>\n",
       "      <td>18.982</td>\n",
       "      <td>7</td>\n",
       "      <td>0</td>\n",
       "      <td>0</td>\n",
       "      <td>0</td>\n",
       "      <td>0</td>\n",
       "      <td>0</td>\n",
       "      <td>0</td>\n",
       "      <td>...</td>\n",
       "      <td>0</td>\n",
       "      <td>0</td>\n",
       "      <td>0</td>\n",
       "      <td>0</td>\n",
       "      <td>0</td>\n",
       "      <td>0</td>\n",
       "      <td>0</td>\n",
       "      <td>0</td>\n",
       "      <td>0</td>\n",
       "      <td>0</td>\n",
       "    </tr>\n",
       "    <tr>\n",
       "      <th>1</th>\n",
       "      <td>2006</td>\n",
       "      <td>F</td>\n",
       "      <td>18.801</td>\n",
       "      <td>0</td>\n",
       "      <td>0</td>\n",
       "      <td>1</td>\n",
       "      <td>0</td>\n",
       "      <td>0</td>\n",
       "      <td>0</td>\n",
       "      <td>0</td>\n",
       "      <td>...</td>\n",
       "      <td>0</td>\n",
       "      <td>1</td>\n",
       "      <td>0</td>\n",
       "      <td>0</td>\n",
       "      <td>0</td>\n",
       "      <td>0</td>\n",
       "      <td>0</td>\n",
       "      <td>0</td>\n",
       "      <td>0</td>\n",
       "      <td>0</td>\n",
       "    </tr>\n",
       "    <tr>\n",
       "      <th>2</th>\n",
       "      <td>2006</td>\n",
       "      <td>M</td>\n",
       "      <td>18.335</td>\n",
       "      <td>69</td>\n",
       "      <td>0</td>\n",
       "      <td>1</td>\n",
       "      <td>0</td>\n",
       "      <td>0</td>\n",
       "      <td>0</td>\n",
       "      <td>0</td>\n",
       "      <td>...</td>\n",
       "      <td>0</td>\n",
       "      <td>0</td>\n",
       "      <td>0</td>\n",
       "      <td>0</td>\n",
       "      <td>0</td>\n",
       "      <td>0</td>\n",
       "      <td>0</td>\n",
       "      <td>1</td>\n",
       "      <td>0</td>\n",
       "      <td>0</td>\n",
       "    </tr>\n",
       "    <tr>\n",
       "      <th>3</th>\n",
       "      <td>2006</td>\n",
       "      <td>F</td>\n",
       "      <td>18.875</td>\n",
       "      <td>0</td>\n",
       "      <td>0</td>\n",
       "      <td>0</td>\n",
       "      <td>0</td>\n",
       "      <td>0</td>\n",
       "      <td>0</td>\n",
       "      <td>0</td>\n",
       "      <td>...</td>\n",
       "      <td>0</td>\n",
       "      <td>0</td>\n",
       "      <td>0</td>\n",
       "      <td>0</td>\n",
       "      <td>0</td>\n",
       "      <td>0</td>\n",
       "      <td>0</td>\n",
       "      <td>0</td>\n",
       "      <td>0</td>\n",
       "      <td>0</td>\n",
       "    </tr>\n",
       "    <tr>\n",
       "      <th>4</th>\n",
       "      <td>2006</td>\n",
       "      <td>NaN</td>\n",
       "      <td>18.995</td>\n",
       "      <td>10</td>\n",
       "      <td>0</td>\n",
       "      <td>0</td>\n",
       "      <td>0</td>\n",
       "      <td>0</td>\n",
       "      <td>0</td>\n",
       "      <td>0</td>\n",
       "      <td>...</td>\n",
       "      <td>0</td>\n",
       "      <td>0</td>\n",
       "      <td>2</td>\n",
       "      <td>0</td>\n",
       "      <td>0</td>\n",
       "      <td>0</td>\n",
       "      <td>0</td>\n",
       "      <td>0</td>\n",
       "      <td>1</td>\n",
       "      <td>1</td>\n",
       "    </tr>\n",
       "  </tbody>\n",
       "</table>\n",
       "<p>5 rows × 40 columns</p>\n",
       "</div>"
      ],
      "text/plain": [
       "   gradyear gender     age  friends  basketball  football  soccer  softball  \\\n",
       "0      2006      M  18.982        7           0         0       0         0   \n",
       "1      2006      F  18.801        0           0         1       0         0   \n",
       "2      2006      M  18.335       69           0         1       0         0   \n",
       "3      2006      F  18.875        0           0         0       0         0   \n",
       "4      2006    NaN  18.995       10           0         0       0         0   \n",
       "\n",
       "   volleyball  swimming  ...  blonde  mall  shopping  clothes  hollister  \\\n",
       "0           0         0  ...       0     0         0        0          0   \n",
       "1           0         0  ...       0     1         0        0          0   \n",
       "2           0         0  ...       0     0         0        0          0   \n",
       "3           0         0  ...       0     0         0        0          0   \n",
       "4           0         0  ...       0     0         2        0          0   \n",
       "\n",
       "   abercrombie  die  death  drunk  drugs  \n",
       "0            0    0      0      0      0  \n",
       "1            0    0      0      0      0  \n",
       "2            0    0      1      0      0  \n",
       "3            0    0      0      0      0  \n",
       "4            0    0      0      1      1  \n",
       "\n",
       "[5 rows x 40 columns]"
      ]
     },
     "execution_count": 2,
     "metadata": {},
     "output_type": "execute_result"
    }
   ],
   "source": [
    "snsdf = pd.read_csv('data/snsdata.zip')\n",
    "snsdf.head()"
   ]
  },
  {
   "cell_type": "markdown",
   "metadata": {},
   "source": [
    "Признаки в данных\n",
    "- gradyear — год выпуска;\n",
    "- gender — пол;\n",
    "- age — возраст;\n",
    "- friends — число друзей в социальной сети;\n",
    "- basketball, football, soccer, softball, volleyball, swimming, cheerleading, baseball, tennis, sports, cute, sex, sexy, hot, kissed, dance, band, marching, music, rock, god, church, jesus, bible, hair, dress, blonde, mall, shopping, clothes, hollister, abercrombie, die, death, drunk, drugs (переменные с пятой по сороковую) — частота встречаемости соответствующих слов в сообщениях подростка."
   ]
  },
  {
   "cell_type": "markdown",
   "metadata": {},
   "source": [
    "### Обрезка данных\n",
    "\n",
    "Мы будем реализовывать алгоритм только на признаках, которые заключают в себе ключевые слова, встречающиеся в сообщениях подростка. Поэтому удалим все остальные признаки."
   ]
  },
  {
   "cell_type": "code",
   "execution_count": 3,
   "metadata": {},
   "outputs": [
    {
     "data": {
      "text/plain": [
       "(30000, 36)"
      ]
     },
     "execution_count": 3,
     "metadata": {},
     "output_type": "execute_result"
    }
   ],
   "source": [
    "snsdf.drop(['gradyear', 'gender', 'age', 'friends'], axis=1, inplace=True)\n",
    "snsdf.shape"
   ]
  },
  {
   "cell_type": "markdown",
   "metadata": {},
   "source": [
    "### Стандартизация\n",
    "\n",
    "Теперь нормализуем данные с помощью StandardScaler."
   ]
  },
  {
   "cell_type": "code",
   "execution_count": 4,
   "metadata": {},
   "outputs": [],
   "source": [
    "X = snsdf.values\n",
    "scaler = StandardScaler()\n",
    "X_norm = scaler.fit_transform(X)\n"
   ]
  },
  {
   "cell_type": "markdown",
   "metadata": {},
   "source": [
    "## Моделирование\n",
    "\n",
    "### k-means\n",
    "\n",
    "Реализуем алгоритм k-means c девятью кластерами."
   ]
  },
  {
   "cell_type": "code",
   "execution_count": 5,
   "metadata": {},
   "outputs": [
    {
     "name": "stdout",
     "output_type": "stream",
     "text": [
      "Инерция при 9 кластерах: 856276.7\n"
     ]
    }
   ],
   "source": [
    "# Инициализация\n",
    "km_model = KMeans(\n",
    "    n_clusters=9,\n",
    "    random_state=42,\n",
    "    n_init=10\n",
    ")\n",
    "# Обучение\n",
    "km_model.fit(X_norm)\n",
    "# Вывод инерции\n",
    "print(f'Инерция при 9 кластерах: {round(km_model.inertia_, 2)}')\n"
   ]
  },
  {
   "cell_type": "markdown",
   "metadata": {},
   "source": [
    "Посмотрим, сколько подростков относится к каждому кластеру."
   ]
  },
  {
   "cell_type": "code",
   "execution_count": 6,
   "metadata": {},
   "outputs": [
    {
     "data": {
      "text/plain": [
       "km_label\n",
       "1    19599\n",
       "2     4284\n",
       "0     2201\n",
       "4      941\n",
       "3      902\n",
       "5      851\n",
       "8      754\n",
       "7      467\n",
       "6        1\n",
       "Name: count, dtype: int64"
      ]
     },
     "execution_count": 6,
     "metadata": {},
     "output_type": "execute_result"
    }
   ],
   "source": [
    "# Добавим признак с номерами присвоенных кластеров\n",
    "snsdf.loc[:, 'km_label'] = km_model.labels_\n",
    "# Подсчитаем численность населения кластеров\n",
    "snsdf.km_label.value_counts()"
   ]
  },
  {
   "cell_type": "markdown",
   "metadata": {},
   "source": [
    "Для каждого кластера составим топ-10 самых частых слов, назовём их ключевыми. Для этого сгруппируем данные по кластерам, в каждом кластере вычислим среднее по каждому признаку, отсортируем данные по убыванию и выделим первые 10 строк.\n",
    "\n",
    "Найдем среди ключевых слов те, которые характерны для каждого кластера, то есть встречаются в каждом из них."
   ]
  },
  {
   "cell_type": "code",
   "execution_count": 7,
   "metadata": {},
   "outputs": [
    {
     "name": "stdout",
     "output_type": "stream",
     "text": [
      "Топ 10 слов кластера №0: ['basketball', 'softball', 'football', 'volleyball', 'baseball', 'music', 'sports', 'god', 'hair', 'dance']\n",
      "Топ 10 слов кластера №1: ['music', 'god', 'dance', 'hair', 'shopping', 'band', 'rock', 'cute', 'church', 'die']\n",
      "Топ 10 слов кластера №2: ['dance', 'music', 'shopping', 'cute', 'hair', 'mall', 'god', 'church', 'clothes', 'hot']\n",
      "Топ 10 слов кластера №3: ['soccer', 'tennis', 'music', 'shopping', 'god', 'hair', 'dance', 'basketball', 'football', 'cute']\n",
      "Топ 10 слов кластера №4: ['hair', 'sex', 'music', 'kissed', 'die', 'rock', 'drugs', 'god', 'dance', 'drunk']\n",
      "Топ 10 слов кластера №5: ['hollister', 'abercrombie', 'shopping', 'music', 'hair', 'dance', 'mall', 'cute', 'god', 'clothes']\n",
      "Топ 10 слов кластера №6: ['blonde', 'sex', 'hair', 'god', 'drunk', 'death', 'die', 'football', 'dress', 'rock']\n",
      "Топ 10 слов кластера №7: ['god', 'church', 'jesus', 'music', 'bible', 'hair', 'dance', 'band', 'shopping', 'die']\n",
      "Топ 10 слов кластера №8: ['band', 'marching', 'music', 'god', 'dance', 'hair', 'rock', 'shopping', 'cute', 'football']\n",
      "Вероятные общие интересы: {'god', 'hair'}\n"
     ]
    }
   ],
   "source": [
    "top_list = []\n",
    "for label, group in snsdf.groupby('km_label'):\n",
    "    means = group.iloc[:,:-1].mean().sort_values(ascending=False)\n",
    "    top_10 = list(means.head(10).index)\n",
    "    print(f'Топ 10 слов кластера №{label}: {top_10}')\n",
    "    top_list.append(set(top_10))\n",
    "\n",
    "print(f'Вероятные общие интересы: {set.intersection(*top_list)}')"
   ]
  },
  {
   "cell_type": "markdown",
   "metadata": {},
   "source": [
    "Похоже, всем подросткам было свойственно не в последнюю очередь заботиться о волосах (с разным приоритетом от кластера к кластеру). И, вероятно, все подростки, за исключением тех, что из седьмого, имели обыкновение нарушать третюю завоведь Моисея: поминали господа всуе.\n",
    "\n",
    "В кластере 6 всего один подросток, и это может свидетельствовать о плохой кластеризации."
   ]
  },
  {
   "cell_type": "markdown",
   "metadata": {},
   "source": [
    "### Оптимизация k-means\n",
    "\n",
    "1. Попробуем применить разные методы для нахождения числа кластеров. Будем выбирать количество кластеров из диапазона от 3 до 9.\n",
    "   \n",
    "   Для начала применим метод локтя."
   ]
  },
  {
   "cell_type": "code",
   "execution_count": 8,
   "metadata": {},
   "outputs": [
    {
     "data": {
      "image/png": "[encoded data removed]",
      "text/plain": [
       "<Figure size 640x480 with 1 Axes>"
      ]
     },
     "metadata": {},
     "output_type": "display_data"
    }
   ],
   "source": [
    "# Напишем функцию для прогона алгоритма по заданному\n",
    "# числу кластеров и получения значения инерции\n",
    "def get_inertia(cluster_num, X_norm):\n",
    "    k_means =  KMeans(\n",
    "        n_clusters=cluster_num,\n",
    "        n_init=10,\n",
    "        random_state=42\n",
    "    )\n",
    "    k_means.fit(X_norm)\n",
    "    inertia = k_means.inertia_\n",
    "    return inertia\n",
    "\n",
    "# Создадим список для сбора значений инерции\n",
    "inertia = []\n",
    "# Пройдемся циклом по интервалу\n",
    "for cluster_num in range(3, 10):\n",
    "    inertia.append(get_inertia(cluster_num, X_norm))\n",
    "\n",
    "# Нарисуем графику\n",
    "plt.xlabel(\"cluster\", fontsize=12)\n",
    "plt.ylabel(\"inertia\", fontsize=12)\n",
    "plt.plot([i for i in range(3, 10)], inertia, 'xb-');"
   ]
  },
  {
   "cell_type": "markdown",
   "metadata": {},
   "source": [
    "В нашем случае метод локтя, к сожалению, малоинформативен."
   ]
  },
  {
   "cell_type": "markdown",
   "metadata": {},
   "source": [
    "2. Теперь попробуем подобрать оптимальное количество кластеров с помощью коэффициента силуэта."
   ]
  },
  {
   "cell_type": "code",
   "execution_count": 9,
   "metadata": {},
   "outputs": [
    {
     "data": {
      "image/png": "[encoded data removed]",
      "text/plain": [
       "<Figure size 640x480 with 1 Axes>"
      ]
     },
     "metadata": {},
     "output_type": "display_data"
    }
   ],
   "source": [
    "# Напишем функцию для прогона алгоритма по заданному\n",
    "# числу кластеров и получения значения коэффициента силуэта\n",
    "def get_silhouette(cluster_num, X_norm):\n",
    "    k_means =  KMeans(\n",
    "        n_clusters=cluster_num,\n",
    "        n_init=10,\n",
    "        random_state=42\n",
    "    )\n",
    "    k_means.fit(X_norm)\n",
    "    silhouette = silhouette_score(X_norm, k_means.labels_, metric='euclidean')\n",
    "    return silhouette\n",
    "\n",
    "# Создадим список для сбора значений коэффициента силуэта\n",
    "silhouettes = []\n",
    "# Пройдемся циклом по интервалу\n",
    "for i in range(3, 10):\n",
    "    silhouettes.append(get_silhouette(i, X_norm))\n",
    "\n",
    "# Нарисуем графику\n",
    "plt.xlabel(\"cluster\", fontsize=12)\n",
    "plt.ylabel(\"silhouette\", fontsize=12)\n",
    "plt.plot([i for i in range(3, 10)], silhouettes, 'xb-');"
   ]
  },
  {
   "cell_type": "markdown",
   "metadata": {},
   "source": [
    "Похоже, нам стоит воспользоваться результатом, полученным с помощью коэффициента силуэта.\n",
    "\n",
    "Реализуем сегментацию подростков на выбранном количестве кластеров."
   ]
  },
  {
   "cell_type": "code",
   "execution_count": 10,
   "metadata": {},
   "outputs": [
    {
     "name": "stdout",
     "output_type": "stream",
     "text": [
      "Инерция при 4 кластерах: 965041.28\n"
     ]
    }
   ],
   "source": [
    "# Инициализация\n",
    "km_model = KMeans(\n",
    "    n_clusters=4,\n",
    "    n_init=10,\n",
    "    random_state=42\n",
    ")\n",
    "# Обучение\n",
    "km_model.fit(X_norm)\n",
    "# Вывод инерции\n",
    "print(f'Инерция при 4 кластерах: {round(km_model.inertia_, 2)}')"
   ]
  },
  {
   "cell_type": "markdown",
   "metadata": {},
   "source": [
    "Значение инерции возросло. Разумеется, чем меньше эта величина, тем лучше. Однако здесь есть большая проблема: минимальное значение этой функции будет достигаться тогда, когда количество кластеров будет равняться количеству объектов (т. е. каждый кластер будет состоять из одной точки и расстояния будут нулевыми). Это уже будет ситуация переобучения, так как алгоритм чересчур сильно подстроится под данные."
   ]
  },
  {
   "cell_type": "code",
   "execution_count": 11,
   "metadata": {},
   "outputs": [
    {
     "data": {
      "text/plain": [
       "(array([0, 1, 2, 3]), array([22855,  6029,  1115,     1], dtype=int64))"
      ]
     },
     "execution_count": 11,
     "metadata": {},
     "output_type": "execute_result"
    }
   ],
   "source": [
    "np.unique(km_model.labels_, return_counts=True)"
   ]
  },
  {
   "cell_type": "markdown",
   "metadata": {},
   "source": [
    "В кластерe 3 оказался всего один человек. Давайте узнаем, тот же ли это подросток, что ранее в одиночестве оказался в кластере 6."
   ]
  },
  {
   "cell_type": "code",
   "execution_count": 12,
   "metadata": {},
   "outputs": [
    {
     "data": {
      "text/plain": [
       "14187    6\n",
       "Name: km_label, dtype: int32"
      ]
     },
     "execution_count": 12,
     "metadata": {},
     "output_type": "execute_result"
    }
   ],
   "source": [
    "snsdf.loc[:, 'km_label_opt'] = km_model.labels_\n",
    "snsdf[snsdf['km_label_opt'] == 3]['km_label']\n"
   ]
  },
  {
   "cell_type": "markdown",
   "metadata": {},
   "source": [
    "Да, так и есть.\n",
    "\n",
    "3. Попробуем подобрать другое число кластеров с помощью индекса Калински-Харабаса."
   ]
  },
  {
   "cell_type": "code",
   "execution_count": 13,
   "metadata": {},
   "outputs": [
    {
     "data": {
      "image/png": "[encoded data removed]",
      "text/plain": [
       "<Figure size 640x480 with 1 Axes>"
      ]
     },
     "metadata": {},
     "output_type": "display_data"
    }
   ],
   "source": [
    "# Напишем функцию для прогона алгоритма по заданному\n",
    "# числу кластеров и получения значения индекса Калински-Харабаса\n",
    "def get_calinski_harabasz(cluster_num, X_norm):\n",
    "    km_model = KMeans(\n",
    "        n_clusters=cluster_num,\n",
    "        n_init=10,\n",
    "        random_state=42\n",
    "    )\n",
    "    km_model.fit(X_norm)\n",
    "    calinski_harabasz = calinski_harabasz_score(X_norm, km_model.labels_)\n",
    "    return calinski_harabasz\n",
    "\n",
    "# Создадим список для сбора значений индекса Калински-Харабаса\n",
    "calinski_harabasz = []\n",
    "# Пройдемся циклом по интервалу\n",
    "for i in range(3, 10):\n",
    "    calinski_harabasz.append(get_calinski_harabasz(i, X_norm))\n",
    "\n",
    "# Нарисуем графику\n",
    "plt.xlabel(\"cluster\", fontsize=12)\n",
    "plt.ylabel(\"calinski_harabasz_score\", fontsize=12)\n",
    "plt.plot([i for i in range(3, 10)], calinski_harabasz, 'xb-');"
   ]
  },
  {
   "cell_type": "markdown",
   "metadata": {},
   "source": [
    "Более высокое значение индекса здесь означает, что кластеры плотные (т. е. объекты внутри них находятся близко друг к другу) и хорошо разделены. Наиболее оптимальное число кластеров по индексу Калински-Харабаса поэтому — 3."
   ]
  },
  {
   "cell_type": "code",
   "execution_count": 14,
   "metadata": {},
   "outputs": [
    {
     "name": "stdout",
     "output_type": "stream",
     "text": [
      "Инерция при 3 кластерах: 994114.72\n",
      "(array([0, 1, 2]), array([22925,  5942,  1133], dtype=int64))\n"
     ]
    }
   ],
   "source": [
    "# Инициализация\n",
    "km_model = KMeans(\n",
    "    n_clusters=3,\n",
    "    n_init=10,\n",
    "    random_state=42\n",
    ")\n",
    "# Обучение\n",
    "km_model.fit(X_norm)\n",
    "# Вывод инерции\n",
    "print(f'Инерция при 3 кластерах: {round(km_model.inertia_, 2)}')\n",
    "print(np.unique(km_model.labels_, return_counts=True))"
   ]
  },
  {
   "cell_type": "markdown",
   "metadata": {},
   "source": [
    "Выведем десяток самых частоупотребляемых слов для получившихся кластеров."
   ]
  },
  {
   "cell_type": "code",
   "execution_count": 15,
   "metadata": {},
   "outputs": [
    {
     "name": "stdout",
     "output_type": "stream",
     "text": [
      "Топ 10 слов кластера №0: ['music', 'god', 'dance', 'band', 'hair', 'shopping', 'cute', 'rock', 'soccer', 'football']\n",
      "Топ 10 слов кластера №1: ['music', 'dance', 'shopping', 'god', 'cute', 'hair', 'church', 'basketball', 'mall', 'football']\n",
      "Топ 10 слов кластера №2: ['hair', 'sex', 'music', 'kissed', 'die', 'rock', 'god', 'band', 'dance', 'drugs']\n",
      "Вероятные общие интересы: {'god', 'dance', 'music', 'hair'}\n"
     ]
    }
   ],
   "source": [
    "# Добавим признак с номерами присвоенных кластеров\n",
    "snsdf.loc[:, 'km_label_ch'] = km_model.labels_\n",
    "top_list = []\n",
    "for label, group in snsdf.groupby('km_label_ch'):\n",
    "    means = group.iloc[:,:-3].mean().sort_values(ascending=False)\n",
    "    top_10 = list(means.head(10).index)\n",
    "    print(f'Топ 10 слов кластера №{label}: {top_10}')\n",
    "    top_list.append(set(top_10))\n",
    "\n",
    "print(f'Вероятные общие интересы: {set.intersection(*top_list)}')"
   ]
  },
  {
   "cell_type": "markdown",
   "metadata": {},
   "source": [
    "4. Попробуем также расчитать индекс Дэвиса-Болдина в зависимости от числа кластеров."
   ]
  },
  {
   "cell_type": "code",
   "execution_count": 16,
   "metadata": {},
   "outputs": [
    {
     "data": {
      "image/png": "[encoded data removed]",
      "text/plain": [
       "<Figure size 640x480 with 1 Axes>"
      ]
     },
     "metadata": {},
     "output_type": "display_data"
    }
   ],
   "source": [
    "# Напишем функцию для прогона алгоритма по заданному\n",
    "# числу кластеров и получения значения индекса Дэвиса-Болдина\n",
    "def get_davies_bouldin(cluster_num, X_norm):\n",
    "    km_model = KMeans(\n",
    "        n_clusters=cluster_num,\n",
    "        n_init=10,\n",
    "        random_state=42\n",
    "    )\n",
    "    predictions = km_model.fit_predict(X_norm)\n",
    "    davies_bouldin = davies_bouldin_score(X_norm, predictions)\n",
    "    return davies_bouldin\n",
    "\n",
    "# Создадим список для сбора значений индекса Дэвиса-Болдина\n",
    "davies_bouldin = []\n",
    "# Пройдемся циклом по интервалу\n",
    "for i in range(3, 10):\n",
    "    davies_bouldin.append(get_davies_bouldin(i, X_norm))\n",
    "\n",
    "# Нарисуем графику\n",
    "plt.xlabel(\"cluster\", fontsize=12)\n",
    "plt.ylabel(\"davies_bouldin_score\", fontsize=12)\n",
    "plt.plot([i for i in range(3, 10)], davies_bouldin, 'xb-');"
   ]
  },
  {
   "cell_type": "markdown",
   "metadata": {},
   "source": [
    "Индекс Дэвиса-Болдина показывает среднюю \"схожесть\" между кластерами, и 0 — это минимально возможное значение. Разумеется, так как мы хотим, чтобы кластеры были максимально различными (т. е. имели низкую схожесть), мы должны пытаться достичь как можно более маленького значения.\n",
    "\n",
    "Ситуацию с 9 кластерами мы уже рассматривали, возьмем на этот раз случай с 8."
   ]
  },
  {
   "cell_type": "code",
   "execution_count": 17,
   "metadata": {},
   "outputs": [
    {
     "name": "stdout",
     "output_type": "stream",
     "text": [
      "Инерция при 8 кластерах: 872318.48\n",
      "(array([0, 1, 2, 3, 4, 5, 6, 7]), array([  583, 20000,   957,     1,   585,  2445,  4566,   863],\n",
      "      dtype=int64))\n"
     ]
    }
   ],
   "source": [
    "# Инициализация\n",
    "km_model = KMeans(\n",
    "    n_clusters=8,\n",
    "    n_init=10,\n",
    "    random_state=42\n",
    ")\n",
    "# Обучение\n",
    "km_model.fit(X_norm)\n",
    "# Вывод инерции\n",
    "print(f'Инерция при 8 кластерах: {round(km_model.inertia_, 2)}')\n",
    "print(np.unique(km_model.labels_, return_counts=True))"
   ]
  },
  {
   "cell_type": "markdown",
   "metadata": {},
   "source": [
    "И снова у нас имеется кластер с одним человеком. Пожалуй, на этом нам стоит перейти уже к рассмотрению другого алгоритма."
   ]
  },
  {
   "cell_type": "markdown",
   "metadata": {},
   "source": [
    "### EM\n",
    "\n",
    "Итак, с k-means мы поработали — теперь перейдём к EM-алгоритму.\n",
    "\n",
    "Реализуем EM-алгоритм (GaussianMixture) также для 9 кластеров."
   ]
  },
  {
   "cell_type": "code",
   "execution_count": 18,
   "metadata": {},
   "outputs": [
    {
     "data": {
      "text/plain": [
       "(array([0, 1, 2, 3, 4, 5, 6, 7, 8], dtype=int64),\n",
       " array([ 5669, 17261,  1263,  1658,   258,   804,     1,   626,  2460],\n",
       "       dtype=int64))"
      ]
     },
     "execution_count": 18,
     "metadata": {},
     "output_type": "execute_result"
    }
   ],
   "source": [
    "# Инициализация\n",
    "gm_model = GaussianMixture(\n",
    "    n_components=9,\n",
    "    random_state=42\n",
    ")\n",
    "# Предсказание кластера\n",
    "predictions = gm_model.fit_predict(X_norm)\n",
    "# Сводка по числу кластеров и их составу\n",
    "np.unique(predictions, return_counts=True)"
   ]
  },
  {
   "cell_type": "markdown",
   "metadata": {},
   "source": [
    "У нас снова есть кластер с одиночкой. Однако мы все же произведем анализ популярных слов."
   ]
  },
  {
   "cell_type": "code",
   "execution_count": 19,
   "metadata": {},
   "outputs": [
    {
     "name": "stdout",
     "output_type": "stream",
     "text": [
      "Топ 10 слов кластера №0 : {'volleyball', 'god', 'church', 'shopping', 'football', 'softball', 'basketball', 'soccer', 'music', 'dance'}\n",
      "Топ 10 слов кластера №1 : {'god', 'cute', 'shopping', 'hair', 'football', 'basketball', 'mall', 'rock', 'music', 'dance'}\n",
      "Топ 10 слов кластера №2 : {'sexy', 'cute', 'god', 'shopping', 'sex', 'hair', 'mall', 'rock', 'music', 'dance'}\n",
      "Топ 10 слов кластера №3 : {'cute', 'abercrombie', 'shopping', 'hollister', 'hair', 'mall', 'tennis', 'soccer', 'music', 'dance'}\n",
      "Топ 10 слов кластера №4 : {'god', 'die', 'sex', 'hair', 'basketball', 'kissed', 'band', 'rock', 'music', 'dance'}\n",
      "Топ 10 слов кластера №5 : {'cute', 'abercrombie', 'rock', 'shopping', 'sex', 'softball', 'hair', 'soccer', 'music', 'dance'}\n",
      "Топ 10 слов кластера №6 : {'death', 'god', 'die', 'hair', 'sex', 'football', 'drunk', 'dress', 'blonde', 'rock'}\n",
      "Топ 10 слов кластера №7 : {'god', 'church', 'die', 'bible', 'shopping', 'hair', 'jesus', 'band', 'music', 'dance'}\n",
      "Топ 10 слов кластера №8 : {'god', 'cute', 'sex', 'hair', 'kissed', 'marching', 'band', 'rock', 'music', 'dance'}\n",
      "Вероятные общие интересы: set()\n"
     ]
    }
   ],
   "source": [
    "snsdf.loc[:, 'gm_label'] = predictions\n",
    "top_list = []\n",
    "for label, group in snsdf.groupby('gm_label'):\n",
    "    means = group.iloc[:,:-4].mean().sort_values(ascending=False)\n",
    "    top_10 = set(means.head(10).index)\n",
    "    print(f'Топ 10 слов кластера №{label} : {top_10}')\n",
    "    top_list.append(top_10)\n",
    "\n",
    "print(f'Вероятные общие интересы: {set.intersection(*top_list)}')"
   ]
  },
  {
   "cell_type": "markdown",
   "metadata": {},
   "source": [
    "В этот раз в топах всех кластеров нет ни одного пересечения."
   ]
  },
  {
   "cell_type": "markdown",
   "metadata": {},
   "source": [
    "### Оптимизация EM\n",
    "\n",
    "Т.к. EM-алгоритм оперирует не расстояниями, а вероятностями, метод локтя применить мы не сможем. \n",
    "\n",
    "1. Поэтому рассмотрим сразу применение коэффициента силуэта."
   ]
  },
  {
   "cell_type": "code",
   "execution_count": 20,
   "metadata": {},
   "outputs": [
    {
     "data": {
      "image/png": "[encoded data removed]",
      "text/plain": [
       "<Figure size 640x480 with 1 Axes>"
      ]
     },
     "metadata": {},
     "output_type": "display_data"
    }
   ],
   "source": [
    "# Напишем функцию для прогона алгоритма по заданному\n",
    "# числу кластеров и получения значения коэффициента силуэта\n",
    "def get_silhouette_gm(cluster_num, X_norm):\n",
    "    gm_model = GaussianMixture(\n",
    "    n_components=cluster_num,\n",
    "    random_state=42\n",
    "    )\n",
    "    predictions = gm_model.fit_predict(X_norm)\n",
    "    silhouette = silhouette_score(X_norm, predictions, metric='euclidean')\n",
    "    return silhouette\n",
    "\n",
    "# Создадим список для сбора значений коэффициента силуэта\n",
    "silhouettes_gm = []\n",
    "# Пройдемся циклом по интервалу\n",
    "for i in range(3, 10):\n",
    "    silhouettes_gm.append(get_silhouette_gm(i, X_norm))\n",
    "\n",
    "# Нарисуем графику\n",
    "plt.xlabel(\"cluster\", fontsize=12)\n",
    "plt.ylabel(\"silhouette\", fontsize=12)\n",
    "plt.plot([i for i in range(3, 10)], silhouettes_gm, 'xb-');"
   ]
  },
  {
   "cell_type": "code",
   "execution_count": 21,
   "metadata": {},
   "outputs": [
    {
     "data": {
      "text/plain": [
       "(array([0, 1, 2], dtype=int64), array([20670,  2874,  6456], dtype=int64))"
      ]
     },
     "execution_count": 21,
     "metadata": {},
     "output_type": "execute_result"
    }
   ],
   "source": [
    "# Инициализация\n",
    "gm_model = GaussianMixture(\n",
    "    n_components=3,\n",
    "    random_state=42\n",
    ")\n",
    "# Предсказание кластера\n",
    "predictions = gm_model.fit_predict(X_norm)\n",
    "# Сводка по числу кластеров и их составу\n",
    "np.unique(predictions, return_counts=True)"
   ]
  },
  {
   "cell_type": "code",
   "execution_count": 22,
   "metadata": {},
   "outputs": [
    {
     "name": "stdout",
     "output_type": "stream",
     "text": [
      "Топ 10 слов кластера №0 : {'god', 'cute', 'shopping', 'hair', 'football', 'basketball', 'mall', 'band', 'music', 'dance'}\n",
      "Топ 10 слов кластера №1 : {'god', 'die', 'sex', 'hair', 'drugs', 'kissed', 'band', 'rock', 'music', 'dance'}\n",
      "Топ 10 слов кластера №2 : {'god', 'cute', 'church', 'shopping', 'hair', 'softball', 'basketball', 'soccer', 'music', 'dance'}\n",
      "Вероятные общие интересы: {'god', 'dance', 'music', 'hair'}\n"
     ]
    }
   ],
   "source": [
    "snsdf.loc[:, 'gm_label_opt'] = predictions\n",
    "top_list = []\n",
    "for label, group in snsdf.groupby('gm_label_opt'):\n",
    "    means = group.iloc[:,:-5].mean().sort_values(ascending=False)\n",
    "    top_10 = set(means.head(10).index)\n",
    "    print(f'Топ 10 слов кластера №{label} : {top_10}')\n",
    "    top_list.append(top_10)\n",
    "\n",
    "print(f'Вероятные общие интересы: {set.intersection(*top_list)}')"
   ]
  },
  {
   "cell_type": "markdown",
   "metadata": {},
   "source": [
    "Результат хоть и довольно похож на тот случай, в котором мы получали три кластера с помощью k-means, но их состав на этот раз иной, хоть мы и наблюдаем те же самые пересечния между топами.\n",
    "\n",
    "2. Рассмотрим применение индекса Дэвиса-Болдина."
   ]
  },
  {
   "cell_type": "code",
   "execution_count": 23,
   "metadata": {},
   "outputs": [
    {
     "data": {
      "image/png": "[encoded data removed]",
      "text/plain": [
       "<Figure size 640x480 with 1 Axes>"
      ]
     },
     "metadata": {},
     "output_type": "display_data"
    }
   ],
   "source": [
    "# Напишем функцию для прогона алгоритма по заданному\n",
    "# числу кластеров и получения значения индекса Дэвиса-Болдина\n",
    "def get_davies_bouldin_gm(cluster_num, X_norm):\n",
    "    gm_model = GaussianMixture(\n",
    "        n_components=cluster_num,\n",
    "        random_state=42\n",
    "    )\n",
    "    predictions = gm_model.fit_predict(X_norm)\n",
    "    davies_bouldin = davies_bouldin_score(X_norm, predictions)\n",
    "    return davies_bouldin\n",
    "\n",
    "# Создадим список для сбора значений индекса Дэвиса-Болдина\n",
    "davies_bouldin_gm = []\n",
    "# Пройдемся циклом по интервалу\n",
    "for i in range(3, 10):\n",
    "    davies_bouldin_gm.append(get_davies_bouldin_gm(i, X_norm))\n",
    "\n",
    "# Нарисуем графику\n",
    "plt.xlabel(\"cluster\", fontsize=12)\n",
    "plt.ylabel(\"davies_bouldin_score\", fontsize=12)\n",
    "plt.plot([i for i in range(3, 10)], davies_bouldin_gm, 'xb-');"
   ]
  },
  {
   "cell_type": "markdown",
   "metadata": {},
   "source": [
    "Индекс Дэвиса-Болдина рекомендует нам взять число кластеров — 7."
   ]
  },
  {
   "cell_type": "code",
   "execution_count": 24,
   "metadata": {},
   "outputs": [
    {
     "data": {
      "text/plain": [
       "(array([0, 1, 2, 3, 4, 5, 6], dtype=int64),\n",
       " array([16458,   346,  5645,  2564,   637,  2874,  1476], dtype=int64))"
      ]
     },
     "execution_count": 24,
     "metadata": {},
     "output_type": "execute_result"
    }
   ],
   "source": [
    "# Инициализация\n",
    "gm_model = GaussianMixture(\n",
    "    n_components=7,\n",
    "    random_state=42\n",
    ")\n",
    "# Предсказание кластера\n",
    "predictions = gm_model.fit_predict(X_norm)\n",
    "# Сводка по числу кластеров и их составу\n",
    "np.unique(predictions, return_counts=True)"
   ]
  },
  {
   "cell_type": "code",
   "execution_count": 25,
   "metadata": {},
   "outputs": [
    {
     "name": "stdout",
     "output_type": "stream",
     "text": [
      "Топ 10 слов кластера №0 : {'god', 'cute', 'shopping', 'hair', 'football', 'mall', 'band', 'rock', 'music', 'dance'}\n",
      "Топ 10 слов кластера №1 : {'god', 'cute', 'sex', 'hair', 'blonde', 'kissed', 'band', 'rock', 'music', 'dance'}\n",
      "Топ 10 слов кластера №2 : {'volleyball', 'god', 'church', 'shopping', 'football', 'softball', 'basketball', 'soccer', 'music', 'dance'}\n",
      "Топ 10 слов кластера №3 : {'cute', 'god', 'shopping', 'hair', 'football', 'basketball', 'mall', 'cheerleading', 'music', 'dance'}\n",
      "Топ 10 слов кластера №4 : {'god', 'church', 'die', 'bible', 'shopping', 'hair', 'jesus', 'band', 'music', 'dance'}\n",
      "Топ 10 слов кластера №5 : {'god', 'cute', 'die', 'sex', 'hair', 'kissed', 'band', 'rock', 'music', 'dance'}\n",
      "Топ 10 слов кластера №6 : {'cute', 'abercrombie', 'god', 'shopping', 'hollister', 'hair', 'mall', 'soccer', 'music', 'dance'}\n",
      "Вероятные общие интересы: {'god', 'music', 'dance'}\n"
     ]
    }
   ],
   "source": [
    "snsdf.loc[:, 'gm_label_db'] = predictions\n",
    "top_list = []\n",
    "for label, group in snsdf.groupby('gm_label_db'):\n",
    "    means = group.iloc[:,:-6].mean().sort_values(ascending=False)\n",
    "    top_10 = set(means.head(10).index)\n",
    "    print(f'Топ 10 слов кластера №{label} : {top_10}')\n",
    "    top_list.append(top_10)\n",
    "\n",
    "print(f'Вероятные общие интересы: {set.intersection(*top_list)}')"
   ]
  },
  {
   "cell_type": "markdown",
   "metadata": {},
   "source": [
    "Мы получили кластеры без одиночек и, вероятно, довольно разные по интересам.\n",
    "\n",
    "3. Но мы еще не рассмотрели вариант с индексом Калински-Харабаса."
   ]
  },
  {
   "cell_type": "code",
   "execution_count": 26,
   "metadata": {},
   "outputs": [
    {
     "data": {
      "image/png": "[encoded data removed]",
      "text/plain": [
       "<Figure size 640x480 with 1 Axes>"
      ]
     },
     "metadata": {},
     "output_type": "display_data"
    }
   ],
   "source": [
    "# Напишем функцию для прогона алгоритма по заданному\n",
    "# числу кластеров и получения значения индекса Калински-Харабаса\n",
    "def get_calinski_harabasz_gm(cluster_num, X_norm):\n",
    "    gm_model = GaussianMixture(\n",
    "        n_components=cluster_num,\n",
    "        random_state=42\n",
    "    )\n",
    "    predictions = gm_model.fit_predict(X_norm)\n",
    "    calinski_harabasz = calinski_harabasz_score(X_norm, predictions)\n",
    "    return calinski_harabasz\n",
    "\n",
    "# Создадим список для сбора значений индекса Калински-Харабаса\n",
    "calinski_harabasz_gm = []\n",
    "# Пройдемся циклом по интервалу\n",
    "for i in range(3, 10):\n",
    "    calinski_harabasz_gm.append(get_calinski_harabasz_gm(i, X_norm))\n",
    "\n",
    "# Нарисуем графику\n",
    "plt.xlabel(\"cluster\", fontsize=12)\n",
    "plt.ylabel(\"calinski_harabasz_score\", fontsize=12)\n",
    "plt.plot([i for i in range(3, 10)], calinski_harabasz_gm, 'xb-');"
   ]
  },
  {
   "cell_type": "markdown",
   "metadata": {},
   "source": [
    "Здесь нам снова предлагается использовать три кластера, а такой случай мы уже рассмотрели выше."
   ]
  },
  {
   "cell_type": "markdown",
   "metadata": {},
   "source": [
    "## Итог"
   ]
  },
  {
   "cell_type": "markdown",
   "metadata": {},
   "source": [
    "Отметим, наконец, что некоторую кластеризацию мы произвести смогли, однако мы никогда не сможем до конца убедиться в том, что она действительно была объективна. И дело не в том, что в нашем кейсе фигурируют довольно старые данные и сегментирующая модель, обученная на них, мало кому нынче может быть полезна. Загвоздка в том, я полагаю, что успешность кластеризации легче всего достовернее оценить путем непосредственного приложения модели к практике.\n",
    "\n",
    "Использованные нами метрики помогают лишь оценить кластеризацию изнутри. Они действительно помогают нам сделать сегментацию качественнее, но мы остаемся оторванными от реальности. Сильнее всего это касается, наверное, именно нашего случая — когда у нас нет и размеченных данных."
   ]
  }
 ],
 "metadata": {
  "kernelspec": {
   "display_name": "Python 3",
   "language": "python",
   "name": "python3"
  },
  "language_info": {
   "codemirror_mode": {
    "name": "ipython",
    "version": 3
   },
   "file_extension": ".py",
   "mimetype": "text/x-python",
   "name": "python",
   "nbconvert_exporter": "python",
   "pygments_lexer": "ipython3",
   "version": "3.11.1"
  }
 },
 "nbformat": 4,
 "nbformat_minor": 2
}
